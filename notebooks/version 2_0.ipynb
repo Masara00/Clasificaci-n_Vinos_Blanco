{
 "cells": [
  {
   "cell_type": "markdown",
   "metadata": {},
   "source": [
    "<font size=\"7\"><span style=\"color:green\">Librerías"
   ]
  },
  {
   "cell_type": "code",
   "execution_count": 30,
   "metadata": {},
   "outputs": [],
   "source": [
    "import numpy as np\n",
    "import pandas as pd\n",
    "import seaborn as sns\n",
    "import matplotlib.pyplot as plt\n",
    "\n",
    "# Modelos\n",
    "from sklearn.linear_model import LogisticRegression\n",
    "from sklearn.svm import SVC\n",
    "from sklearn.neighbors import KNeighborsClassifier\n",
    "from sklearn.ensemble import RandomForestClassifier, GradientBoostingClassifier\n",
    "from sklearn.tree import DecisionTreeClassifier  \n",
    "from sklearn.ensemble import AdaBoostClassifier \n",
    "    # NOTA\n",
    "    # para el AdaBoost hay que probar diferentes max_depth del DecisionTreeClassifier para ver cuál es el mejor\n",
    "\n",
    "import xgboost\n",
    "    # NOTA\n",
    "    # xgboost.XGBRFClassifier En cada secuencia tiene un RandomForest\n",
    "    # xgboost.XGBClassifier sin RandomForest\n",
    "\n",
    "# ------------------\n",
    "\n",
    "# Pipeline\n",
    "from sklearn.pipeline import Pipeline\n",
    "    # NOTA\n",
    "    # Hay que poner las etiquetas automáticamente. El otro es 'from sklearn.pipeline import make_pipeline'\n",
    "\n",
    "# ------------------\n",
    "\n",
    "# Métricas de validación\n",
    "from sklearn.model_selection import cross_val_score\n",
    "from sklearn.metrics import accuracy_score, precision_score, recall_score, roc_auc_score\n",
    "# ------------------\n",
    "\n",
    "# GridSearch\n",
    "from sklearn.model_selection import GridSearchCV\n",
    "\n",
    "# ------------------\n",
    "\n",
    "# Otras\n",
    "from sklearn.preprocessing import StandardScaler\n",
    "from sklearn.feature_selection import SelectKBest\n",
    "from sklearn.metrics import classification_report, confusion_matrix\n",
    "from sklearn.model_selection import train_test_split\n",
    "\n",
    "\n"
   ]
  },
  {
   "cell_type": "markdown",
   "metadata": {},
   "source": [
    "-----------\n",
    "<font size=\"7\"><span style=\"color:green\">Dataset y análisis exploratorio de datos"
   ]
  },
  {
   "cell_type": "markdown",
   "metadata": {},
   "source": [
    "Dataset: Wine Quality: (6497 filas)\n",
    "    . La muestra incluye 25% de vino tinto y 75% de vino blanco\n",
    "    . Contiene algunos valores nulos.\n",
    "\n",
    "https://www.kaggle.com/datasets/rajyellow46/wine-quality\n",
    "\n",
    "Los modelos a utilizar serán supervisados y de clasificación.\n",
    "\n",
    "Queremos ver si un vino es suficientemente bueno para su comercialización en función de sus variables fisicoquímicas.\n",
    "(Otras variables que no tengo y que podrían ser relevantes para entrenar un mejor modelo es el tipo de uva, tiempo de fermentación, tiempo en barrica y tipo de barrica)"
   ]
  },
  {
   "cell_type": "code",
   "execution_count": 2,
   "metadata": {},
   "outputs": [],
   "source": [
    "vinos = pd.read_csv('data/winequalityN.csv')"
   ]
  },
  {
   "cell_type": "code",
   "execution_count": 3,
   "metadata": {},
   "outputs": [
    {
     "data": {
      "text/html": [
       "<div>\n",
       "<style scoped>\n",
       "    .dataframe tbody tr th:only-of-type {\n",
       "        vertical-align: middle;\n",
       "    }\n",
       "\n",
       "    .dataframe tbody tr th {\n",
       "        vertical-align: top;\n",
       "    }\n",
       "\n",
       "    .dataframe thead th {\n",
       "        text-align: right;\n",
       "    }\n",
       "</style>\n",
       "<table border=\"1\" class=\"dataframe\">\n",
       "  <thead>\n",
       "    <tr style=\"text-align: right;\">\n",
       "      <th></th>\n",
       "      <th>type</th>\n",
       "      <th>fixed acidity</th>\n",
       "      <th>volatile acidity</th>\n",
       "      <th>citric acid</th>\n",
       "      <th>residual sugar</th>\n",
       "      <th>chlorides</th>\n",
       "      <th>free sulfur dioxide</th>\n",
       "      <th>total sulfur dioxide</th>\n",
       "      <th>density</th>\n",
       "      <th>pH</th>\n",
       "      <th>sulphates</th>\n",
       "      <th>alcohol</th>\n",
       "      <th>quality</th>\n",
       "    </tr>\n",
       "  </thead>\n",
       "  <tbody>\n",
       "    <tr>\n",
       "      <th>0</th>\n",
       "      <td>white</td>\n",
       "      <td>7.0</td>\n",
       "      <td>0.27</td>\n",
       "      <td>0.36</td>\n",
       "      <td>20.7</td>\n",
       "      <td>0.045</td>\n",
       "      <td>45.0</td>\n",
       "      <td>170.0</td>\n",
       "      <td>1.0010</td>\n",
       "      <td>3.00</td>\n",
       "      <td>0.45</td>\n",
       "      <td>8.8</td>\n",
       "      <td>6</td>\n",
       "    </tr>\n",
       "    <tr>\n",
       "      <th>1</th>\n",
       "      <td>white</td>\n",
       "      <td>6.3</td>\n",
       "      <td>0.30</td>\n",
       "      <td>0.34</td>\n",
       "      <td>1.6</td>\n",
       "      <td>0.049</td>\n",
       "      <td>14.0</td>\n",
       "      <td>132.0</td>\n",
       "      <td>0.9940</td>\n",
       "      <td>3.30</td>\n",
       "      <td>0.49</td>\n",
       "      <td>9.5</td>\n",
       "      <td>6</td>\n",
       "    </tr>\n",
       "    <tr>\n",
       "      <th>2</th>\n",
       "      <td>white</td>\n",
       "      <td>8.1</td>\n",
       "      <td>0.28</td>\n",
       "      <td>0.40</td>\n",
       "      <td>6.9</td>\n",
       "      <td>0.050</td>\n",
       "      <td>30.0</td>\n",
       "      <td>97.0</td>\n",
       "      <td>0.9951</td>\n",
       "      <td>3.26</td>\n",
       "      <td>0.44</td>\n",
       "      <td>10.1</td>\n",
       "      <td>6</td>\n",
       "    </tr>\n",
       "    <tr>\n",
       "      <th>3</th>\n",
       "      <td>white</td>\n",
       "      <td>7.2</td>\n",
       "      <td>0.23</td>\n",
       "      <td>0.32</td>\n",
       "      <td>8.5</td>\n",
       "      <td>0.058</td>\n",
       "      <td>47.0</td>\n",
       "      <td>186.0</td>\n",
       "      <td>0.9956</td>\n",
       "      <td>3.19</td>\n",
       "      <td>0.40</td>\n",
       "      <td>9.9</td>\n",
       "      <td>6</td>\n",
       "    </tr>\n",
       "    <tr>\n",
       "      <th>4</th>\n",
       "      <td>white</td>\n",
       "      <td>7.2</td>\n",
       "      <td>0.23</td>\n",
       "      <td>0.32</td>\n",
       "      <td>8.5</td>\n",
       "      <td>0.058</td>\n",
       "      <td>47.0</td>\n",
       "      <td>186.0</td>\n",
       "      <td>0.9956</td>\n",
       "      <td>3.19</td>\n",
       "      <td>0.40</td>\n",
       "      <td>9.9</td>\n",
       "      <td>6</td>\n",
       "    </tr>\n",
       "  </tbody>\n",
       "</table>\n",
       "</div>"
      ],
      "text/plain": [
       "    type  fixed acidity  volatile acidity  citric acid  residual sugar  \\\n",
       "0  white            7.0              0.27         0.36            20.7   \n",
       "1  white            6.3              0.30         0.34             1.6   \n",
       "2  white            8.1              0.28         0.40             6.9   \n",
       "3  white            7.2              0.23         0.32             8.5   \n",
       "4  white            7.2              0.23         0.32             8.5   \n",
       "\n",
       "   chlorides  free sulfur dioxide  total sulfur dioxide  density    pH  \\\n",
       "0      0.045                 45.0                 170.0   1.0010  3.00   \n",
       "1      0.049                 14.0                 132.0   0.9940  3.30   \n",
       "2      0.050                 30.0                  97.0   0.9951  3.26   \n",
       "3      0.058                 47.0                 186.0   0.9956  3.19   \n",
       "4      0.058                 47.0                 186.0   0.9956  3.19   \n",
       "\n",
       "   sulphates  alcohol  quality  \n",
       "0       0.45      8.8        6  \n",
       "1       0.49      9.5        6  \n",
       "2       0.44     10.1        6  \n",
       "3       0.40      9.9        6  \n",
       "4       0.40      9.9        6  "
      ]
     },
     "execution_count": 3,
     "metadata": {},
     "output_type": "execute_result"
    }
   ],
   "source": [
    "vinos.head()"
   ]
  },
  {
   "cell_type": "code",
   "execution_count": 4,
   "metadata": {},
   "outputs": [
    {
     "name": "stdout",
     "output_type": "stream",
     "text": [
      "<class 'pandas.core.frame.DataFrame'>\n",
      "RangeIndex: 6497 entries, 0 to 6496\n",
      "Data columns (total 13 columns):\n",
      " #   Column                Non-Null Count  Dtype  \n",
      "---  ------                --------------  -----  \n",
      " 0   type                  6497 non-null   object \n",
      " 1   fixed acidity         6487 non-null   float64\n",
      " 2   volatile acidity      6489 non-null   float64\n",
      " 3   citric acid           6494 non-null   float64\n",
      " 4   residual sugar        6495 non-null   float64\n",
      " 5   chlorides             6495 non-null   float64\n",
      " 6   free sulfur dioxide   6497 non-null   float64\n",
      " 7   total sulfur dioxide  6497 non-null   float64\n",
      " 8   density               6497 non-null   float64\n",
      " 9   pH                    6488 non-null   float64\n",
      " 10  sulphates             6493 non-null   float64\n",
      " 11  alcohol               6497 non-null   float64\n",
      " 12  quality               6497 non-null   int64  \n",
      "dtypes: float64(11), int64(1), object(1)\n",
      "memory usage: 660.0+ KB\n"
     ]
    }
   ],
   "source": [
    "vinos.info()"
   ]
  },
  {
   "cell_type": "code",
   "execution_count": 3,
   "metadata": {},
   "outputs": [
    {
     "name": "stdout",
     "output_type": "stream",
     "text": [
      "Total vinos blanco  4898\n",
      "Total vinos tinto  1599\n"
     ]
    }
   ],
   "source": [
    "print('Total vinos blanco ',(vinos[vinos['type']=='white']['type'].count()))\n",
    "print('Total vinos tinto ',(vinos[vinos['type']=='red']['type'].count()))"
   ]
  },
  {
   "cell_type": "markdown",
   "metadata": {},
   "source": [
    "--------\n",
    "<font size=\"6\"><span style=\"color:blue\">Comprobación de parámetros de vino tinto y blanco"
   ]
  },
  {
   "cell_type": "code",
   "execution_count": 6,
   "metadata": {},
   "outputs": [],
   "source": [
    "# Hipotesis\n",
    "\n",
    "# Los vinos tinto y blanco tienen diferentes procesos de elaboración y no se basarán en los mismos parámetros para \n",
    "# determinar su calidad."
   ]
  },
  {
   "cell_type": "code",
   "execution_count": 4,
   "metadata": {},
   "outputs": [
    {
     "name": "stdout",
     "output_type": "stream",
     "text": [
      "Blanco  fixed acidity 6.855531697341513\n",
      "Tinto  fixed acidity 8.32210394489668\n",
      "--------------------------------------------------\n",
      "Blanco  volatile acidity 0.2782518912287875\n",
      "Tinto  volatile acidity 0.5277377972465582\n",
      "--------------------------------------------------\n",
      "Blanco  citric acid 0.3342504084967321\n",
      "Tinto  citric acid 0.2711451814768461\n",
      "--------------------------------------------------\n",
      "Blanco  residual sugar 6.3932495915032685\n",
      "Tinto  residual sugar 2.53880550343965\n",
      "--------------------------------------------------\n",
      "Blanco  chlorides 0.045778390522875814\n",
      "Tinto  chlorides 0.08746654158849279\n",
      "--------------------------------------------------\n",
      "Blanco  free sulfur dioxide 35.30808493262556\n",
      "Tinto  free sulfur dioxide 15.874921826141339\n",
      "--------------------------------------------------\n",
      "Blanco  total sulfur dioxide 138.36065741118824\n",
      "Tinto  total sulfur dioxide 46.46779237023139\n",
      "--------------------------------------------------\n",
      "Blanco  density 0.9940273764801959\n",
      "Tinto  density 0.9967466791744841\n"
     ]
    }
   ],
   "source": [
    "print('Blanco',' fixed acidity',(vinos[vinos['type']=='white']['fixed acidity'].mean()))\n",
    "print('Tinto',' fixed acidity',(vinos[vinos['type']=='red']['fixed acidity'].mean()))\n",
    "print('-'*50)\n",
    "\n",
    "print('Blanco',' volatile acidity',(vinos[vinos['type']=='white']['volatile acidity'].mean()))\n",
    "print('Tinto',' volatile acidity',(vinos[vinos['type']=='red']['volatile acidity'].mean()))\n",
    "print('-'*50)\n",
    "\n",
    "print('Blanco',' citric acid',(vinos[vinos['type']=='white']['citric acid'].mean()))\n",
    "print('Tinto',' citric acid',(vinos[vinos['type']=='red']['citric acid'].mean()))\n",
    "print('-'*50)\n",
    "\n",
    "print('Blanco',' residual sugar',(vinos[vinos['type']=='white']['residual sugar'].mean()))\n",
    "print('Tinto',' residual sugar',(vinos[vinos['type']=='red']['residual sugar'].mean()))\n",
    "print('-'*50)\n",
    "\n",
    "print('Blanco',' chlorides',(vinos[vinos['type']=='white']['chlorides'].mean()))\n",
    "print('Tinto',' chlorides',(vinos[vinos['type']=='red']['chlorides'].mean()))\n",
    "print('-'*50)\n",
    "\n",
    "print('Blanco',' free sulfur dioxide',(vinos[vinos['type']=='white']['free sulfur dioxide'].mean()))\n",
    "print('Tinto',' free sulfur dioxide',(vinos[vinos['type']=='red']['free sulfur dioxide'].mean()))\n",
    "print('-'*50)\n",
    "\n",
    "print('Blanco',' total sulfur dioxide',(vinos[vinos['type']=='white']['total sulfur dioxide'].mean()))\n",
    "print('Tinto',' total sulfur dioxide',(vinos[vinos['type']=='red']['total sulfur dioxide'].mean()))\n",
    "print('-'*50)\n",
    "\n",
    "print('Blanco',' density',(vinos[vinos['type']=='white']['density'].mean()))\n",
    "print('Tinto',' density',(vinos[vinos['type']=='red']['density'].mean()))"
   ]
  },
  {
   "cell_type": "code",
   "execution_count": 5,
   "metadata": {},
   "outputs": [
    {
     "name": "stdout",
     "output_type": "stream",
     "text": [
      "Blanco  pH 3.188202821508894\n",
      "Tinto  pH 3.3108641202254225\n",
      "--------------------------------------------------\n",
      "Blanco  sulphates 0.48983455882352944\n",
      "Tinto  sulphates 0.6580776455854727\n",
      "--------------------------------------------------\n",
      "Blanco  alcohol 10.51426704777011\n",
      "Tinto  alcohol 10.422983114446529\n",
      "--------------------------------------------------\n",
      "Blanco  quality 5.87790935075541\n",
      "Tinto  quality 5.6360225140712945\n"
     ]
    }
   ],
   "source": [
    "print('Blanco',' pH',(vinos[vinos['type']=='white']['pH'].mean()))\n",
    "print('Tinto',' pH',(vinos[vinos['type']=='red']['pH'].mean()))\n",
    "print('-'*50)\n",
    "\n",
    "print('Blanco',' sulphates',(vinos[vinos['type']=='white']['sulphates'].mean()))\n",
    "print('Tinto',' sulphates',(vinos[vinos['type']=='red']['sulphates'].mean()))\n",
    "print('-'*50)\n",
    "\n",
    "print('Blanco',' alcohol',(vinos[vinos['type']=='white']['alcohol'].mean()))\n",
    "print('Tinto',' alcohol',(vinos[vinos['type']=='red']['alcohol'].mean()))\n",
    "print('-'*50)\n",
    "\n",
    "print('Blanco',' quality',(vinos[vinos['type']=='white']['quality'].mean()))\n",
    "print('Tinto',' quality',(vinos[vinos['type']=='red']['quality'].mean()))"
   ]
  },
  {
   "cell_type": "code",
   "execution_count": 9,
   "metadata": {},
   "outputs": [],
   "source": [
    "# Vemos que la media en la mayoría de sus parámetros son muy diferentes, mientras que la de la calidad no.\n",
    "# Con esto hemos comprobado que la hipótesis anterior era cierta y habrá que separarlos."
   ]
  },
  {
   "cell_type": "markdown",
   "metadata": {},
   "source": [
    "--------\n",
    "<font size=\"6\"><span style=\"color:blue\">Dividir el df en dos: Blancos y Tintos"
   ]
  },
  {
   "cell_type": "markdown",
   "metadata": {},
   "source": [
    "BLANCO"
   ]
  },
  {
   "cell_type": "code",
   "execution_count": 6,
   "metadata": {},
   "outputs": [],
   "source": [
    "blanco=vinos[vinos['type']=='white'].reset_index()\n",
    "blanco = blanco.drop(['index', 'type'], axis=1)"
   ]
  },
  {
   "cell_type": "code",
   "execution_count": 11,
   "metadata": {},
   "outputs": [
    {
     "data": {
      "text/html": [
       "<div>\n",
       "<style scoped>\n",
       "    .dataframe tbody tr th:only-of-type {\n",
       "        vertical-align: middle;\n",
       "    }\n",
       "\n",
       "    .dataframe tbody tr th {\n",
       "        vertical-align: top;\n",
       "    }\n",
       "\n",
       "    .dataframe thead th {\n",
       "        text-align: right;\n",
       "    }\n",
       "</style>\n",
       "<table border=\"1\" class=\"dataframe\">\n",
       "  <thead>\n",
       "    <tr style=\"text-align: right;\">\n",
       "      <th></th>\n",
       "      <th>fixed acidity</th>\n",
       "      <th>volatile acidity</th>\n",
       "      <th>citric acid</th>\n",
       "      <th>residual sugar</th>\n",
       "      <th>chlorides</th>\n",
       "      <th>free sulfur dioxide</th>\n",
       "      <th>total sulfur dioxide</th>\n",
       "      <th>density</th>\n",
       "      <th>pH</th>\n",
       "      <th>sulphates</th>\n",
       "      <th>alcohol</th>\n",
       "      <th>quality</th>\n",
       "    </tr>\n",
       "  </thead>\n",
       "  <tbody>\n",
       "    <tr>\n",
       "      <th>0</th>\n",
       "      <td>7.0</td>\n",
       "      <td>0.27</td>\n",
       "      <td>0.36</td>\n",
       "      <td>20.7</td>\n",
       "      <td>0.045</td>\n",
       "      <td>45.0</td>\n",
       "      <td>170.0</td>\n",
       "      <td>1.0010</td>\n",
       "      <td>3.00</td>\n",
       "      <td>0.45</td>\n",
       "      <td>8.8</td>\n",
       "      <td>6</td>\n",
       "    </tr>\n",
       "    <tr>\n",
       "      <th>1</th>\n",
       "      <td>6.3</td>\n",
       "      <td>0.30</td>\n",
       "      <td>0.34</td>\n",
       "      <td>1.6</td>\n",
       "      <td>0.049</td>\n",
       "      <td>14.0</td>\n",
       "      <td>132.0</td>\n",
       "      <td>0.9940</td>\n",
       "      <td>3.30</td>\n",
       "      <td>0.49</td>\n",
       "      <td>9.5</td>\n",
       "      <td>6</td>\n",
       "    </tr>\n",
       "    <tr>\n",
       "      <th>2</th>\n",
       "      <td>8.1</td>\n",
       "      <td>0.28</td>\n",
       "      <td>0.40</td>\n",
       "      <td>6.9</td>\n",
       "      <td>0.050</td>\n",
       "      <td>30.0</td>\n",
       "      <td>97.0</td>\n",
       "      <td>0.9951</td>\n",
       "      <td>3.26</td>\n",
       "      <td>0.44</td>\n",
       "      <td>10.1</td>\n",
       "      <td>6</td>\n",
       "    </tr>\n",
       "    <tr>\n",
       "      <th>3</th>\n",
       "      <td>7.2</td>\n",
       "      <td>0.23</td>\n",
       "      <td>0.32</td>\n",
       "      <td>8.5</td>\n",
       "      <td>0.058</td>\n",
       "      <td>47.0</td>\n",
       "      <td>186.0</td>\n",
       "      <td>0.9956</td>\n",
       "      <td>3.19</td>\n",
       "      <td>0.40</td>\n",
       "      <td>9.9</td>\n",
       "      <td>6</td>\n",
       "    </tr>\n",
       "    <tr>\n",
       "      <th>4</th>\n",
       "      <td>7.2</td>\n",
       "      <td>0.23</td>\n",
       "      <td>0.32</td>\n",
       "      <td>8.5</td>\n",
       "      <td>0.058</td>\n",
       "      <td>47.0</td>\n",
       "      <td>186.0</td>\n",
       "      <td>0.9956</td>\n",
       "      <td>3.19</td>\n",
       "      <td>0.40</td>\n",
       "      <td>9.9</td>\n",
       "      <td>6</td>\n",
       "    </tr>\n",
       "  </tbody>\n",
       "</table>\n",
       "</div>"
      ],
      "text/plain": [
       "   fixed acidity  volatile acidity  citric acid  residual sugar  chlorides  \\\n",
       "0            7.0              0.27         0.36            20.7      0.045   \n",
       "1            6.3              0.30         0.34             1.6      0.049   \n",
       "2            8.1              0.28         0.40             6.9      0.050   \n",
       "3            7.2              0.23         0.32             8.5      0.058   \n",
       "4            7.2              0.23         0.32             8.5      0.058   \n",
       "\n",
       "   free sulfur dioxide  total sulfur dioxide  density    pH  sulphates  \\\n",
       "0                 45.0                 170.0   1.0010  3.00       0.45   \n",
       "1                 14.0                 132.0   0.9940  3.30       0.49   \n",
       "2                 30.0                  97.0   0.9951  3.26       0.44   \n",
       "3                 47.0                 186.0   0.9956  3.19       0.40   \n",
       "4                 47.0                 186.0   0.9956  3.19       0.40   \n",
       "\n",
       "   alcohol  quality  \n",
       "0      8.8        6  \n",
       "1      9.5        6  \n",
       "2     10.1        6  \n",
       "3      9.9        6  \n",
       "4      9.9        6  "
      ]
     },
     "execution_count": 11,
     "metadata": {},
     "output_type": "execute_result"
    }
   ],
   "source": [
    "blanco.head()"
   ]
  },
  {
   "cell_type": "code",
   "execution_count": 7,
   "metadata": {},
   "outputs": [
    {
     "name": "stdout",
     "output_type": "stream",
     "text": [
      "<class 'pandas.core.frame.DataFrame'>\n",
      "RangeIndex: 4898 entries, 0 to 4897\n",
      "Data columns (total 12 columns):\n",
      " #   Column                Non-Null Count  Dtype  \n",
      "---  ------                --------------  -----  \n",
      " 0   fixed acidity         4890 non-null   float64\n",
      " 1   volatile acidity      4891 non-null   float64\n",
      " 2   citric acid           4896 non-null   float64\n",
      " 3   residual sugar        4896 non-null   float64\n",
      " 4   chlorides             4896 non-null   float64\n",
      " 5   free sulfur dioxide   4898 non-null   float64\n",
      " 6   total sulfur dioxide  4898 non-null   float64\n",
      " 7   density               4898 non-null   float64\n",
      " 8   pH                    4891 non-null   float64\n",
      " 9   sulphates             4896 non-null   float64\n",
      " 10  alcohol               4898 non-null   float64\n",
      " 11  quality               4898 non-null   int64  \n",
      "dtypes: float64(11), int64(1)\n",
      "memory usage: 459.3 KB\n"
     ]
    }
   ],
   "source": [
    "blanco.info()"
   ]
  },
  {
   "cell_type": "code",
   "execution_count": 13,
   "metadata": {},
   "outputs": [],
   "source": [
    "# Vemos como tiene algunos valores nulos"
   ]
  },
  {
   "cell_type": "code",
   "execution_count": 14,
   "metadata": {},
   "outputs": [
    {
     "data": {
      "text/html": [
       "<div>\n",
       "<style scoped>\n",
       "    .dataframe tbody tr th:only-of-type {\n",
       "        vertical-align: middle;\n",
       "    }\n",
       "\n",
       "    .dataframe tbody tr th {\n",
       "        vertical-align: top;\n",
       "    }\n",
       "\n",
       "    .dataframe thead th {\n",
       "        text-align: right;\n",
       "    }\n",
       "</style>\n",
       "<table border=\"1\" class=\"dataframe\">\n",
       "  <thead>\n",
       "    <tr style=\"text-align: right;\">\n",
       "      <th></th>\n",
       "      <th>fixed acidity</th>\n",
       "      <th>volatile acidity</th>\n",
       "      <th>citric acid</th>\n",
       "      <th>residual sugar</th>\n",
       "      <th>chlorides</th>\n",
       "      <th>free sulfur dioxide</th>\n",
       "      <th>total sulfur dioxide</th>\n",
       "      <th>density</th>\n",
       "      <th>pH</th>\n",
       "      <th>sulphates</th>\n",
       "      <th>alcohol</th>\n",
       "      <th>quality</th>\n",
       "    </tr>\n",
       "  </thead>\n",
       "  <tbody>\n",
       "    <tr>\n",
       "      <th>count</th>\n",
       "      <td>4890.000000</td>\n",
       "      <td>4891.000000</td>\n",
       "      <td>4896.000000</td>\n",
       "      <td>4896.000000</td>\n",
       "      <td>4896.000000</td>\n",
       "      <td>4898.000000</td>\n",
       "      <td>4898.000000</td>\n",
       "      <td>4898.000000</td>\n",
       "      <td>4891.000000</td>\n",
       "      <td>4896.000000</td>\n",
       "      <td>4898.000000</td>\n",
       "      <td>4898.000000</td>\n",
       "    </tr>\n",
       "    <tr>\n",
       "      <th>mean</th>\n",
       "      <td>6.855532</td>\n",
       "      <td>0.278252</td>\n",
       "      <td>0.334250</td>\n",
       "      <td>6.393250</td>\n",
       "      <td>0.045778</td>\n",
       "      <td>35.308085</td>\n",
       "      <td>138.360657</td>\n",
       "      <td>0.994027</td>\n",
       "      <td>3.188203</td>\n",
       "      <td>0.489835</td>\n",
       "      <td>10.514267</td>\n",
       "      <td>5.877909</td>\n",
       "    </tr>\n",
       "    <tr>\n",
       "      <th>std</th>\n",
       "      <td>0.843808</td>\n",
       "      <td>0.100811</td>\n",
       "      <td>0.120985</td>\n",
       "      <td>5.072275</td>\n",
       "      <td>0.021850</td>\n",
       "      <td>17.007137</td>\n",
       "      <td>42.498065</td>\n",
       "      <td>0.002991</td>\n",
       "      <td>0.151014</td>\n",
       "      <td>0.114147</td>\n",
       "      <td>1.230621</td>\n",
       "      <td>0.885639</td>\n",
       "    </tr>\n",
       "    <tr>\n",
       "      <th>min</th>\n",
       "      <td>3.800000</td>\n",
       "      <td>0.080000</td>\n",
       "      <td>0.000000</td>\n",
       "      <td>0.600000</td>\n",
       "      <td>0.009000</td>\n",
       "      <td>2.000000</td>\n",
       "      <td>9.000000</td>\n",
       "      <td>0.987110</td>\n",
       "      <td>2.720000</td>\n",
       "      <td>0.220000</td>\n",
       "      <td>8.000000</td>\n",
       "      <td>3.000000</td>\n",
       "    </tr>\n",
       "    <tr>\n",
       "      <th>25%</th>\n",
       "      <td>6.300000</td>\n",
       "      <td>0.210000</td>\n",
       "      <td>0.270000</td>\n",
       "      <td>1.700000</td>\n",
       "      <td>0.036000</td>\n",
       "      <td>23.000000</td>\n",
       "      <td>108.000000</td>\n",
       "      <td>0.991723</td>\n",
       "      <td>3.090000</td>\n",
       "      <td>0.410000</td>\n",
       "      <td>9.500000</td>\n",
       "      <td>5.000000</td>\n",
       "    </tr>\n",
       "    <tr>\n",
       "      <th>50%</th>\n",
       "      <td>6.800000</td>\n",
       "      <td>0.260000</td>\n",
       "      <td>0.320000</td>\n",
       "      <td>5.200000</td>\n",
       "      <td>0.043000</td>\n",
       "      <td>34.000000</td>\n",
       "      <td>134.000000</td>\n",
       "      <td>0.993740</td>\n",
       "      <td>3.180000</td>\n",
       "      <td>0.470000</td>\n",
       "      <td>10.400000</td>\n",
       "      <td>6.000000</td>\n",
       "    </tr>\n",
       "    <tr>\n",
       "      <th>75%</th>\n",
       "      <td>7.300000</td>\n",
       "      <td>0.320000</td>\n",
       "      <td>0.390000</td>\n",
       "      <td>9.900000</td>\n",
       "      <td>0.050000</td>\n",
       "      <td>46.000000</td>\n",
       "      <td>167.000000</td>\n",
       "      <td>0.996100</td>\n",
       "      <td>3.280000</td>\n",
       "      <td>0.550000</td>\n",
       "      <td>11.400000</td>\n",
       "      <td>6.000000</td>\n",
       "    </tr>\n",
       "    <tr>\n",
       "      <th>max</th>\n",
       "      <td>14.200000</td>\n",
       "      <td>1.100000</td>\n",
       "      <td>1.660000</td>\n",
       "      <td>65.800000</td>\n",
       "      <td>0.346000</td>\n",
       "      <td>289.000000</td>\n",
       "      <td>440.000000</td>\n",
       "      <td>1.038980</td>\n",
       "      <td>3.820000</td>\n",
       "      <td>1.080000</td>\n",
       "      <td>14.200000</td>\n",
       "      <td>9.000000</td>\n",
       "    </tr>\n",
       "  </tbody>\n",
       "</table>\n",
       "</div>"
      ],
      "text/plain": [
       "       fixed acidity  volatile acidity  citric acid  residual sugar  \\\n",
       "count    4890.000000       4891.000000  4896.000000     4896.000000   \n",
       "mean        6.855532          0.278252     0.334250        6.393250   \n",
       "std         0.843808          0.100811     0.120985        5.072275   \n",
       "min         3.800000          0.080000     0.000000        0.600000   \n",
       "25%         6.300000          0.210000     0.270000        1.700000   \n",
       "50%         6.800000          0.260000     0.320000        5.200000   \n",
       "75%         7.300000          0.320000     0.390000        9.900000   \n",
       "max        14.200000          1.100000     1.660000       65.800000   \n",
       "\n",
       "         chlorides  free sulfur dioxide  total sulfur dioxide      density  \\\n",
       "count  4896.000000          4898.000000           4898.000000  4898.000000   \n",
       "mean      0.045778            35.308085            138.360657     0.994027   \n",
       "std       0.021850            17.007137             42.498065     0.002991   \n",
       "min       0.009000             2.000000              9.000000     0.987110   \n",
       "25%       0.036000            23.000000            108.000000     0.991723   \n",
       "50%       0.043000            34.000000            134.000000     0.993740   \n",
       "75%       0.050000            46.000000            167.000000     0.996100   \n",
       "max       0.346000           289.000000            440.000000     1.038980   \n",
       "\n",
       "                pH    sulphates      alcohol      quality  \n",
       "count  4891.000000  4896.000000  4898.000000  4898.000000  \n",
       "mean      3.188203     0.489835    10.514267     5.877909  \n",
       "std       0.151014     0.114147     1.230621     0.885639  \n",
       "min       2.720000     0.220000     8.000000     3.000000  \n",
       "25%       3.090000     0.410000     9.500000     5.000000  \n",
       "50%       3.180000     0.470000    10.400000     6.000000  \n",
       "75%       3.280000     0.550000    11.400000     6.000000  \n",
       "max       3.820000     1.080000    14.200000     9.000000  "
      ]
     },
     "execution_count": 14,
     "metadata": {},
     "output_type": "execute_result"
    }
   ],
   "source": [
    "blanco.describe()"
   ]
  },
  {
   "cell_type": "markdown",
   "metadata": {},
   "source": [
    "-----"
   ]
  },
  {
   "cell_type": "markdown",
   "metadata": {},
   "source": [
    "TINTO"
   ]
  },
  {
   "cell_type": "code",
   "execution_count": 8,
   "metadata": {},
   "outputs": [],
   "source": [
    "tinto=vinos[vinos['type']=='red'].reset_index()\n",
    "tinto = tinto.drop(['index', 'type'], axis=1)"
   ]
  },
  {
   "cell_type": "code",
   "execution_count": 25,
   "metadata": {},
   "outputs": [
    {
     "data": {
      "text/html": [
       "<div>\n",
       "<style scoped>\n",
       "    .dataframe tbody tr th:only-of-type {\n",
       "        vertical-align: middle;\n",
       "    }\n",
       "\n",
       "    .dataframe tbody tr th {\n",
       "        vertical-align: top;\n",
       "    }\n",
       "\n",
       "    .dataframe thead th {\n",
       "        text-align: right;\n",
       "    }\n",
       "</style>\n",
       "<table border=\"1\" class=\"dataframe\">\n",
       "  <thead>\n",
       "    <tr style=\"text-align: right;\">\n",
       "      <th></th>\n",
       "      <th>fixed acidity</th>\n",
       "      <th>volatile acidity</th>\n",
       "      <th>citric acid</th>\n",
       "      <th>residual sugar</th>\n",
       "      <th>chlorides</th>\n",
       "      <th>free sulfur dioxide</th>\n",
       "      <th>total sulfur dioxide</th>\n",
       "      <th>density</th>\n",
       "      <th>pH</th>\n",
       "      <th>sulphates</th>\n",
       "      <th>alcohol</th>\n",
       "      <th>apto</th>\n",
       "    </tr>\n",
       "  </thead>\n",
       "  <tbody>\n",
       "    <tr>\n",
       "      <th>0</th>\n",
       "      <td>7.4</td>\n",
       "      <td>0.70</td>\n",
       "      <td>0.00</td>\n",
       "      <td>1.9</td>\n",
       "      <td>0.076</td>\n",
       "      <td>11.0</td>\n",
       "      <td>34.0</td>\n",
       "      <td>0.9978</td>\n",
       "      <td>3.51</td>\n",
       "      <td>0.56</td>\n",
       "      <td>9.4</td>\n",
       "      <td>0</td>\n",
       "    </tr>\n",
       "    <tr>\n",
       "      <th>1</th>\n",
       "      <td>7.8</td>\n",
       "      <td>0.88</td>\n",
       "      <td>0.00</td>\n",
       "      <td>2.6</td>\n",
       "      <td>0.098</td>\n",
       "      <td>25.0</td>\n",
       "      <td>67.0</td>\n",
       "      <td>0.9968</td>\n",
       "      <td>3.20</td>\n",
       "      <td>0.68</td>\n",
       "      <td>9.8</td>\n",
       "      <td>0</td>\n",
       "    </tr>\n",
       "    <tr>\n",
       "      <th>2</th>\n",
       "      <td>7.8</td>\n",
       "      <td>0.76</td>\n",
       "      <td>0.04</td>\n",
       "      <td>2.3</td>\n",
       "      <td>0.092</td>\n",
       "      <td>15.0</td>\n",
       "      <td>54.0</td>\n",
       "      <td>0.9970</td>\n",
       "      <td>3.26</td>\n",
       "      <td>0.65</td>\n",
       "      <td>9.8</td>\n",
       "      <td>0</td>\n",
       "    </tr>\n",
       "    <tr>\n",
       "      <th>3</th>\n",
       "      <td>11.2</td>\n",
       "      <td>0.28</td>\n",
       "      <td>0.56</td>\n",
       "      <td>1.9</td>\n",
       "      <td>0.075</td>\n",
       "      <td>17.0</td>\n",
       "      <td>60.0</td>\n",
       "      <td>0.9980</td>\n",
       "      <td>3.16</td>\n",
       "      <td>0.58</td>\n",
       "      <td>9.8</td>\n",
       "      <td>1</td>\n",
       "    </tr>\n",
       "    <tr>\n",
       "      <th>4</th>\n",
       "      <td>7.4</td>\n",
       "      <td>0.70</td>\n",
       "      <td>0.00</td>\n",
       "      <td>1.9</td>\n",
       "      <td>0.076</td>\n",
       "      <td>11.0</td>\n",
       "      <td>34.0</td>\n",
       "      <td>0.9978</td>\n",
       "      <td>3.51</td>\n",
       "      <td>0.56</td>\n",
       "      <td>9.4</td>\n",
       "      <td>0</td>\n",
       "    </tr>\n",
       "  </tbody>\n",
       "</table>\n",
       "</div>"
      ],
      "text/plain": [
       "   fixed acidity  volatile acidity  citric acid  residual sugar  chlorides  \\\n",
       "0            7.4              0.70         0.00             1.9      0.076   \n",
       "1            7.8              0.88         0.00             2.6      0.098   \n",
       "2            7.8              0.76         0.04             2.3      0.092   \n",
       "3           11.2              0.28         0.56             1.9      0.075   \n",
       "4            7.4              0.70         0.00             1.9      0.076   \n",
       "\n",
       "   free sulfur dioxide  total sulfur dioxide  density    pH  sulphates  \\\n",
       "0                 11.0                  34.0   0.9978  3.51       0.56   \n",
       "1                 25.0                  67.0   0.9968  3.20       0.68   \n",
       "2                 15.0                  54.0   0.9970  3.26       0.65   \n",
       "3                 17.0                  60.0   0.9980  3.16       0.58   \n",
       "4                 11.0                  34.0   0.9978  3.51       0.56   \n",
       "\n",
       "   alcohol  apto  \n",
       "0      9.4     0  \n",
       "1      9.8     0  \n",
       "2      9.8     0  \n",
       "3      9.8     1  \n",
       "4      9.4     0  "
      ]
     },
     "execution_count": 25,
     "metadata": {},
     "output_type": "execute_result"
    }
   ],
   "source": [
    "tinto.head()"
   ]
  },
  {
   "cell_type": "code",
   "execution_count": 9,
   "metadata": {},
   "outputs": [
    {
     "name": "stdout",
     "output_type": "stream",
     "text": [
      "<class 'pandas.core.frame.DataFrame'>\n",
      "RangeIndex: 1599 entries, 0 to 1598\n",
      "Data columns (total 12 columns):\n",
      " #   Column                Non-Null Count  Dtype  \n",
      "---  ------                --------------  -----  \n",
      " 0   fixed acidity         1597 non-null   float64\n",
      " 1   volatile acidity      1598 non-null   float64\n",
      " 2   citric acid           1598 non-null   float64\n",
      " 3   residual sugar        1599 non-null   float64\n",
      " 4   chlorides             1599 non-null   float64\n",
      " 5   free sulfur dioxide   1599 non-null   float64\n",
      " 6   total sulfur dioxide  1599 non-null   float64\n",
      " 7   density               1599 non-null   float64\n",
      " 8   pH                    1597 non-null   float64\n",
      " 9   sulphates             1597 non-null   float64\n",
      " 10  alcohol               1599 non-null   float64\n",
      " 11  quality               1599 non-null   int64  \n",
      "dtypes: float64(11), int64(1)\n",
      "memory usage: 150.0 KB\n"
     ]
    }
   ],
   "source": [
    "tinto.info()"
   ]
  },
  {
   "cell_type": "code",
   "execution_count": 18,
   "metadata": {},
   "outputs": [],
   "source": [
    "# Tambíen cuenta con algún valor nulo"
   ]
  },
  {
   "cell_type": "code",
   "execution_count": 19,
   "metadata": {},
   "outputs": [
    {
     "data": {
      "text/html": [
       "<div>\n",
       "<style scoped>\n",
       "    .dataframe tbody tr th:only-of-type {\n",
       "        vertical-align: middle;\n",
       "    }\n",
       "\n",
       "    .dataframe tbody tr th {\n",
       "        vertical-align: top;\n",
       "    }\n",
       "\n",
       "    .dataframe thead th {\n",
       "        text-align: right;\n",
       "    }\n",
       "</style>\n",
       "<table border=\"1\" class=\"dataframe\">\n",
       "  <thead>\n",
       "    <tr style=\"text-align: right;\">\n",
       "      <th></th>\n",
       "      <th>fixed acidity</th>\n",
       "      <th>volatile acidity</th>\n",
       "      <th>citric acid</th>\n",
       "      <th>residual sugar</th>\n",
       "      <th>chlorides</th>\n",
       "      <th>free sulfur dioxide</th>\n",
       "      <th>total sulfur dioxide</th>\n",
       "      <th>density</th>\n",
       "      <th>pH</th>\n",
       "      <th>sulphates</th>\n",
       "      <th>alcohol</th>\n",
       "      <th>quality</th>\n",
       "    </tr>\n",
       "  </thead>\n",
       "  <tbody>\n",
       "    <tr>\n",
       "      <th>count</th>\n",
       "      <td>1597.000000</td>\n",
       "      <td>1598.000000</td>\n",
       "      <td>1598.000000</td>\n",
       "      <td>1599.000000</td>\n",
       "      <td>1599.000000</td>\n",
       "      <td>1599.000000</td>\n",
       "      <td>1599.000000</td>\n",
       "      <td>1599.000000</td>\n",
       "      <td>1597.000000</td>\n",
       "      <td>1597.000000</td>\n",
       "      <td>1599.000000</td>\n",
       "      <td>1599.000000</td>\n",
       "    </tr>\n",
       "    <tr>\n",
       "      <th>mean</th>\n",
       "      <td>8.322104</td>\n",
       "      <td>0.527738</td>\n",
       "      <td>0.271145</td>\n",
       "      <td>2.538806</td>\n",
       "      <td>0.087467</td>\n",
       "      <td>15.874922</td>\n",
       "      <td>46.467792</td>\n",
       "      <td>0.996747</td>\n",
       "      <td>3.310864</td>\n",
       "      <td>0.658078</td>\n",
       "      <td>10.422983</td>\n",
       "      <td>5.636023</td>\n",
       "    </tr>\n",
       "    <tr>\n",
       "      <th>std</th>\n",
       "      <td>1.740767</td>\n",
       "      <td>0.179085</td>\n",
       "      <td>0.194744</td>\n",
       "      <td>1.409928</td>\n",
       "      <td>0.047065</td>\n",
       "      <td>10.460157</td>\n",
       "      <td>32.895324</td>\n",
       "      <td>0.001887</td>\n",
       "      <td>0.154290</td>\n",
       "      <td>0.169594</td>\n",
       "      <td>1.065668</td>\n",
       "      <td>0.807569</td>\n",
       "    </tr>\n",
       "    <tr>\n",
       "      <th>min</th>\n",
       "      <td>4.600000</td>\n",
       "      <td>0.120000</td>\n",
       "      <td>0.000000</td>\n",
       "      <td>0.900000</td>\n",
       "      <td>0.012000</td>\n",
       "      <td>1.000000</td>\n",
       "      <td>6.000000</td>\n",
       "      <td>0.990070</td>\n",
       "      <td>2.740000</td>\n",
       "      <td>0.330000</td>\n",
       "      <td>8.400000</td>\n",
       "      <td>3.000000</td>\n",
       "    </tr>\n",
       "    <tr>\n",
       "      <th>25%</th>\n",
       "      <td>7.100000</td>\n",
       "      <td>0.390000</td>\n",
       "      <td>0.090000</td>\n",
       "      <td>1.900000</td>\n",
       "      <td>0.070000</td>\n",
       "      <td>7.000000</td>\n",
       "      <td>22.000000</td>\n",
       "      <td>0.995600</td>\n",
       "      <td>3.210000</td>\n",
       "      <td>0.550000</td>\n",
       "      <td>9.500000</td>\n",
       "      <td>5.000000</td>\n",
       "    </tr>\n",
       "    <tr>\n",
       "      <th>50%</th>\n",
       "      <td>7.900000</td>\n",
       "      <td>0.520000</td>\n",
       "      <td>0.260000</td>\n",
       "      <td>2.200000</td>\n",
       "      <td>0.079000</td>\n",
       "      <td>14.000000</td>\n",
       "      <td>38.000000</td>\n",
       "      <td>0.996750</td>\n",
       "      <td>3.310000</td>\n",
       "      <td>0.620000</td>\n",
       "      <td>10.200000</td>\n",
       "      <td>6.000000</td>\n",
       "    </tr>\n",
       "    <tr>\n",
       "      <th>75%</th>\n",
       "      <td>9.200000</td>\n",
       "      <td>0.640000</td>\n",
       "      <td>0.420000</td>\n",
       "      <td>2.600000</td>\n",
       "      <td>0.090000</td>\n",
       "      <td>21.000000</td>\n",
       "      <td>62.000000</td>\n",
       "      <td>0.997835</td>\n",
       "      <td>3.400000</td>\n",
       "      <td>0.730000</td>\n",
       "      <td>11.100000</td>\n",
       "      <td>6.000000</td>\n",
       "    </tr>\n",
       "    <tr>\n",
       "      <th>max</th>\n",
       "      <td>15.900000</td>\n",
       "      <td>1.580000</td>\n",
       "      <td>1.000000</td>\n",
       "      <td>15.500000</td>\n",
       "      <td>0.611000</td>\n",
       "      <td>72.000000</td>\n",
       "      <td>289.000000</td>\n",
       "      <td>1.003690</td>\n",
       "      <td>4.010000</td>\n",
       "      <td>2.000000</td>\n",
       "      <td>14.900000</td>\n",
       "      <td>8.000000</td>\n",
       "    </tr>\n",
       "  </tbody>\n",
       "</table>\n",
       "</div>"
      ],
      "text/plain": [
       "       fixed acidity  volatile acidity  citric acid  residual sugar  \\\n",
       "count    1597.000000       1598.000000  1598.000000     1599.000000   \n",
       "mean        8.322104          0.527738     0.271145        2.538806   \n",
       "std         1.740767          0.179085     0.194744        1.409928   \n",
       "min         4.600000          0.120000     0.000000        0.900000   \n",
       "25%         7.100000          0.390000     0.090000        1.900000   \n",
       "50%         7.900000          0.520000     0.260000        2.200000   \n",
       "75%         9.200000          0.640000     0.420000        2.600000   \n",
       "max        15.900000          1.580000     1.000000       15.500000   \n",
       "\n",
       "         chlorides  free sulfur dioxide  total sulfur dioxide      density  \\\n",
       "count  1599.000000          1599.000000           1599.000000  1599.000000   \n",
       "mean      0.087467            15.874922             46.467792     0.996747   \n",
       "std       0.047065            10.460157             32.895324     0.001887   \n",
       "min       0.012000             1.000000              6.000000     0.990070   \n",
       "25%       0.070000             7.000000             22.000000     0.995600   \n",
       "50%       0.079000            14.000000             38.000000     0.996750   \n",
       "75%       0.090000            21.000000             62.000000     0.997835   \n",
       "max       0.611000            72.000000            289.000000     1.003690   \n",
       "\n",
       "                pH    sulphates      alcohol      quality  \n",
       "count  1597.000000  1597.000000  1599.000000  1599.000000  \n",
       "mean      3.310864     0.658078    10.422983     5.636023  \n",
       "std       0.154290     0.169594     1.065668     0.807569  \n",
       "min       2.740000     0.330000     8.400000     3.000000  \n",
       "25%       3.210000     0.550000     9.500000     5.000000  \n",
       "50%       3.310000     0.620000    10.200000     6.000000  \n",
       "75%       3.400000     0.730000    11.100000     6.000000  \n",
       "max       4.010000     2.000000    14.900000     8.000000  "
      ]
     },
     "execution_count": 19,
     "metadata": {},
     "output_type": "execute_result"
    }
   ],
   "source": [
    "tinto.describe()"
   ]
  },
  {
   "cell_type": "markdown",
   "metadata": {},
   "source": [
    "--------\n",
    "<font size=\"6\"><span style=\"color:blue\">QUITAR VALORES NULOS"
   ]
  },
  {
   "cell_type": "code",
   "execution_count": 20,
   "metadata": {},
   "outputs": [],
   "source": [
    "# La muestra es lo suficientemente grande y los valores nulos excasos, por lo que se pueden eliminar directamente.\n",
    "# Si hubiese más valores nulos, sería mejor hacerles la media(mediana o moda), para tener más datos a la hora de entrenar el modelo."
   ]
  },
  {
   "cell_type": "code",
   "execution_count": 10,
   "metadata": {},
   "outputs": [],
   "source": [
    "blanco = blanco.dropna()"
   ]
  },
  {
   "cell_type": "code",
   "execution_count": 11,
   "metadata": {},
   "outputs": [
    {
     "name": "stdout",
     "output_type": "stream",
     "text": [
      "<class 'pandas.core.frame.DataFrame'>\n",
      "Int64Index: 4870 entries, 0 to 4897\n",
      "Data columns (total 12 columns):\n",
      " #   Column                Non-Null Count  Dtype  \n",
      "---  ------                --------------  -----  \n",
      " 0   fixed acidity         4870 non-null   float64\n",
      " 1   volatile acidity      4870 non-null   float64\n",
      " 2   citric acid           4870 non-null   float64\n",
      " 3   residual sugar        4870 non-null   float64\n",
      " 4   chlorides             4870 non-null   float64\n",
      " 5   free sulfur dioxide   4870 non-null   float64\n",
      " 6   total sulfur dioxide  4870 non-null   float64\n",
      " 7   density               4870 non-null   float64\n",
      " 8   pH                    4870 non-null   float64\n",
      " 9   sulphates             4870 non-null   float64\n",
      " 10  alcohol               4870 non-null   float64\n",
      " 11  quality               4870 non-null   int64  \n",
      "dtypes: float64(11), int64(1)\n",
      "memory usage: 494.6 KB\n"
     ]
    }
   ],
   "source": [
    "blanco.info()"
   ]
  },
  {
   "cell_type": "code",
   "execution_count": 12,
   "metadata": {},
   "outputs": [],
   "source": [
    "# TINTO\n",
    "tinto = tinto.dropna()"
   ]
  },
  {
   "cell_type": "markdown",
   "metadata": {},
   "source": [
    "--------\n",
    "<font size=\"6\"><span style=\"color:blue\">ASIGNAR SI UN VINO ES APTO O NO APTO EN FUNCIÓN DE SU CALIFICACIÓN"
   ]
  },
  {
   "cell_type": "code",
   "execution_count": 13,
   "metadata": {},
   "outputs": [
    {
     "data": {
      "text/plain": [
       "array([6, 5, 7, 8, 4, 3, 9], dtype=int64)"
      ]
     },
     "execution_count": 13,
     "metadata": {},
     "output_type": "execute_result"
    }
   ],
   "source": [
    "blanco['quality'].unique()"
   ]
  },
  {
   "cell_type": "code",
   "execution_count": 24,
   "metadata": {},
   "outputs": [],
   "source": [
    "# Vemos como las calificaciones van del 3 al 9.\n",
    "# Queremos ver si un vino es lo suficientemente bueno para su venta, por lo que se les dividirá en:\n",
    "# Calificación de 3, 4 y 5 -> 'no aptos = 0'\n",
    "# Calificación de 6, 7, 8 y 9 -> 'aptos = 1'"
   ]
  },
  {
   "cell_type": "code",
   "execution_count": 15,
   "metadata": {},
   "outputs": [],
   "source": [
    "# Generamos una nueva columna de 'apto' o 'no apto'. Será nuestro nuevo TARGET\n",
    "my_dict={3:0, 4:0, 5:0,\n",
    "        6:1, 7:1, 8:1, 9:1}\n",
    "\n",
    "blanco['apto']= blanco['quality'].map(my_dict)\n",
    "\n",
    "# Ya no queremos la variable 'quality' para nada, así que la quitamos \n",
    "blanco = blanco.drop(['quality'], axis=1)"
   ]
  },
  {
   "cell_type": "code",
   "execution_count": 16,
   "metadata": {},
   "outputs": [
    {
     "data": {
      "text/html": [
       "<div>\n",
       "<style scoped>\n",
       "    .dataframe tbody tr th:only-of-type {\n",
       "        vertical-align: middle;\n",
       "    }\n",
       "\n",
       "    .dataframe tbody tr th {\n",
       "        vertical-align: top;\n",
       "    }\n",
       "\n",
       "    .dataframe thead th {\n",
       "        text-align: right;\n",
       "    }\n",
       "</style>\n",
       "<table border=\"1\" class=\"dataframe\">\n",
       "  <thead>\n",
       "    <tr style=\"text-align: right;\">\n",
       "      <th></th>\n",
       "      <th>fixed acidity</th>\n",
       "      <th>volatile acidity</th>\n",
       "      <th>citric acid</th>\n",
       "      <th>residual sugar</th>\n",
       "      <th>chlorides</th>\n",
       "      <th>free sulfur dioxide</th>\n",
       "      <th>total sulfur dioxide</th>\n",
       "      <th>density</th>\n",
       "      <th>pH</th>\n",
       "      <th>sulphates</th>\n",
       "      <th>alcohol</th>\n",
       "      <th>apto</th>\n",
       "    </tr>\n",
       "  </thead>\n",
       "  <tbody>\n",
       "    <tr>\n",
       "      <th>0</th>\n",
       "      <td>7.0</td>\n",
       "      <td>0.27</td>\n",
       "      <td>0.36</td>\n",
       "      <td>20.7</td>\n",
       "      <td>0.045</td>\n",
       "      <td>45.0</td>\n",
       "      <td>170.0</td>\n",
       "      <td>1.001</td>\n",
       "      <td>3.0</td>\n",
       "      <td>0.45</td>\n",
       "      <td>8.8</td>\n",
       "      <td>1</td>\n",
       "    </tr>\n",
       "  </tbody>\n",
       "</table>\n",
       "</div>"
      ],
      "text/plain": [
       "   fixed acidity  volatile acidity  citric acid  residual sugar  chlorides  \\\n",
       "0            7.0              0.27         0.36            20.7      0.045   \n",
       "\n",
       "   free sulfur dioxide  total sulfur dioxide  density   pH  sulphates  \\\n",
       "0                 45.0                 170.0    1.001  3.0       0.45   \n",
       "\n",
       "   alcohol  apto  \n",
       "0      8.8     1  "
      ]
     },
     "execution_count": 16,
     "metadata": {},
     "output_type": "execute_result"
    }
   ],
   "source": [
    "blanco.head(1)"
   ]
  },
  {
   "cell_type": "code",
   "execution_count": 14,
   "metadata": {},
   "outputs": [
    {
     "data": {
      "text/plain": [
       "array([5, 6, 7, 4, 8, 3], dtype=int64)"
      ]
     },
     "execution_count": 14,
     "metadata": {},
     "output_type": "execute_result"
    }
   ],
   "source": [
    "tinto['quality'].unique()"
   ]
  },
  {
   "cell_type": "code",
   "execution_count": 17,
   "metadata": {},
   "outputs": [],
   "source": [
    "# TINTO\n",
    "my_dict={3:0, 4:0, 5:0,\n",
    "        6:1, 7:1, 8:1}\n",
    "\n",
    "tinto['apto']= tinto['quality'].map(my_dict)\n",
    "\n",
    "tinto = tinto.drop(['quality'], axis=1)"
   ]
  },
  {
   "cell_type": "markdown",
   "metadata": {},
   "source": [
    "--------\n",
    "<font size=\"6\"><span style=\"color:blue\">VER SI ESTÁ BALANCEADO"
   ]
  },
  {
   "cell_type": "code",
   "execution_count": 27,
   "metadata": {},
   "outputs": [
    {
     "data": {
      "text/plain": [
       "1    0.665298\n",
       "0    0.334702\n",
       "Name: apto, dtype: float64"
      ]
     },
     "execution_count": 27,
     "metadata": {},
     "output_type": "execute_result"
    }
   ],
   "source": [
    "blanco['apto'].value_counts(normalize=True)"
   ]
  },
  {
   "cell_type": "code",
   "execution_count": 28,
   "metadata": {},
   "outputs": [
    {
     "data": {
      "image/png": "[encoded data removed]",
      "text/plain": [
       "<Figure size 720x432 with 1 Axes>"
      ]
     },
     "metadata": {},
     "output_type": "display_data"
    }
   ],
   "source": [
    "plt.figure(figsize=(10,6))\n",
    "blanco['apto'].value_counts().plot.pie(autopct=\"%.1f%%\");\n",
    "\n",
    "\n",
    "\n",
    "# Alumno\\ds_thebridge_6_22\\3-Machine_Learning\\ML_Guide\\ML Guide.ipynb\n",
    "# https://machinelearningmastery.com/random-oversampling-and-undersampling-for-imbalanced-classification/"
   ]
  },
  {
   "cell_type": "code",
   "execution_count": 29,
   "metadata": {},
   "outputs": [],
   "source": [
    "# Vemos que SÍ que está balanceado."
   ]
  },
  {
   "cell_type": "code",
   "execution_count": 30,
   "metadata": {},
   "outputs": [
    {
     "data": {
      "text/plain": [
       "6    0.448871\n",
       "5    0.297331\n",
       "7    0.179671\n",
       "8    0.035729\n",
       "4    0.033265\n",
       "3    0.004107\n",
       "9    0.001027\n",
       "Name: quality, dtype: float64"
      ]
     },
     "execution_count": 30,
     "metadata": {},
     "output_type": "execute_result"
    }
   ],
   "source": [
    "# En caso de haberlo hecho con las 7 categorías de calidad, nos hubiesemos encontrado con un problema de balanceo.\n",
    "blanco['quality'].value_counts(normalize=True)"
   ]
  },
  {
   "cell_type": "code",
   "execution_count": 20,
   "metadata": {},
   "outputs": [
    {
     "data": {
      "text/plain": [
       "1    0.534212\n",
       "0    0.465788\n",
       "Name: apto, dtype: float64"
      ]
     },
     "execution_count": 20,
     "metadata": {},
     "output_type": "execute_result"
    }
   ],
   "source": [
    "# TINTO\n",
    "\n",
    "tinto['apto'].value_counts(normalize=True)"
   ]
  },
  {
   "cell_type": "code",
   "execution_count": 21,
   "metadata": {},
   "outputs": [
    {
     "data": {
      "image/png": "[encoded data removed]",
      "text/plain": [
       "<Figure size 720x432 with 1 Axes>"
      ]
     },
     "metadata": {},
     "output_type": "display_data"
    }
   ],
   "source": [
    "plt.figure(figsize=(10,6))\n",
    "tinto['apto'].value_counts().plot.pie(autopct=\"%.1f%%\");"
   ]
  },
  {
   "cell_type": "markdown",
   "metadata": {},
   "source": [
    "-----------\n",
    "<font size=\"7\"><span style=\"color:green\">EDA (VISUALIZACIÓN)\n",
    "\n",
    "-----------\n"
   ]
  },
  {
   "cell_type": "markdown",
   "metadata": {},
   "source": [
    "--------\n",
    "<font size=\"6\"><span style=\"color:blue\">Heatmap"
   ]
  },
  {
   "cell_type": "code",
   "execution_count": null,
   "metadata": {},
   "outputs": [],
   "source": [
    "# Hipotesis, quitar density porque......"
   ]
  },
  {
   "cell_type": "code",
   "execution_count": 22,
   "metadata": {},
   "outputs": [
    {
     "data": {
      "image/png": "[encoded data removed]",
      "text/plain": [
       "<Figure size 1080x720 with 2 Axes>"
      ]
     },
     "metadata": {
      "needs_background": "light"
     },
     "output_type": "display_data"
    }
   ],
   "source": [
    "plt.figure(figsize=(15,10))\n",
    "sns.heatmap(blanco.corr(), annot=True);"
   ]
  },
  {
   "cell_type": "code",
   "execution_count": 32,
   "metadata": {},
   "outputs": [
    {
     "data": {
      "image/png": "[encoded data removed]",
      "text/plain": [
       "<Figure size 1080x720 with 2 Axes>"
      ]
     },
     "metadata": {
      "needs_background": "light"
     },
     "output_type": "display_data"
    }
   ],
   "source": [
    "# Vemos como algunas variables están fuertemente correlacionadas entre si. Hay más, este heatmap es solo un ejemplo de algunas de ellas.\n",
    "# Habrá que elegir cuáles cogemos para el modelo definitivo.\n",
    "plt.figure(figsize=(15,10))\n",
    "sns.heatmap(blanco[['density', 'residual sugar', 'alcohol','apto']].corr(), annot=True);"
   ]
  },
  {
   "cell_type": "code",
   "execution_count": 23,
   "metadata": {},
   "outputs": [
    {
     "data": {
      "image/png": "[encoded data removed]",
      "text/plain": [
       "<Figure size 1080x720 with 2 Axes>"
      ]
     },
     "metadata": {
      "needs_background": "light"
     },
     "output_type": "display_data"
    }
   ],
   "source": [
    "# TINTO\n",
    "\n",
    "plt.figure(figsize=(15,10))\n",
    "sns.heatmap(tinto.corr(), annot=True);"
   ]
  },
  {
   "cell_type": "code",
   "execution_count": 33,
   "metadata": {},
   "outputs": [],
   "source": [
    "# sns.pairplot(blanco, hue='apto');"
   ]
  },
  {
   "cell_type": "markdown",
   "metadata": {},
   "source": [
    "-----------\n",
    "<font size=\"7\"><span style=\"color:brown\">MODELOS\n",
    "\n",
    "-----------\n"
   ]
  },
  {
   "cell_type": "markdown",
   "metadata": {},
   "source": [
    "--------\n",
    "<font size=\"6\"><span style=\"color:red\">Modelo 1: De ejemplo\n",
    "\n",
    "DecisionTreeClassifier con todas las variables"
   ]
  },
  {
   "cell_type": "markdown",
   "metadata": {},
   "source": [
    "<font size=\"6\"><span style=\"color:orange\">PRUEBA Pipeline\n",
    "\n",
    "Con todas las variables"
   ]
  },
  {
   "cell_type": "code",
   "execution_count": null,
   "metadata": {},
   "outputs": [],
   "source": [
    "seed=55"
   ]
  },
  {
   "cell_type": "code",
   "execution_count": 44,
   "metadata": {},
   "outputs": [],
   "source": [
    "X = blanco.iloc[:,:-1] # todas las columnas menos 'quality' y 'apto'\n",
    "y = blanco['apto']\n",
    "\n",
    "X_train, X_test, y_train, y_test = train_test_split(X, y, test_size=0.2, random_state=seed)"
   ]
  },
  {
   "cell_type": "code",
   "execution_count": 45,
   "metadata": {},
   "outputs": [
    {
     "name": "stdout",
     "output_type": "stream",
     "text": [
      "(3896, 11)\n",
      "(974, 11)\n",
      "(3896,)\n",
      "(974,)\n"
     ]
    }
   ],
   "source": [
    "print(X_train.shape)\n",
    "print(X_test.shape)\n",
    "print(y_train.shape)\n",
    "print(y_test.shape)"
   ]
  },
  {
   "cell_type": "code",
   "execution_count": 47,
   "metadata": {},
   "outputs": [],
   "source": [
    "pipe_lr = Pipeline(steps=[('scaler', StandardScaler()),\n",
    "                       ('classifier', LogisticRegression(random_state=seed))])"
   ]
  },
  {
   "cell_type": "code",
   "execution_count": 48,
   "metadata": {},
   "outputs": [
    {
     "data": {
      "text/plain": [
       "Pipeline(steps=[('scaler', StandardScaler()),\n",
       "                ('classifier', LogisticRegression(random_state=42))])"
      ]
     },
     "execution_count": 48,
     "metadata": {},
     "output_type": "execute_result"
    }
   ],
   "source": [
    "pipe_lr.fit(X_train, y_train)"
   ]
  },
  {
   "cell_type": "code",
   "execution_count": 49,
   "metadata": {},
   "outputs": [],
   "source": [
    "pred_lr= pipe_lr.predict(X_test)\n",
    "# pred_lr"
   ]
  },
  {
   "cell_type": "code",
   "execution_count": 50,
   "metadata": {},
   "outputs": [
    {
     "data": {
      "text/plain": [
       "0.7484599589322382"
      ]
     },
     "execution_count": 50,
     "metadata": {},
     "output_type": "execute_result"
    }
   ],
   "source": [
    "pipe_lr.score(X_train, y_train)"
   ]
  },
  {
   "cell_type": "code",
   "execution_count": 51,
   "metadata": {},
   "outputs": [
    {
     "data": {
      "text/plain": [
       "array([[164, 163],\n",
       "       [ 64, 583]], dtype=int64)"
      ]
     },
     "execution_count": 51,
     "metadata": {},
     "output_type": "execute_result"
    }
   ],
   "source": [
    "confusion_matrix(y_test, pred_lr)"
   ]
  },
  {
   "cell_type": "code",
   "execution_count": 52,
   "metadata": {},
   "outputs": [
    {
     "data": {
      "text/plain": [
       "<AxesSubplot:>"
      ]
     },
     "execution_count": 52,
     "metadata": {},
     "output_type": "execute_result"
    },
    {
     "data": {
      "image/png": "[encoded data removed]",
      "text/plain": [
       "<Figure size 432x288 with 2 Axes>"
      ]
     },
     "metadata": {
      "needs_background": "light"
     },
     "output_type": "display_data"
    }
   ],
   "source": [
    "sns.heatmap(confusion_matrix(y_test,pred_lr, normalize='true'), annot=True)"
   ]
  },
  {
   "cell_type": "markdown",
   "metadata": {},
   "source": [
    "<font size=\"6\"><span style=\"color:red\">Modelo 2: Con PipeLine y GridSearch\n",
    "\n",
    "MODELOS: LogisticRegression, KNeighborsClassifier, RandomForestClassifier, GradientBoostingClassifier, SVC, \n",
    "\n",
    "VARIABLES: Todas\n",
    "\n",
    "ESCALADO: SÍ"
   ]
  },
  {
   "cell_type": "code",
   "execution_count": null,
   "metadata": {},
   "outputs": [],
   "source": [
    "X = blanco.iloc[:,:-1] # todas las columnas menos 'quality' y 'apto'\n",
    "y = blanco['apto']\n",
    "\n",
    "X_train, X_test, y_train, y_test = train_test_split(X, y, test_size=0.2, random_state=seed)"
   ]
  },
  {
   "cell_type": "code",
   "execution_count": 53,
   "metadata": {},
   "outputs": [],
   "source": [
    "\n",
    "pipe = Pipeline(steps=[('scaler', StandardScaler()),\n",
    "                       ('kbest', SelectKBest()),\n",
    "                       ('classifier', LogisticRegression(random_state=seed))])"
   ]
  },
  {
   "cell_type": "code",
   "execution_count": 54,
   "metadata": {},
   "outputs": [],
   "source": [
    "svm_params = {'kbest__k': [2,5,7,9,11],\n",
    "              'classifier': [SVC()],\n",
    "              'classifier__C': [0.05,0.1,0.3],\n",
    "              'classifier__kernel': ['linear','rbf','sigmoid']\n",
    "}\n",
    "\n",
    "log_params = {'kbest__k': [2,5,7,9,11],\n",
    "              'classifier': [LogisticRegression()],\n",
    "              'classifier__penalty': ['l1','l2'],\n",
    "              'classifier__C': np.logspace(0,2,5)\n",
    "}\n",
    "\n",
    "knn_params = {'kbest__k': [2,5,7,9,11],\n",
    "              'classifier': [KNeighborsClassifier()],\n",
    "              'classifier__n_neighbors': [3,5,7,9,11],\n",
    "              'classifier__weights': ['uniform','distance']\n",
    "}\n",
    "\n",
    "rf_params = {'kbest__k': [2,5,7,9,11],\n",
    "              'classifier': [RandomForestClassifier()],\n",
    "              'classifier__n_estimators': [100,150,200],\n",
    "              'classifier__max_depth': [2,3,4],\n",
    "              'classifier__min_samples_leaf': [3,5,7]\n",
    "}\n",
    "\n",
    "gb_params = {'kbest__k': [2,5,7,9,11],\n",
    "              'classifier': [GradientBoostingClassifier()],\n",
    "              'classifier__n_estimators': [50,100,150],\n",
    "              'classifier__learning_rate': [0.1,0.3,0.5]\n",
    "}\n",
    "\n",
    "search_space = [svm_params, log_params, knn_params, rf_params, gb_params]"
   ]
  },
  {
   "cell_type": "code",
   "execution_count": null,
   "metadata": {},
   "outputs": [],
   "source": []
  },
  {
   "cell_type": "code",
   "execution_count": 55,
   "metadata": {},
   "outputs": [],
   "source": [
    "clf = GridSearchCV(estimator=pipe, param_grid=search_space, cv=3, n_jobs=-1)"
   ]
  },
  {
   "cell_type": "code",
   "execution_count": 56,
   "metadata": {},
   "outputs": [
    {
     "name": "stderr",
     "output_type": "stream",
     "text": [
      "c:\\Users\\Yo\\AppData\\Local\\Programs\\Python\\Python37\\lib\\site-packages\\sklearn\\model_selection\\_validation.py:372: FitFailedWarning: \n",
      "75 fits failed out of a total of 975.\n",
      "The score on these train-test partitions for these parameters will be set to nan.\n",
      "If these failures are not expected, you can try to debug them by setting error_score='raise'.\n",
      "\n",
      "Below are more details about the failures:\n",
      "--------------------------------------------------------------------------------\n",
      "75 fits failed with the following error:\n",
      "Traceback (most recent call last):\n",
      "  File \"c:\\Users\\Yo\\AppData\\Local\\Programs\\Python\\Python37\\lib\\site-packages\\sklearn\\model_selection\\_validation.py\", line 680, in _fit_and_score\n",
      "    estimator.fit(X_train, y_train, **fit_params)\n",
      "  File \"c:\\Users\\Yo\\AppData\\Local\\Programs\\Python\\Python37\\lib\\site-packages\\sklearn\\pipeline.py\", line 394, in fit\n",
      "    self._final_estimator.fit(Xt, y, **fit_params_last_step)\n",
      "  File \"c:\\Users\\Yo\\AppData\\Local\\Programs\\Python\\Python37\\lib\\site-packages\\sklearn\\linear_model\\_logistic.py\", line 1461, in fit\n",
      "    solver = _check_solver(self.solver, self.penalty, self.dual)\n",
      "  File \"c:\\Users\\Yo\\AppData\\Local\\Programs\\Python\\Python37\\lib\\site-packages\\sklearn\\linear_model\\_logistic.py\", line 449, in _check_solver\n",
      "    % (solver, penalty)\n",
      "ValueError: Solver lbfgs supports only 'l2' or 'none' penalties, got l1 penalty.\n",
      "\n",
      "  warnings.warn(some_fits_failed_message, FitFailedWarning)\n",
      "c:\\Users\\Yo\\AppData\\Local\\Programs\\Python\\Python37\\lib\\site-packages\\sklearn\\model_selection\\_search.py:972: UserWarning: One or more of the test scores are non-finite: [0.66555444 0.74127663 0.74718018 0.74820721 0.74564014 0.70020853\n",
      " 0.73716833 0.73049298 0.72510283 0.71689119 0.66452405 0.71252846\n",
      " 0.71817383 0.72023045 0.7132971  0.66555444 0.74410069 0.74692417\n",
      " 0.75026125 0.74461272 0.70559788 0.74717821 0.74948728 0.74743382\n",
      " 0.75539024 0.64706939 0.7166328  0.69995014 0.71124206 0.70533851\n",
      " 0.66555444 0.74538314 0.74743719 0.74923364 0.74589596 0.70842057\n",
      " 0.75102969 0.7574439  0.76540269 0.77181788 0.63680074 0.68916748\n",
      " 0.68454577 0.681731   0.68660219        nan        nan        nan\n",
      "        nan        nan 0.68583237 0.74538314 0.74974586 0.74666776\n",
      " 0.74486973        nan        nan        nan        nan        nan\n",
      " 0.68634598 0.74461332 0.74923245 0.74589774 0.74538294        nan\n",
      "        nan        nan        nan        nan 0.68660259 0.74486992\n",
      " 0.74923245 0.74615415 0.74563955        nan        nan        nan\n",
      "        nan        nan 0.68634578 0.74486992 0.74923245 0.74641075\n",
      " 0.74563975        nan        nan        nan        nan        nan\n",
      " 0.68634578 0.74486992 0.74923245 0.74641075 0.74563975 0.70277223\n",
      " 0.7428141  0.75153816 0.74897525 0.7582151  0.71637718 0.77207607\n",
      " 0.78131295 0.78054531 0.78901553 0.70251721 0.74512416 0.73947543\n",
      " 0.74076044 0.75538748 0.72099909 0.78337036 0.78336661 0.78157213\n",
      " 0.79517392 0.69764245 0.7499999  0.74640561 0.74050166 0.75744034\n",
      " 0.72279494 0.79183881 0.79132283 0.78619146 0.80261673 0.70046494\n",
      " 0.75256637 0.74204151 0.74255591 0.75821095 0.72459021 0.79414867\n",
      " 0.79081119 0.78978298 0.80338754 0.69250812 0.75538965 0.7453778\n",
      " 0.74332652 0.75718511 0.72459159 0.80185026 0.79080882 0.78696069\n",
      " 0.80338773 0.6768511  0.73280679 0.71714938 0.71971743 0.70636988\n",
      " 0.68250082 0.732549   0.70842057 0.71252609 0.71124206 0.68044658\n",
      " 0.72972592 0.70918802 0.72613144 0.70251523 0.68660536 0.73100935\n",
      " 0.70738998 0.71945964 0.71098486 0.68224342 0.73511646 0.70738979\n",
      " 0.72536379 0.70816257 0.6796724  0.73177957 0.71098842 0.7163754\n",
      " 0.70764837 0.67967576 0.73896577 0.70765134 0.7325492  0.71303832\n",
      " 0.67993158 0.73383243 0.70841997 0.71380775 0.7143261  0.6771083\n",
      " 0.73075275 0.71124266 0.71560775 0.7125251  0.70277441 0.74204645\n",
      " 0.73922218 0.74486716 0.75077289 0.70482766 0.74564034 0.74101824\n",
      " 0.74871943 0.75231214 0.70739433 0.74666657 0.74538175 0.7474356\n",
      " 0.74820464 0.70867737 0.74435631 0.73973579 0.74974646 0.74820543\n",
      " 0.70662352 0.74871963 0.7435855  0.74846243 0.75308295 0.7055963\n",
      " 0.74717998 0.74435592 0.74640977 0.75333798 0.70713733 0.747179\n",
      " 0.73562888 0.74923383 0.75205573 0.70431168 0.74820661 0.73922297\n",
      " 0.7471788  0.7505145  0.70765094 0.74564054 0.74230167 0.74486992\n",
      " 0.75000227 0.70970341 0.75231293 0.74846164 0.75282634 0.76155258\n",
      " 0.70842057 0.75385297 0.75025888 0.75462378 0.76103957 0.70765074\n",
      " 0.75077368 0.75513462 0.75590603 0.76360584 0.7091898  0.7515433\n",
      " 0.75359458 0.7587295  0.76540367 0.70867638 0.74897624 0.75333817\n",
      " 0.75718887 0.76078276 0.70816435 0.75385198 0.75077308 0.75513581\n",
      " 0.7618082  0.70636632 0.75025928 0.74820582 0.75539321 0.76334903\n",
      " 0.7091894  0.7510287  0.7510291  0.75616343 0.76026757 0.71073023\n",
      " 0.75179971 0.75308236 0.75642043 0.76078236 0.71791703 0.76001551\n",
      " 0.76001254 0.75924371 0.77284787 0.71740104 0.7630944  0.76565791\n",
      " 0.76873859 0.77644077 0.71971209 0.76412143 0.76925417 0.77387232\n",
      " 0.77772321 0.7161186  0.75719085 0.76540447 0.76925121 0.77797844\n",
      " 0.71765627 0.77387351 0.77002202 0.77874767 0.78131592 0.72048053\n",
      " 0.76796975 0.77849383 0.7882461  0.79004453 0.71534759 0.75975633\n",
      " 0.76566008 0.77002321 0.78105872 0.71226869 0.76463385 0.77592736\n",
      " 0.77464353 0.79081317 0.71483694 0.76822794 0.77618515 0.77875123\n",
      " 0.79646051]\n",
      "  category=UserWarning,\n"
     ]
    }
   ],
   "source": [
    "best_model = clf.fit(X_train, y_train)"
   ]
  },
  {
   "cell_type": "code",
   "execution_count": 57,
   "metadata": {},
   "outputs": [],
   "source": [
    "y_pred = best_model.best_estimator_.predict(X_test)"
   ]
  },
  {
   "cell_type": "code",
   "execution_count": 58,
   "metadata": {},
   "outputs": [
    {
     "name": "stdout",
     "output_type": "stream",
     "text": [
      "Best model. Best Score 0.8033877349452564 \n",
      " --------------------------------------------------\n",
      "Best model. Best Params {'classifier': KNeighborsClassifier(n_neighbors=11, weights='distance'), 'classifier__n_neighbors': 11, 'classifier__weights': 'distance', 'kbest__k': 11} \n",
      " --------------------------------------------------\n",
      "Accuracy Score 0.8254620123203286 \n",
      " --------------------------------------------------\n",
      "Confusion Matrix \n",
      " [[211 116]\n",
      " [ 54 593]] \n",
      " --------------------------------------------------\n"
     ]
    },
    {
     "data": {
      "image/png": "[encoded data removed]",
      "text/plain": [
       "<Figure size 432x288 with 2 Axes>"
      ]
     },
     "metadata": {
      "needs_background": "light"
     },
     "output_type": "display_data"
    }
   ],
   "source": [
    "print('Best model. Best Score', best_model.best_score_, '\\n','-'*50)\n",
    "print('Best model. Best Params', best_model.best_params_, '\\n','-'*50)\n",
    "print('Accuracy Score', accuracy_score(y_test, y_pred), '\\n','-'*50)\n",
    "print('Confusion Matrix \\n', confusion_matrix(y_test,y_pred), '\\n','-'*50)\n",
    "sns.heatmap(confusion_matrix(y_test,y_pred, normalize='true'), annot=True);"
   ]
  },
  {
   "cell_type": "markdown",
   "metadata": {},
   "source": [
    "<font size=\"6\"><span style=\"color:red\">Modelo 3: Con PipeLine y GridSearch\n",
    "\n",
    "MODELOS: LogisticRegression, KNeighborsClassifier, RandomForestClassifier, GradientBoostingClassifier, SVC, \n",
    "\n",
    "VARIABLES: Todas\n",
    "\n",
    "ESCALADO: NO"
   ]
  },
  {
   "cell_type": "code",
   "execution_count": 59,
   "metadata": {},
   "outputs": [],
   "source": [
    "from sklearn.pipeline import Pipeline\n",
    "pipe_NE = Pipeline(steps=[('kbest', SelectKBest()),\n",
    "                          ('classifier', LogisticRegression(random_state=seed))])"
   ]
  },
  {
   "cell_type": "code",
   "execution_count": 60,
   "metadata": {},
   "outputs": [],
   "source": [
    "clf = GridSearchCV(estimator=pipe_NE, param_grid=search_space, cv=3, n_jobs=-1)"
   ]
  },
  {
   "cell_type": "code",
   "execution_count": 61,
   "metadata": {},
   "outputs": [
    {
     "name": "stderr",
     "output_type": "stream",
     "text": [
      "c:\\Users\\Yo\\AppData\\Local\\Programs\\Python\\Python37\\lib\\site-packages\\sklearn\\model_selection\\_validation.py:372: FitFailedWarning: \n",
      "75 fits failed out of a total of 975.\n",
      "The score on these train-test partitions for these parameters will be set to nan.\n",
      "If these failures are not expected, you can try to debug them by setting error_score='raise'.\n",
      "\n",
      "Below are more details about the failures:\n",
      "--------------------------------------------------------------------------------\n",
      "75 fits failed with the following error:\n",
      "Traceback (most recent call last):\n",
      "  File \"c:\\Users\\Yo\\AppData\\Local\\Programs\\Python\\Python37\\lib\\site-packages\\sklearn\\model_selection\\_validation.py\", line 680, in _fit_and_score\n",
      "    estimator.fit(X_train, y_train, **fit_params)\n",
      "  File \"c:\\Users\\Yo\\AppData\\Local\\Programs\\Python\\Python37\\lib\\site-packages\\sklearn\\pipeline.py\", line 394, in fit\n",
      "    self._final_estimator.fit(Xt, y, **fit_params_last_step)\n",
      "  File \"c:\\Users\\Yo\\AppData\\Local\\Programs\\Python\\Python37\\lib\\site-packages\\sklearn\\linear_model\\_logistic.py\", line 1461, in fit\n",
      "    solver = _check_solver(self.solver, self.penalty, self.dual)\n",
      "  File \"c:\\Users\\Yo\\AppData\\Local\\Programs\\Python\\Python37\\lib\\site-packages\\sklearn\\linear_model\\_logistic.py\", line 449, in _check_solver\n",
      "    % (solver, penalty)\n",
      "ValueError: Solver lbfgs supports only 'l2' or 'none' penalties, got l1 penalty.\n",
      "\n",
      "  warnings.warn(some_fits_failed_message, FitFailedWarning)\n",
      "c:\\Users\\Yo\\AppData\\Local\\Programs\\Python\\Python37\\lib\\site-packages\\sklearn\\model_selection\\_search.py:972: UserWarning: One or more of the test scores are non-finite: [0.66555444 0.6750503  0.6930164  0.72407719 0.7281839  0.66555444\n",
      " 0.66555444 0.66555444 0.66555444 0.66555444 0.66555444 0.66555444\n",
      " 0.66555444 0.66555444 0.66581104 0.66555444 0.7156042  0.72150934\n",
      " 0.73742632 0.73511429 0.66555444 0.66555444 0.66555444 0.66555444\n",
      " 0.66555444 0.66555444 0.55184621 0.62807825 0.66555444 0.66657948\n",
      " 0.66555444 0.73203618 0.73485728 0.7512859  0.74024782 0.66555444\n",
      " 0.66555444 0.66555444 0.66555444 0.66555444 0.55825191 0.49666232\n",
      " 0.49897199 0.49666114 0.56004777        nan        nan        nan\n",
      "        nan        nan 0.68711581 0.72510639 0.7353705  0.74255947\n",
      " 0.73947859        nan        nan        nan        nan        nan\n",
      " 0.68711581 0.72741586 0.73382927 0.74563994 0.73947919        nan\n",
      "        nan        nan        nan        nan 0.68711581 0.72638864\n",
      " 0.73280244 0.74666637 0.74281588        nan        nan        nan\n",
      "        nan        nan 0.68711581 0.72741527 0.7345985  0.74461154\n",
      " 0.74255887        nan        nan        nan        nan        nan\n",
      " 0.68711581 0.72613223 0.7345985  0.74692397 0.74307406 0.6978955\n",
      " 0.70071977 0.70123496 0.69892272 0.68352271 0.70970479 0.72664386\n",
      " 0.73178036 0.73100916 0.72048429 0.69686927 0.70713555 0.70354482\n",
      " 0.69302075 0.68300554 0.71586416 0.73793934 0.73716972 0.72767148\n",
      " 0.72920915 0.69789787 0.70251424 0.69712508 0.69122331 0.68942073\n",
      " 0.71945746 0.73691232 0.74127445 0.73665452 0.73305787 0.70457007\n",
      " 0.70739216 0.6945594  0.68480574 0.68557201 0.724076   0.73845275\n",
      " 0.74409753 0.73691172 0.73665334 0.70097835 0.708932   0.69969492\n",
      " 0.68531757 0.68865189 0.72741388 0.73819496 0.74332771 0.73639752\n",
      " 0.74152928 0.68455072 0.73383441 0.70277006 0.72151448 0.70995942\n",
      " 0.68147301 0.73537267 0.71278388 0.72228114 0.70431425 0.68147182\n",
      " 0.73229318 0.70816099 0.71355371 0.7063677  0.67428503 0.73152474\n",
      " 0.69943337 0.71791881 0.71047086 0.68326926 0.73562928 0.70662471\n",
      " 0.72664524 0.70662313 0.67787714 0.73460147 0.70765035 0.71894425\n",
      " 0.70790458 0.6724864  0.73408963 0.70764936 0.71637501 0.7125257\n",
      " 0.67839075 0.7320342  0.7012314  0.72202354 0.7055961  0.67736373\n",
      " 0.73434486 0.70816198 0.71457915 0.70559887 0.71073023 0.74589596\n",
      " 0.7441003  0.74461332 0.7546218  0.70867717 0.74589635 0.74435631\n",
      " 0.74589655 0.74820266 0.70713693 0.74640957 0.74127445 0.74640878\n",
      " 0.75718907 0.70816218 0.74563994 0.73819654 0.74692199 0.75179892\n",
      " 0.70944719 0.74486913 0.74153165 0.74692298 0.75410839 0.70688052\n",
      " 0.74512633 0.74024822 0.75000267 0.74974488 0.70662253 0.74589675\n",
      " 0.74050403 0.74692318 0.74692199 0.70790794 0.74486992 0.7399924\n",
      " 0.74820642 0.75051569 0.70687973 0.74692338 0.74256006 0.7512865\n",
      " 0.74974606 0.70687954 0.74974685 0.74974507 0.75488039 0.76488967\n",
      " 0.7097036  0.75000306 0.75205593 0.75616303 0.76078256 0.70816337\n",
      " 0.7546224  0.75154251 0.75641905 0.76155278 0.70764975 0.75179892\n",
      " 0.75102851 0.75667546 0.75795909 0.71098644 0.75025987 0.75154291\n",
      " 0.75616323 0.76052576 0.7094466  0.75231214 0.75179793 0.75410938\n",
      " 0.7625798  0.70867678 0.75000208 0.7510293  0.7551368  0.76026816\n",
      " 0.70790696 0.74974567 0.75025829 0.7548798  0.75924213 0.70636533\n",
      " 0.75051628 0.75025789 0.75744587 0.76103937 0.71843004 0.76001551\n",
      " 0.75975593 0.75924371 0.77259126 0.71714444 0.76258099 0.7651443\n",
      " 0.76873859 0.77644077 0.71688901 0.76386502 0.76771393 0.77335891\n",
      " 0.77798002 0.71842767 0.75821787 0.76514786 0.77002143 0.77772203\n",
      " 0.71252431 0.7738741  0.76976561 0.77951789 0.78336918 0.72048053\n",
      " 0.76822735 0.77798081 0.78875932 0.79030154 0.71252471 0.76103976\n",
      " 0.76386363 0.77027962 0.77951887 0.71432175 0.76412064 0.77592795\n",
      " 0.77464372 0.79055676 0.71535075 0.76848455 0.77413249 0.77875142\n",
      " 0.79800056]\n",
      "  category=UserWarning,\n"
     ]
    }
   ],
   "source": [
    "best_model = clf.fit(X_train, y_train)"
   ]
  },
  {
   "cell_type": "code",
   "execution_count": 62,
   "metadata": {},
   "outputs": [],
   "source": [
    "y_pred = best_model.best_estimator_.predict(X_test)"
   ]
  },
  {
   "cell_type": "code",
   "execution_count": 63,
   "metadata": {},
   "outputs": [
    {
     "name": "stdout",
     "output_type": "stream",
     "text": [
      "Best model. Best Score 0.7980005559173368 \n",
      " --------------------------------------------------\n",
      "Best model. Best Params {'classifier': GradientBoostingClassifier(learning_rate=0.5, n_estimators=150), 'classifier__learning_rate': 0.5, 'classifier__n_estimators': 150, 'kbest__k': 11} \n",
      " --------------------------------------------------\n",
      "Accuracy Score 0.8141683778234087 \n",
      " --------------------------------------------------\n",
      "Confusion Matrix \n",
      " [[226 101]\n",
      " [ 80 567]] \n",
      " --------------------------------------------------\n"
     ]
    },
    {
     "data": {
      "image/png": "[encoded data removed]",
      "text/plain": [
       "<Figure size 432x288 with 2 Axes>"
      ]
     },
     "metadata": {
      "needs_background": "light"
     },
     "output_type": "display_data"
    }
   ],
   "source": [
    "print('Best model. Best Score', best_model.best_score_, '\\n','-'*50)\n",
    "print('Best model. Best Params', best_model.best_params_, '\\n','-'*50)\n",
    "print('Accuracy Score', accuracy_score(y_test, y_pred), '\\n','-'*50)\n",
    "print('Confusion Matrix \\n', confusion_matrix(y_test,y_pred), '\\n','-'*50)\n",
    "sns.heatmap(confusion_matrix(y_test,y_pred, normalize='true'), annot=True);"
   ]
  },
  {
   "cell_type": "markdown",
   "metadata": {},
   "source": [
    "<font size=\"6\"><span style=\"color:red\">Modelo 4: Con PipeLine y GridSearch\n",
    "\n",
    "MODELOS: LogisticRegression, KNeighborsClassifier, RandomForestClassifier, GradientBoostingClassifier, SVC, \n",
    "\n",
    "VARIABLES: Todas\n",
    "\n",
    "ESCALADO: SÍ"
   ]
  },
  {
   "cell_type": "code",
   "execution_count": 108,
   "metadata": {},
   "outputs": [],
   "source": [
    "\n",
    "pipe = Pipeline(steps=[('scaler', StandardScaler()),\n",
    "                       ('kbest', SelectKBest()),\n",
    "                       ('classifier', LogisticRegression(random_state=seed))])"
   ]
  },
  {
   "cell_type": "code",
   "execution_count": 115,
   "metadata": {},
   "outputs": [],
   "source": [
    "svm_params = {'kbest__k': [2,5,7,9,11],\n",
    "              'classifier': [SVC()],\n",
    "              'classifier__C': [0.05,0.1,0.3,0.5],\n",
    "              'classifier__kernel': ['linear','rbf','sigmoid']\n",
    "}\n",
    "\n",
    "log_params = {'kbest__k': [2,5,7,9,11],\n",
    "              'classifier': [LogisticRegression()],\n",
    "              'classifier__penalty': ['l1','l2'],\n",
    "              'classifier__C': np.logspace(0,2,5)\n",
    "}\n",
    "\n",
    "knn_params = {'kbest__k': [2,5,7,9,11],\n",
    "              'classifier': [KNeighborsClassifier()],\n",
    "              'classifier__n_neighbors': [3,5,7,9,11],\n",
    "              'classifier__weights': ['uniform','distance']\n",
    "}\n",
    "\n",
    "rf_params = {'kbest__k': [2,5,7,9,11],\n",
    "              'classifier': [RandomForestClassifier()],\n",
    "              'classifier__n_estimators': [100,150,200],\n",
    "              'classifier__max_depth': [2,3,4,5,6,7],\n",
    "              'classifier__min_samples_leaf': [3,5,7]\n",
    "}\n",
    "\n",
    "gb_params = {'kbest__k': [2,5,7,9,11],\n",
    "              'classifier': [GradientBoostingClassifier()],\n",
    "              'classifier__n_estimators': [100,130,150,200],\n",
    "              'classifier__learning_rate': [0.1,0.3,0.5,0.7,1]\n",
    "}\n",
    "\n",
    "ada_params = {'kbest__k': [2,5,7,9,11],\n",
    "              'classifier': [AdaBoostClassifier()],\n",
    "            #   'classifier__max_depth': [2,3,4],\n",
    "              'classifier__n_estimators': [50,100,150,200],\n",
    "              'classifier__learning_rate': [0.1,0.3,0.5,0.7,1]\n",
    "}\n",
    "\n",
    "xgb_params = {'kbest__k': [2,5,7,9,11],\n",
    "              'classifier': [xgboost.XGBRFClassifier()],\n",
    "              'classifier__n_estimators': [50,100,150,200],\n",
    "              'classifier__learning_rate': [0.1,0.3,0.5,0.7,1]\n",
    "}\n",
    "\n",
    "# FALTA XGBRF\n",
    "\n",
    "\n",
    "# search_space = [svm_params, log_params, knn_params, rf_params, gb_params, ada_params]\n",
    "search_space = [svm_params, log_params, knn_params, rf_params, gb_params, ada_params, xgb_params]"
   ]
  },
  {
   "cell_type": "code",
   "execution_count": 116,
   "metadata": {},
   "outputs": [],
   "source": [
    "clf = GridSearchCV(estimator=pipe, param_grid=search_space, cv=3, n_jobs=-1)"
   ]
  },
  {
   "cell_type": "code",
   "execution_count": 117,
   "metadata": {},
   "outputs": [
    {
     "name": "stderr",
     "output_type": "stream",
     "text": [
      "c:\\Users\\Yo\\AppData\\Local\\Programs\\Python\\Python37\\lib\\site-packages\\sklearn\\model_selection\\_validation.py:372: FitFailedWarning: \n",
      "75 fits failed out of a total of 2295.\n",
      "The score on these train-test partitions for these parameters will be set to nan.\n",
      "If these failures are not expected, you can try to debug them by setting error_score='raise'.\n",
      "\n",
      "Below are more details about the failures:\n",
      "--------------------------------------------------------------------------------\n",
      "75 fits failed with the following error:\n",
      "Traceback (most recent call last):\n",
      "  File \"c:\\Users\\Yo\\AppData\\Local\\Programs\\Python\\Python37\\lib\\site-packages\\sklearn\\model_selection\\_validation.py\", line 680, in _fit_and_score\n",
      "    estimator.fit(X_train, y_train, **fit_params)\n",
      "  File \"c:\\Users\\Yo\\AppData\\Local\\Programs\\Python\\Python37\\lib\\site-packages\\sklearn\\pipeline.py\", line 394, in fit\n",
      "    self._final_estimator.fit(Xt, y, **fit_params_last_step)\n",
      "  File \"c:\\Users\\Yo\\AppData\\Local\\Programs\\Python\\Python37\\lib\\site-packages\\sklearn\\linear_model\\_logistic.py\", line 1461, in fit\n",
      "    solver = _check_solver(self.solver, self.penalty, self.dual)\n",
      "  File \"c:\\Users\\Yo\\AppData\\Local\\Programs\\Python\\Python37\\lib\\site-packages\\sklearn\\linear_model\\_logistic.py\", line 449, in _check_solver\n",
      "    % (solver, penalty)\n",
      "ValueError: Solver lbfgs supports only 'l2' or 'none' penalties, got l1 penalty.\n",
      "\n",
      "  warnings.warn(some_fits_failed_message, FitFailedWarning)\n",
      "c:\\Users\\Yo\\AppData\\Local\\Programs\\Python\\Python37\\lib\\site-packages\\sklearn\\model_selection\\_search.py:972: UserWarning: One or more of the test scores are non-finite: [0.66555444 0.74127663 0.74718018 0.74820721 0.74564014 0.70020853\n",
      " 0.73716833 0.73049298 0.72510283 0.71689119 0.66452405 0.71252846\n",
      " 0.71817383 0.72023045 0.7132971  0.66555444 0.74410069 0.74692417\n",
      " 0.75026125 0.74461272 0.70559788 0.74717821 0.74948728 0.74743382\n",
      " 0.75539024 0.64706939 0.7166328  0.69995014 0.71124206 0.70533851\n",
      " 0.66555444 0.74538314 0.74743719 0.74923364 0.74589596 0.70842057\n",
      " 0.75102969 0.7574439  0.76540269 0.77181788 0.63680074 0.68916748\n",
      " 0.68454577 0.681731   0.68660219 0.66555444 0.74692298 0.74923403\n",
      " 0.74897723 0.74666598 0.7061107  0.75308275 0.75795711 0.76437586\n",
      " 0.77592538 0.63474709 0.67299507 0.66888836 0.68377991 0.68044084\n",
      "        nan        nan        nan        nan        nan 0.68583237\n",
      " 0.74538314 0.74974586 0.74666776 0.74486973        nan        nan\n",
      "        nan        nan        nan 0.68634598 0.74461332 0.74923245\n",
      " 0.74589774 0.74538294        nan        nan        nan        nan\n",
      "        nan 0.68660259 0.74486992 0.74923245 0.74615415 0.74563955\n",
      "        nan        nan        nan        nan        nan 0.68634578\n",
      " 0.74486992 0.74923245 0.74641075 0.74563975        nan        nan\n",
      "        nan        nan        nan 0.68634578 0.74486992 0.74923245\n",
      " 0.74641075 0.74563975 0.70277223 0.7428141  0.75153816 0.74897525\n",
      " 0.7582151  0.71637718 0.77207607 0.78131295 0.78054531 0.78901553\n",
      " 0.70251721 0.74512416 0.73947543 0.74076044 0.75538748 0.72099909\n",
      " 0.78337036 0.78336661 0.78157213 0.79517392 0.69764245 0.7499999\n",
      " 0.74640561 0.74050166 0.75744034 0.72279494 0.79183881 0.79132283\n",
      " 0.78619146 0.80261673 0.70046494 0.75256637 0.74204151 0.74255591\n",
      " 0.75821095 0.72459021 0.79414867 0.79081119 0.78978298 0.80338754\n",
      " 0.69250812 0.75538965 0.7453778  0.74332652 0.75718511 0.72459159\n",
      " 0.80185026 0.79080882 0.78696069 0.80338773 0.68686157 0.73460245\n",
      " 0.70713753 0.72510678 0.70739315 0.68352607 0.72895709 0.70970123\n",
      " 0.71560598 0.7094466  0.67864657 0.73768273 0.70200162 0.71945924\n",
      " 0.71124226 0.68890969 0.73126655 0.71278369 0.7189482  0.70636494\n",
      " 0.67916136 0.73460344 0.70739236 0.70662115 0.71406554 0.68250023\n",
      " 0.73101014 0.70919237 0.71842728 0.70713516 0.67299823 0.73255157\n",
      " 0.71098921 0.71740678 0.71483833 0.67659311 0.7328066  0.70944403\n",
      " 0.7166326  0.70713555 0.67787714 0.7333208  0.71124108 0.72613262\n",
      " 0.70585172 0.70431326 0.7440999  0.74230286 0.74512515 0.74717998\n",
      " 0.70662392 0.74538274 0.73922218 0.747436   0.75308216 0.70636731\n",
      " 0.74384409 0.74307387 0.74820602 0.74948906 0.70533969 0.74666598\n",
      " 0.73947899 0.74769261 0.7505149  0.70842076 0.7441005  0.73999141\n",
      " 0.74615336 0.74923206 0.70867717 0.74666637 0.73947859 0.74923324\n",
      " 0.74897644 0.70585192 0.74486973 0.7405066  0.74538215 0.74820503\n",
      " 0.7050821  0.74589596 0.74461332 0.7441003  0.75128432 0.70816455\n",
      " 0.74589655 0.7433287  0.74615257 0.75487841 0.70842017 0.75000227\n",
      " 0.75000129 0.75539242 0.76334963 0.71072964 0.75282595 0.74974488\n",
      " 0.75359735 0.76001096 0.70918999 0.75385297 0.75205474 0.75770386\n",
      " 0.76180919 0.70893418 0.74871983 0.75077131 0.75718946 0.76232339\n",
      " 0.7097036  0.75231451 0.75000287 0.7546222  0.76026816 0.7097038\n",
      " 0.75282496 0.75333837 0.75616323 0.76257941 0.71021722 0.75333877\n",
      " 0.74897406 0.75616323 0.76026875 0.7097038  0.74923265 0.75128492\n",
      " 0.75513601 0.76129341 0.70688033 0.75359537 0.75359537 0.75334035\n",
      " 0.76437606 0.71509355 0.75616283 0.75513541 0.76180959 0.76899598\n",
      " 0.7125251  0.75231313 0.75924173 0.76283621 0.7700234  0.71534917\n",
      " 0.75693305 0.75718887 0.76566048 0.77464333 0.71201268 0.75744805\n",
      " 0.75564903 0.76386304 0.77259027 0.71124266 0.75667684 0.75847151\n",
      " 0.76309421 0.77361591 0.71226909 0.7548798  0.75693266 0.76514628\n",
      " 0.7736171  0.71380834 0.75488039 0.75436539 0.76463365 0.76925338\n",
      " 0.71355213 0.75513719 0.75847329 0.76180998 0.77233228 0.71483497\n",
      " 0.75770367 0.75898473 0.75924311 0.76873938 0.71791505 0.76232399\n",
      " 0.76514588 0.77027922 0.77746542 0.72176456 0.75975613 0.76617172\n",
      " 0.76848316 0.77977489 0.71996831 0.76412024 0.76411886 0.76899618\n",
      " 0.77669619 0.71637422 0.76155318 0.7659159  0.77079184 0.77361571\n",
      " 0.72073833 0.75975593 0.76386185 0.76771295 0.77874964 0.71945469\n",
      " 0.76206718 0.76001274 0.7692516  0.77566818 0.71817185 0.75873089\n",
      " 0.76257882 0.77002261 0.77387192 0.71765726 0.76001313 0.76155179\n",
      " 0.76617192 0.77823742 0.71945469 0.76027053 0.76437546 0.76694253\n",
      " 0.7769526  0.72099493 0.76719993 0.7731019  0.77720842 0.78593505\n",
      " 0.72176416 0.76463385 0.77027863 0.77566897 0.78542223 0.72304799\n",
      " 0.76540367 0.77207389 0.77412774 0.78259856 0.72227936 0.76745535\n",
      " 0.76565831 0.77695043 0.78362499 0.72150835 0.76386324 0.77027843\n",
      " 0.77412754 0.78439501 0.71791465 0.76566068 0.77181847 0.77643919\n",
      " 0.7802887  0.71868467 0.76360722 0.76976442 0.77335891 0.78388318\n",
      " 0.72073872 0.76334943 0.76848158 0.77464096 0.78182913 0.71971051\n",
      " 0.7661737  0.76745456 0.77387212 0.78208535 0.71688743 0.7630944\n",
      " 0.76488789 0.76822537 0.77644077 0.71534858 0.76463365 0.76514588\n",
      " 0.77233188 0.77464274 0.71688901 0.76360801 0.76925398 0.77361571\n",
      " 0.77746661 0.72356239 0.76745772 0.76873859 0.77669678 0.7813177\n",
      " 0.71765627 0.7733599  0.77053504 0.77874767 0.78157233 0.71842708\n",
      " 0.7666881  0.77541335 0.78285458 0.78824808 0.71663122 0.76822675\n",
      " 0.77875083 0.78747628 0.78978793 0.71509177 0.76976541 0.78465459\n",
      " 0.78773309 0.79209838 0.71226869 0.76412044 0.77567075 0.7736167\n",
      " 0.79106997 0.71380992 0.76463247 0.77977884 0.77823564 0.79363585\n",
      " 0.71406673 0.76822754 0.77490251 0.77900823 0.7959471  0.71765983\n",
      " 0.76925259 0.78208792 0.78336957 0.79671732 0.71560934 0.76796679\n",
      " 0.77130664 0.77874925 0.78619403 0.71201228 0.77438712 0.76925417\n",
      " 0.77695359 0.79261239 0.71586159 0.77104944 0.77079303 0.77541533\n",
      " 0.79902896 0.7197119  0.77028021 0.77361808 0.77721039 0.79569346\n",
      " 0.70790735 0.76617251 0.75873029 0.76899717 0.77798101 0.70405685\n",
      " 0.75873049 0.76566285 0.76334923 0.78183012 0.70867678 0.76180959\n",
      " 0.76925635 0.76694391 0.77977647 0.71201208 0.76540328 0.76822913\n",
      " 0.76874175 0.7843964  0.70610912 0.73973737 0.74127663 0.74230424\n",
      " 0.74461411 0.7089326  0.75051707 0.74153521 0.7440997  0.75795909\n",
      " 0.70764956 0.74769379 0.74179201 0.74589655 0.76232399 0.70739295\n",
      " 0.75077388 0.74230483 0.7479504  0.76103976 0.70739295 0.75077407\n",
      " 0.74410129 0.75026026 0.7628376  0.70841997 0.75128729 0.74410129\n",
      " 0.75077348 0.76335141 0.71021623 0.75410997 0.74794961 0.75205632\n",
      " 0.7628372  0.70841898 0.75436836 0.74564054 0.7515433  0.76155298\n",
      " 0.70790498 0.75051351 0.74409674 0.75513443 0.75667625 0.7086752\n",
      " 0.75308117 0.74923126 0.75359439 0.76257882 0.70944561 0.74897387\n",
      " 0.74948649 0.75616066 0.76232162 0.7086752  0.75179734 0.75051371\n",
      " 0.75436362 0.76103759 0.70970242 0.75102732 0.75025671 0.75590425\n",
      " 0.76309223 0.71021504 0.7502575  0.75205336 0.75693028 0.76488868\n",
      " 0.7055961  0.74897683 0.75051648 0.7515439  0.75282693 0.7050821\n",
      " 0.75077229 0.75154212 0.74897525 0.75616402 0.7048249  0.74794902\n",
      " 0.75154192 0.75000346 0.76129617 0.70379807 0.74640898 0.75256855\n",
      " 0.75308374 0.7623228  0.70379807 0.74589616 0.75000168 0.75462418\n",
      " 0.76206639 0.70277243 0.74640917 0.7507715  0.7512863  0.76309322\n",
      " 0.70482588 0.74820622 0.74820523 0.75180031 0.76078375 0.70790557\n",
      " 0.74692318 0.74769221 0.74461134 0.7546222  0.70328545 0.74435572\n",
      " 0.74717722 0.74512574 0.76129696 0.70379866 0.74281508 0.74409773\n",
      " 0.74871884 0.76206639 0.70764778 0.74666479 0.74050522 0.74820661\n",
      " 0.7579581  0.70559511 0.7471788  0.74024861 0.74846322 0.75770169\n",
      " 0.70739196 0.74769122 0.74435493 0.74615355 0.75821668 0.7053393\n",
      " 0.74435453 0.74435414 0.75308315 0.75616145 0.70431129 0.74846184\n",
      " 0.74384171 0.74820424 0.74769004 0.70148821 0.74512297 0.7425563\n",
      " 0.74358629 0.74486913 0.69917854 0.74204526 0.74229969 0.74512455\n",
      " 0.75179912 0.70046217 0.74101863 0.74153185 0.74358609 0.7515433\n",
      " 0.70225842 0.74178846 0.74178846 0.74384211 0.75590781 0.70174521\n",
      " 0.74538116 0.7430713  0.74640917 0.75436737 0.69917953 0.74204506\n",
      " 0.74486854 0.74563856 0.75308176 0.71534937 0.7548792  0.75410898\n",
      " 0.7656585  0.769766   0.71714602 0.75744647 0.75821589 0.76334864\n",
      " 0.77464333 0.71817146 0.75564922 0.7584725  0.76232241 0.77310269\n",
      " 0.71868606 0.75667565 0.75847191 0.76257901 0.77181926 0.71534937\n",
      " 0.7548792  0.75410898 0.7656585  0.769766   0.71714602 0.75744647\n",
      " 0.75821589 0.76334864 0.77464333 0.71817146 0.75564922 0.7584725\n",
      " 0.76232241 0.77310269 0.71868606 0.75667565 0.75847191 0.76257901\n",
      " 0.77181926 0.71534937 0.7548792  0.75410898 0.7656585  0.769766\n",
      " 0.71714602 0.75744647 0.75821589 0.76334864 0.77464333 0.71817146\n",
      " 0.75564922 0.7584725  0.76232241 0.77310269 0.71868606 0.75667565\n",
      " 0.75847191 0.76257901 0.77181926]\n",
      "  category=UserWarning,\n"
     ]
    }
   ],
   "source": [
    "best_model = clf.fit(X_train, y_train)"
   ]
  },
  {
   "cell_type": "code",
   "execution_count": 118,
   "metadata": {},
   "outputs": [],
   "source": [
    "y_pred = best_model.best_estimator_.predict(X_test)"
   ]
  },
  {
   "cell_type": "code",
   "execution_count": 119,
   "metadata": {},
   "outputs": [
    {
     "name": "stdout",
     "output_type": "stream",
     "text": [
      "Best model. Best Score 0.8033877349452564 \n",
      " --------------------------------------------------\n",
      "Best model. Best Params {'classifier': KNeighborsClassifier(n_neighbors=11, weights='distance'), 'classifier__n_neighbors': 11, 'classifier__weights': 'distance', 'kbest__k': 11} \n",
      " --------------------------------------------------\n",
      "Accuracy Score 0.8254620123203286 \n",
      " --------------------------------------------------\n",
      "Confusion Matrix \n",
      " [[211 116]\n",
      " [ 54 593]] \n",
      " --------------------------------------------------\n"
     ]
    },
    {
     "data": {
      "image/png": "[encoded data removed]",
      "text/plain": [
       "<Figure size 432x288 with 2 Axes>"
      ]
     },
     "metadata": {
      "needs_background": "light"
     },
     "output_type": "display_data"
    }
   ],
   "source": [
    "print('Best model. Best Score', best_model.best_score_, '\\n','-'*50)\n",
    "print('Best model. Best Params', best_model.best_params_, '\\n','-'*50)\n",
    "print('Accuracy Score', accuracy_score(y_test, y_pred), '\\n','-'*50)\n",
    "print('Confusion Matrix \\n', confusion_matrix(y_test,y_pred), '\\n','-'*50)\n",
    "sns.heatmap(confusion_matrix(y_test,y_pred, normalize='true'), annot=True);"
   ]
  },
  {
   "cell_type": "markdown",
   "metadata": {},
   "source": [
    "<font size=\"6\"><span style=\"color:orange\">PRUEBA AdaBoost\n",
    "\n",
    "Con todas las variables"
   ]
  },
  {
   "cell_type": "code",
   "execution_count": 81,
   "metadata": {},
   "outputs": [
    {
     "data": {
      "text/plain": [
       "0.8326488706365504"
      ]
     },
     "execution_count": 81,
     "metadata": {},
     "output_type": "execute_result"
    }
   ],
   "source": [
    "estimator = DecisionTreeClassifier(max_depth=7)\n",
    "\n",
    "ada_clf = AdaBoostClassifier(base_estimator = estimator, #Se sulene utilizar Arboles de decision para el AdaBoost\n",
    "                             n_estimators=200,\n",
    "                             learning_rate=0.5, #es el parametro del ejemplo de MIGUEL de la pagina de google. Los puntos en la curva, step by step\n",
    "                             random_state=seed)\n",
    "\n",
    "ada_clf.fit(X_train, y_train)\n",
    "\n",
    "y_pred = ada_clf.predict(X_test)\n",
    "accuracy_score(y_test, y_pred)"
   ]
  },
  {
   "cell_type": "markdown",
   "metadata": {},
   "source": [
    "<font size=\"6\"><span style=\"color:orange\">PRUEBA XGBClassifier\n",
    "\n",
    "Con todas las variables"
   ]
  },
  {
   "cell_type": "code",
   "execution_count": 82,
   "metadata": {},
   "outputs": [
    {
     "data": {
      "text/plain": [
       "0.8275154004106776"
      ]
     },
     "execution_count": 82,
     "metadata": {},
     "output_type": "execute_result"
    }
   ],
   "source": [
    "xgb_clas = xgboost.XGBClassifier(random_state=seed) \n",
    "\n",
    "# No confundir con  xgboost.XGBRFClassifier\n",
    "\n",
    "# xgboost.XGBRFClassifier En cada secuencia tiene un RandomForest\n",
    "# xgboost.XGBClassifier sin RandomForest\n",
    "\n",
    "xgb_clas.fit(X_train, y_train)\n",
    "y_pred = xgb_clas.predict(X_test)\n",
    "accuracy_score(y_test, y_pred)"
   ]
  },
  {
   "cell_type": "code",
   "execution_count": 83,
   "metadata": {},
   "outputs": [
    {
     "data": {
      "text/plain": [
       "0.7864476386036962"
      ]
     },
     "execution_count": 83,
     "metadata": {},
     "output_type": "execute_result"
    }
   ],
   "source": [
    "xgbrf_clas = xgboost.XGBRFClassifier(random_state=seed) \n",
    "\n",
    "# No confundir con  xgboost.XGBRFClassifier\n",
    "\n",
    "# xgboost.XGBRFClassifier En cada secuencia tiene un RandomForest\n",
    "# xgboost.XGBClassifier sin RandomForest\n",
    "\n",
    "xgbrf_clas.fit(X_train, y_train)\n",
    "y_pred = xgbrf_clas.predict(X_test)\n",
    "accuracy_score(y_test, y_pred)"
   ]
  },
  {
   "cell_type": "markdown",
   "metadata": {},
   "source": [
    "<font size=\"6\"><span style=\"color:orange\">PRUEBA GridSearch con Scaler\n",
    "\n",
    "Con menos variables"
   ]
  },
  {
   "cell_type": "code",
   "execution_count": 120,
   "metadata": {},
   "outputs": [
    {
     "data": {
      "image/png": "[encoded data removed]",
      "text/plain": [
       "<Figure size 1080x720 with 2 Axes>"
      ]
     },
     "metadata": {
      "needs_background": "light"
     },
     "output_type": "display_data"
    }
   ],
   "source": [
    "plt.figure(figsize=(15,10))\n",
    "sns.heatmap(blanco.corr(), annot=True);"
   ]
  },
  {
   "cell_type": "code",
   "execution_count": 149,
   "metadata": {},
   "outputs": [],
   "source": [
    "X = blanco[['fixed acidity','volatile acidity', 'citric acid','residual sugar', 'chlorides', 'total sulfur dioxide', 'pH','sulphates','alcohol']]\n",
    "y = blanco['apto']\n",
    "\n",
    "\n",
    "X_train, X_test, y_train, y_test = train_test_split(X, y, test_size=0.2, random_state=seed)"
   ]
  },
  {
   "cell_type": "code",
   "execution_count": 150,
   "metadata": {},
   "outputs": [],
   "source": [
    "pipe = Pipeline(steps=[('scaler', StandardScaler()),\n",
    "                       ('kbest', SelectKBest()),\n",
    "                       ('classifier', LogisticRegression(random_state=seed))])"
   ]
  },
  {
   "cell_type": "code",
   "execution_count": 151,
   "metadata": {},
   "outputs": [],
   "source": [
    "svm_params = {'kbest__k': [2,5,7,9,11],\n",
    "              'classifier': [SVC()],\n",
    "              'classifier__C': [0.05,0.1,0.3,0.5],\n",
    "              'classifier__kernel': ['linear','rbf','sigmoid']\n",
    "}\n",
    "\n",
    "log_params = {'kbest__k': [2,5,7,9,11],\n",
    "              'classifier': [LogisticRegression()],\n",
    "              'classifier__penalty': ['l1','l2'],\n",
    "              'classifier__C': np.logspace(0,2,5)\n",
    "}\n",
    "\n",
    "knn_params = {'kbest__k': [2,5,7,9,11],\n",
    "              'classifier': [KNeighborsClassifier()],\n",
    "              'classifier__n_neighbors': [3,5,7,9,11,13],\n",
    "              'classifier__weights': ['uniform','distance']\n",
    "}\n",
    "\n",
    "rf_params = {'kbest__k': [2,5,7,9,11],\n",
    "              'classifier': [RandomForestClassifier()],\n",
    "              'classifier__n_estimators': [100,150,200],\n",
    "              'classifier__max_depth': [2,3,4,5,6,7],\n",
    "              'classifier__min_samples_leaf': [3,5,7]\n",
    "}\n",
    "\n",
    "gb_params = {'kbest__k': [2,5,7,9,11],\n",
    "              'classifier': [GradientBoostingClassifier()],\n",
    "              'classifier__n_estimators': [100,130,150,200],\n",
    "              'classifier__learning_rate': [0.1,0.3,0.5,0.7,1]\n",
    "}\n",
    "\n",
    "ada_params = {'kbest__k': [2,5,7,9,11],\n",
    "              'classifier': [AdaBoostClassifier()],\n",
    "            #   'classifier__max_depth': [2,3,4],\n",
    "              'classifier__n_estimators': [50,100,150,200],\n",
    "              'classifier__learning_rate': [0.1,0.3,0.5,0.7,1]\n",
    "}\n",
    "\n",
    "xgb_params = {'kbest__k': [2,5,7,9,11],\n",
    "              'classifier': [xgboost.XGBRFClassifier()],\n",
    "              'classifier__n_estimators': [50,100,150,200],\n",
    "              'classifier__learning_rate': [0.1,0.3,0.5,0.7,1]\n",
    "}\n",
    "\n",
    "# FALTA XGBRF\n",
    "\n",
    "\n",
    "# search_space = [svm_params, log_params, knn_params, rf_params, gb_params, ada_params]\n",
    "search_space = [svm_params, log_params, knn_params, rf_params, gb_params, ada_params, xgb_params]"
   ]
  },
  {
   "cell_type": "code",
   "execution_count": 152,
   "metadata": {},
   "outputs": [],
   "source": [
    "clf = GridSearchCV(estimator=pipe, param_grid=search_space, cv=3, n_jobs=-1)\n",
    "# clf = GridSearchCV(estimator=pipe, param_grid=search_space, cv=10, n_jobs=-1) MISMO RESULTADO"
   ]
  },
  {
   "cell_type": "code",
   "execution_count": 153,
   "metadata": {},
   "outputs": [
    {
     "name": "stderr",
     "output_type": "stream",
     "text": [
      "c:\\Users\\Yo\\AppData\\Local\\Programs\\Python\\Python37\\lib\\site-packages\\sklearn\\model_selection\\_validation.py:372: FitFailedWarning: \n",
      "1680 fits failed out of a total of 7400.\n",
      "The score on these train-test partitions for these parameters will be set to nan.\n",
      "If these failures are not expected, you can try to debug them by setting error_score='raise'.\n",
      "\n",
      "Below are more details about the failures:\n",
      "--------------------------------------------------------------------------------\n",
      "1480 fits failed with the following error:\n",
      "Traceback (most recent call last):\n",
      "  File \"c:\\Users\\Yo\\AppData\\Local\\Programs\\Python\\Python37\\lib\\site-packages\\sklearn\\model_selection\\_validation.py\", line 680, in _fit_and_score\n",
      "    estimator.fit(X_train, y_train, **fit_params)\n",
      "  File \"c:\\Users\\Yo\\AppData\\Local\\Programs\\Python\\Python37\\lib\\site-packages\\sklearn\\pipeline.py\", line 390, in fit\n",
      "    Xt = self._fit(X, y, **fit_params_steps)\n",
      "  File \"c:\\Users\\Yo\\AppData\\Local\\Programs\\Python\\Python37\\lib\\site-packages\\sklearn\\pipeline.py\", line 355, in _fit\n",
      "    **fit_params_steps[name],\n",
      "  File \"c:\\Users\\Yo\\AppData\\Local\\Programs\\Python\\Python37\\lib\\site-packages\\joblib\\memory.py\", line 349, in __call__\n",
      "    return self.func(*args, **kwargs)\n",
      "  File \"c:\\Users\\Yo\\AppData\\Local\\Programs\\Python\\Python37\\lib\\site-packages\\sklearn\\pipeline.py\", line 893, in _fit_transform_one\n",
      "    res = transformer.fit_transform(X, y, **fit_params)\n",
      "  File \"c:\\Users\\Yo\\AppData\\Local\\Programs\\Python\\Python37\\lib\\site-packages\\sklearn\\base.py\", line 855, in fit_transform\n",
      "    return self.fit(X, y, **fit_params).transform(X)\n",
      "  File \"c:\\Users\\Yo\\AppData\\Local\\Programs\\Python\\Python37\\lib\\site-packages\\sklearn\\feature_selection\\_univariate_selection.py\", line 407, in fit\n",
      "    self._check_params(X, y)\n",
      "  File \"c:\\Users\\Yo\\AppData\\Local\\Programs\\Python\\Python37\\lib\\site-packages\\sklearn\\feature_selection\\_univariate_selection.py\", line 606, in _check_params\n",
      "    \"Use k='all' to return all features.\" % (X.shape[1], self.k)\n",
      "ValueError: k should be >=0, <= n_features = 9; got 11. Use k='all' to return all features.\n",
      "\n",
      "--------------------------------------------------------------------------------\n",
      "200 fits failed with the following error:\n",
      "Traceback (most recent call last):\n",
      "  File \"c:\\Users\\Yo\\AppData\\Local\\Programs\\Python\\Python37\\lib\\site-packages\\sklearn\\model_selection\\_validation.py\", line 680, in _fit_and_score\n",
      "    estimator.fit(X_train, y_train, **fit_params)\n",
      "  File \"c:\\Users\\Yo\\AppData\\Local\\Programs\\Python\\Python37\\lib\\site-packages\\sklearn\\pipeline.py\", line 394, in fit\n",
      "    self._final_estimator.fit(Xt, y, **fit_params_last_step)\n",
      "  File \"c:\\Users\\Yo\\AppData\\Local\\Programs\\Python\\Python37\\lib\\site-packages\\sklearn\\linear_model\\_logistic.py\", line 1461, in fit\n",
      "    solver = _check_solver(self.solver, self.penalty, self.dual)\n",
      "  File \"c:\\Users\\Yo\\AppData\\Local\\Programs\\Python\\Python37\\lib\\site-packages\\sklearn\\linear_model\\_logistic.py\", line 449, in _check_solver\n",
      "    % (solver, penalty)\n",
      "ValueError: Solver lbfgs supports only 'l2' or 'none' penalties, got l1 penalty.\n",
      "\n",
      "  warnings.warn(some_fits_failed_message, FitFailedWarning)\n",
      "c:\\Users\\Yo\\AppData\\Local\\Programs\\Python\\Python37\\lib\\site-packages\\sklearn\\model_selection\\_search.py:972: UserWarning: One or more of the test scores are non-finite: [0.73435172 0.73281524 0.75027025 0.75129326        nan 0.74256213\n",
      " 0.74229912 0.74744183 0.7361433         nan 0.67326808 0.70098346\n",
      " 0.71612616 0.71407158        nan 0.73563443 0.73255619 0.75052469\n",
      " 0.75180476        nan 0.74230571 0.75231033 0.75693494 0.7520559\n",
      "        nan 0.66223255 0.68635225 0.69739108 0.69329181        nan\n",
      " 0.73537802 0.73332608 0.75078241 0.75180542        nan 0.74410125\n",
      " 0.75744842 0.76334981 0.76745304        nan 0.65324369 0.65914376\n",
      " 0.68250742 0.67148375        nan 0.73537802 0.73358381 0.75103882\n",
      " 0.75154967        nan 0.74358843 0.75796058 0.76334981 0.7725852\n",
      "        nan 0.6514475  0.6591464  0.67993804 0.67556522        nan\n",
      "        nan        nan        nan        nan        nan 0.72844967\n",
      " 0.72459956 0.75052271 0.750526          nan        nan        nan\n",
      "        nan        nan        nan 0.72870674 0.72460022 0.75077912\n",
      " 0.75026893        nan        nan        nan        nan        nan\n",
      "        nan 0.72870674 0.72460022 0.75077912 0.75026893        nan\n",
      "        nan        nan        nan        nan        nan 0.72870674\n",
      " 0.72460022 0.75077912 0.75026893        nan        nan        nan\n",
      "        nan        nan        nan 0.72870674 0.72460022 0.75077912\n",
      " 0.75026893        nan 0.72382638 0.73818535 0.76154637 0.77489552\n",
      "        nan 0.71638785 0.78618944 0.80441368 0.80929075        nan\n",
      " 0.73255224 0.73613407 0.75821106 0.75948586        nan 0.71022873\n",
      " 0.7923479  0.80851954 0.80235186        nan 0.73050227 0.74690792\n",
      " 0.75845692 0.75436029        nan 0.71202162 0.79978973 0.80979764\n",
      " 0.804152          nan 0.73767781 0.74613407 0.75846483 0.75923275\n",
      "        nan 0.71355745 0.80388966 0.81006064 0.81031178        nan\n",
      " 0.74332674 0.74742403 0.75564366 0.75974359        nan 0.71432668\n",
      " 0.80928416 0.81339529 0.81621251        nan 0.73845099 0.75179026\n",
      " 0.75435766 0.7556285         nan 0.71381517 0.8103131  0.81442225\n",
      " 0.81441302        nan 0.7394885  0.71920638 0.69532397 0.71022148\n",
      "        nan 0.73512293 0.71997429 0.6973858  0.71611627        nan\n",
      " 0.73794872 0.71997561 0.69327731 0.71098543        nan 0.73666469\n",
      " 0.7207455  0.69737789 0.71098214        nan 0.74230703 0.72100916\n",
      " 0.69660734 0.71380924        nan 0.73897106 0.71894799 0.69558236\n",
      " 0.7168888         nan 0.73974293 0.72485334 0.69866719 0.71380858\n",
      "        nan 0.73820447 0.71176323 0.69481247 0.71432865        nan\n",
      " 0.74025707 0.72023861 0.69455804 0.7127803         nan 0.74538132\n",
      " 0.74281854 0.73845429 0.7443537         nan 0.74897502 0.74102169\n",
      " 0.73460682 0.74795004        nan 0.74717553 0.74127876 0.7364096\n",
      " 0.74769231        nan 0.74743656 0.73948125 0.73461011 0.74332674\n",
      "        nan 0.74897502 0.74384418 0.7338389  0.74615121        nan\n",
      " 0.74872059 0.7423044  0.73743194 0.74974952        nan 0.74692505\n",
      " 0.74332806 0.73588953 0.7469244         nan 0.74871795 0.74410322\n",
      " 0.73538264 0.74795135        nan 0.74769626 0.74127876 0.73717883\n",
      " 0.74461473        nan 0.75026037 0.75026366 0.75000527 0.75719003\n",
      "        nan 0.75180146 0.75077253 0.75103091 0.7528304         nan\n",
      " 0.7520559  0.75231297 0.74897963 0.75385538        nan 0.75051678\n",
      " 0.74923011 0.74923472 0.75359634        nan 0.75308154 0.75282645\n",
      " 0.75154703 0.75282513        nan 0.75026037 0.75282447 0.74615978\n",
      " 0.75642014        nan 0.75205721 0.75025971 0.74795597 0.75334124\n",
      "        nan 0.75179949 0.7518008  0.74872454 0.75514007        nan\n",
      " 0.75205656 0.74974623 0.75026102 0.75488168        nan 0.75154373\n",
      " 0.7551348  0.76027025 0.76514996        nan 0.75154505 0.7574471\n",
      " 0.75770417 0.76694219        nan 0.75539253 0.75744513 0.76026696\n",
      " 0.76591721        nan 0.7512893  0.75590337 0.75898688 0.76412234\n",
      "        nan 0.75205721 0.75718806 0.75693296 0.76514402        nan\n",
      " 0.75257135 0.75565025 0.75539253 0.76386593        nan 0.75334256\n",
      " 0.75667458 0.75744644 0.76360556        nan 0.75205721 0.75847208\n",
      " 0.760526   0.76720388        nan 0.75051875 0.75718674 0.75872784\n",
      " 0.76309406        nan 0.75334124 0.76155164 0.77001912 0.7769501\n",
      "        nan 0.75282645 0.76103816 0.76925054 0.77464241        nan\n",
      " 0.75437018 0.7648863  0.77130842 0.77335904        nan 0.75051546\n",
      " 0.76052666 0.76848197 0.77027157        nan 0.75051612 0.76181003\n",
      " 0.76540241 0.77413354        nan 0.75051875 0.75898886 0.77104739\n",
      " 0.77386988        nan 0.75077714 0.76001384 0.76873904 0.77027487\n",
      "        nan 0.75308417 0.76103882 0.76976271 0.7723301         nan\n",
      " 0.75128469 0.75770285 0.76539978 0.77156153        nan 0.75205392\n",
      " 0.76540241 0.77720585 0.77901061        nan 0.75077055 0.76822293\n",
      " 0.77823479 0.7795175         nan 0.75153978 0.7702775  0.77848593\n",
      " 0.78285347        nan 0.74948718 0.76103816 0.7733597  0.7820849\n",
      "        nan 0.74820579 0.76745501 0.77617626 0.7784912         nan\n",
      " 0.7492367  0.7682249  0.77540769 0.77694812        nan 0.75077121\n",
      " 0.76540307 0.7759238  0.77694812        nan 0.74974227 0.765146\n",
      " 0.77412102 0.77668842        nan 0.74923275 0.76668776 0.77617955\n",
      " 0.77848593        nan 0.74666008 0.76027487 0.77489882 0.78105333\n",
      "        nan 0.74666139 0.75796454 0.77926307 0.78541296        nan\n",
      " 0.74717355 0.76232681 0.78003098 0.78464505        nan 0.74820183\n",
      " 0.76437875 0.78311515 0.79131962        nan 0.74640828 0.76924923\n",
      " 0.78439523 0.78977984        nan 0.74255619 0.77361413 0.78876145\n",
      " 0.79337156        nan 0.74127019 0.77207369 0.79235647 0.79696922\n",
      "        nan 0.74076264 0.77849186 0.79235383 0.79953596        nan\n",
      " 0.74615451 0.76618351 0.78978973 0.78953266        nan 0.74076396\n",
      " 0.76874563 0.78876673 0.79209808        nan 0.7392255  0.77567662\n",
      " 0.78568914 0.79594687        nan 0.73820183 0.77541823 0.79338541\n",
      " 0.80390482        nan 0.74179092 0.76823215 0.78003362 0.79800343\n",
      "        nan 0.74050689 0.76797179 0.78260102 0.80314416        nan\n",
      " 0.74178894 0.77387647 0.78259508 0.80494101        nan 0.73665942\n",
      " 0.77849845 0.78593633 0.80340189        nan 0.73537077 0.77002241\n",
      " 0.76847868 0.78183508        nan 0.7322899  0.76668512 0.77901259\n",
      " 0.78979632        nan 0.72972316 0.76771604 0.78208885 0.79415002\n",
      "        nan 0.72947531 0.77105267 0.78619735 0.79594555        nan\n",
      " 0.73537209 0.7369178  0.73845692 0.74461538        nan 0.74179026\n",
      " 0.74128337 0.74590469 0.75153978        nan 0.74615648 0.74667392\n",
      " 0.75437084 0.75898556        nan 0.74743985 0.74667392 0.7600145\n",
      " 0.76359963        nan 0.7417896  0.74205326 0.75565421 0.76103751\n",
      "        nan 0.74358513 0.74538923 0.76027091 0.76873311        nan\n",
      " 0.74204337 0.74718278 0.75924461 0.76642278        nan 0.74332806\n",
      " 0.74871861 0.75924395 0.76847472        nan 0.74050623 0.74435897\n",
      " 0.7579619  0.76052073        nan 0.73845495 0.74127876 0.7569356\n",
      " 0.76257201        nan 0.73870938 0.74538462 0.75770285 0.76436688\n",
      "        nan 0.73845297 0.7435904  0.75898293 0.76436359        nan\n",
      " 0.74153451 0.74384879 0.74692637 0.75204601        nan 0.73845363\n",
      " 0.74615978 0.7528271  0.76128864        nan 0.73665546 0.74513414\n",
      " 0.75872915 0.76256938        nan 0.73691187 0.74154044 0.7594997\n",
      " 0.76308681        nan 0.73973568 0.73691583 0.75179751 0.75230637\n",
      "        nan 0.73819788 0.74179355 0.75667392 0.75795004        nan\n",
      " 0.74050161 0.74076659 0.75770813 0.76488564        nan 0.73947531\n",
      " 0.74230769 0.76027355 0.76205853        nan 0.75257333 0.76129655\n",
      " 0.77027487 0.77002307        nan 0.75462527 0.75950168 0.76899479\n",
      " 0.7684879         nan 0.75359897 0.76155362 0.77053721 0.76925648\n",
      "        nan 0.75462527 0.76052732 0.77053655 0.77028475        nan\n",
      " 0.75257333 0.76129655 0.77027487 0.77002307        nan 0.75462527\n",
      " 0.75950168 0.76899479 0.7684879         nan 0.75359897 0.76155362\n",
      " 0.77053721 0.76925648        nan 0.75462527 0.76052732 0.77053655\n",
      " 0.77028475        nan 0.75257333 0.76129655 0.77027487 0.77002307\n",
      "        nan 0.75462527 0.75950168 0.76899479 0.7684879         nan\n",
      " 0.75359897 0.76155362 0.77053721 0.76925648        nan 0.75462527\n",
      " 0.76052732 0.77053655 0.77028475        nan 0.75257333 0.76129655\n",
      " 0.77027487 0.77002307        nan 0.75462527 0.75950168 0.76899479\n",
      " 0.7684879         nan 0.75359897 0.76155362 0.77053721 0.76925648\n",
      "        nan 0.75462527 0.76052732 0.77053655 0.77028475        nan\n",
      " 0.75257333 0.76129655 0.77027487 0.77002307        nan 0.75462527\n",
      " 0.75950168 0.76899479 0.7684879         nan 0.75359897 0.76155362\n",
      " 0.77053721 0.76925648        nan 0.75462527 0.76052732 0.77053655\n",
      " 0.77028475        nan]\n",
      "  category=UserWarning,\n"
     ]
    }
   ],
   "source": [
    "best_model = clf.fit(X_train, y_train)"
   ]
  },
  {
   "cell_type": "code",
   "execution_count": 154,
   "metadata": {},
   "outputs": [],
   "source": [
    "y_pred = best_model.best_estimator_.predict(X_test)"
   ]
  },
  {
   "cell_type": "code",
   "execution_count": 130,
   "metadata": {},
   "outputs": [
    {
     "name": "stdout",
     "output_type": "stream",
     "text": [
      "Best model. Best Score 0.7969699737421975 \n",
      " --------------------------------------------------\n",
      "Best model. Best Params {'classifier': KNeighborsClassifier(n_neighbors=11, weights='distance'), 'classifier__n_neighbors': 11, 'classifier__weights': 'distance', 'kbest__k': 9} \n",
      " --------------------------------------------------\n",
      "Accuracy Score 0.8305954825462012 \n",
      " --------------------------------------------------\n",
      "Confusion Matrix \n",
      " [[210 117]\n",
      " [ 48 599]] \n",
      " --------------------------------------------------\n"
     ]
    },
    {
     "data": {
      "image/png": "[encoded data removed]",
      "text/plain": [
       "<Figure size 432x288 with 2 Axes>"
      ]
     },
     "metadata": {
      "needs_background": "light"
     },
     "output_type": "display_data"
    }
   ],
   "source": [
    "print('Best model. Best Score', best_model.best_score_, '\\n','-'*50)\n",
    "print('Best model. Best Params', best_model.best_params_, '\\n','-'*50)\n",
    "print('Accuracy Score', accuracy_score(y_test, y_pred), '\\n','-'*50)\n",
    "print('Confusion Matrix \\n', confusion_matrix(y_test,y_pred), '\\n','-'*50)\n",
    "sns.heatmap(confusion_matrix(y_test,y_pred, normalize='true'), annot=True);"
   ]
  },
  {
   "cell_type": "code",
   "execution_count": 155,
   "metadata": {},
   "outputs": [
    {
     "name": "stdout",
     "output_type": "stream",
     "text": [
      "Best model. Best Score 0.8162125107112252 \n",
      " --------------------------------------------------\n",
      "Best model. Best Params {'classifier': KNeighborsClassifier(n_neighbors=11, weights='distance'), 'classifier__n_neighbors': 11, 'classifier__weights': 'distance', 'kbest__k': 9} \n",
      " --------------------------------------------------\n",
      "Accuracy Score 0.8305954825462012 \n",
      " --------------------------------------------------\n",
      "Confusion Matrix \n",
      " [[210 117]\n",
      " [ 48 599]] \n",
      " --------------------------------------------------\n"
     ]
    },
    {
     "data": {
      "image/png": "[encoded data removed]",
      "text/plain": [
       "<Figure size 432x288 with 2 Axes>"
      ]
     },
     "metadata": {
      "needs_background": "light"
     },
     "output_type": "display_data"
    }
   ],
   "source": [
    "print('Best model. Best Score', best_model.best_score_, '\\n','-'*50)\n",
    "print('Best model. Best Params', best_model.best_params_, '\\n','-'*50)\n",
    "print('Accuracy Score', accuracy_score(y_test, y_pred), '\\n','-'*50)\n",
    "print('Confusion Matrix \\n', confusion_matrix(y_test,y_pred), '\\n','-'*50)\n",
    "sns.heatmap(confusion_matrix(y_test,y_pred, normalize='true'), annot=True);"
   ]
  },
  {
   "cell_type": "markdown",
   "metadata": {},
   "source": [
    "<font size=\"6\"><span style=\"color:orange\">PRUEBA GridSearch SIN Scaler\n",
    "\n",
    "Con menos variables"
   ]
  },
  {
   "cell_type": "code",
   "execution_count": 131,
   "metadata": {},
   "outputs": [],
   "source": [
    "pipe = Pipeline(steps=[('kbest', SelectKBest()),\n",
    "                       ('classifier', LogisticRegression(random_state=seed))])"
   ]
  },
  {
   "cell_type": "code",
   "execution_count": 132,
   "metadata": {},
   "outputs": [],
   "source": [
    "svm_params = {'kbest__k': [2,5,7,9,11],\n",
    "              'classifier': [SVC()],\n",
    "              'classifier__C': [0.05,0.1,0.3,0.5],\n",
    "              'classifier__kernel': ['linear','rbf','sigmoid']\n",
    "}\n",
    "\n",
    "log_params = {'kbest__k': [2,5,7,9,11],\n",
    "              'classifier': [LogisticRegression()],\n",
    "              'classifier__penalty': ['l1','l2'],\n",
    "              'classifier__C': np.logspace(0,2,5)\n",
    "}\n",
    "\n",
    "knn_params = {'kbest__k': [2,5,7,9,11],\n",
    "              'classifier': [KNeighborsClassifier()],\n",
    "              'classifier__n_neighbors': [3,5,7,9,11],\n",
    "              'classifier__weights': ['uniform','distance']\n",
    "}\n",
    "\n",
    "rf_params = {'kbest__k': [2,5,7,9,11],\n",
    "              'classifier': [RandomForestClassifier()],\n",
    "              'classifier__n_estimators': [100,150,200],\n",
    "              'classifier__max_depth': [2,3,4,5,6,7],\n",
    "              'classifier__min_samples_leaf': [3,5,7]\n",
    "}\n",
    "\n",
    "gb_params = {'kbest__k': [2,5,7,9,11],\n",
    "              'classifier': [GradientBoostingClassifier()],\n",
    "              'classifier__n_estimators': [100,130,150,200],\n",
    "              'classifier__learning_rate': [0.1,0.3,0.5,0.7,1]\n",
    "}\n",
    "\n",
    "ada_params = {'kbest__k': [2,5,7,9,11],\n",
    "              'classifier': [AdaBoostClassifier()],\n",
    "            #   'classifier__max_depth': [2,3,4],\n",
    "              'classifier__n_estimators': [50,100,150,200],\n",
    "              'classifier__learning_rate': [0.1,0.3,0.5,0.7,1]\n",
    "}\n",
    "\n",
    "xgb_params = {'kbest__k': [2,5,7,9,11],\n",
    "              'classifier': [xgboost.XGBRFClassifier()],\n",
    "              'classifier__n_estimators': [50,100,150,200],\n",
    "              'classifier__learning_rate': [0.1,0.3,0.5,0.7,1]\n",
    "}\n",
    "\n",
    "# FALTA XGBRF\n",
    "\n",
    "\n",
    "# search_space = [svm_params, log_params, knn_params, rf_params, gb_params, ada_params]\n",
    "search_space = [svm_params, log_params, knn_params, rf_params, gb_params, ada_params, xgb_params]"
   ]
  },
  {
   "cell_type": "code",
   "execution_count": 133,
   "metadata": {},
   "outputs": [
    {
     "name": "stderr",
     "output_type": "stream",
     "text": [
      "c:\\Users\\Yo\\AppData\\Local\\Programs\\Python\\Python37\\lib\\site-packages\\sklearn\\model_selection\\_validation.py:372: FitFailedWarning: \n",
      "498 fits failed out of a total of 2190.\n",
      "The score on these train-test partitions for these parameters will be set to nan.\n",
      "If these failures are not expected, you can try to debug them by setting error_score='raise'.\n",
      "\n",
      "Below are more details about the failures:\n",
      "--------------------------------------------------------------------------------\n",
      "438 fits failed with the following error:\n",
      "Traceback (most recent call last):\n",
      "  File \"c:\\Users\\Yo\\AppData\\Local\\Programs\\Python\\Python37\\lib\\site-packages\\sklearn\\model_selection\\_validation.py\", line 680, in _fit_and_score\n",
      "    estimator.fit(X_train, y_train, **fit_params)\n",
      "  File \"c:\\Users\\Yo\\AppData\\Local\\Programs\\Python\\Python37\\lib\\site-packages\\sklearn\\pipeline.py\", line 390, in fit\n",
      "    Xt = self._fit(X, y, **fit_params_steps)\n",
      "  File \"c:\\Users\\Yo\\AppData\\Local\\Programs\\Python\\Python37\\lib\\site-packages\\sklearn\\pipeline.py\", line 355, in _fit\n",
      "    **fit_params_steps[name],\n",
      "  File \"c:\\Users\\Yo\\AppData\\Local\\Programs\\Python\\Python37\\lib\\site-packages\\joblib\\memory.py\", line 349, in __call__\n",
      "    return self.func(*args, **kwargs)\n",
      "  File \"c:\\Users\\Yo\\AppData\\Local\\Programs\\Python\\Python37\\lib\\site-packages\\sklearn\\pipeline.py\", line 893, in _fit_transform_one\n",
      "    res = transformer.fit_transform(X, y, **fit_params)\n",
      "  File \"c:\\Users\\Yo\\AppData\\Local\\Programs\\Python\\Python37\\lib\\site-packages\\sklearn\\base.py\", line 855, in fit_transform\n",
      "    return self.fit(X, y, **fit_params).transform(X)\n",
      "  File \"c:\\Users\\Yo\\AppData\\Local\\Programs\\Python\\Python37\\lib\\site-packages\\sklearn\\feature_selection\\_univariate_selection.py\", line 407, in fit\n",
      "    self._check_params(X, y)\n",
      "  File \"c:\\Users\\Yo\\AppData\\Local\\Programs\\Python\\Python37\\lib\\site-packages\\sklearn\\feature_selection\\_univariate_selection.py\", line 606, in _check_params\n",
      "    \"Use k='all' to return all features.\" % (X.shape[1], self.k)\n",
      "ValueError: k should be >=0, <= n_features = 9; got 11. Use k='all' to return all features.\n",
      "\n",
      "--------------------------------------------------------------------------------\n",
      "60 fits failed with the following error:\n",
      "Traceback (most recent call last):\n",
      "  File \"c:\\Users\\Yo\\AppData\\Local\\Programs\\Python\\Python37\\lib\\site-packages\\sklearn\\model_selection\\_validation.py\", line 680, in _fit_and_score\n",
      "    estimator.fit(X_train, y_train, **fit_params)\n",
      "  File \"c:\\Users\\Yo\\AppData\\Local\\Programs\\Python\\Python37\\lib\\site-packages\\sklearn\\pipeline.py\", line 394, in fit\n",
      "    self._final_estimator.fit(Xt, y, **fit_params_last_step)\n",
      "  File \"c:\\Users\\Yo\\AppData\\Local\\Programs\\Python\\Python37\\lib\\site-packages\\sklearn\\linear_model\\_logistic.py\", line 1461, in fit\n",
      "    solver = _check_solver(self.solver, self.penalty, self.dual)\n",
      "  File \"c:\\Users\\Yo\\AppData\\Local\\Programs\\Python\\Python37\\lib\\site-packages\\sklearn\\linear_model\\_logistic.py\", line 449, in _check_solver\n",
      "    % (solver, penalty)\n",
      "ValueError: Solver lbfgs supports only 'l2' or 'none' penalties, got l1 penalty.\n",
      "\n",
      "  warnings.warn(some_fits_failed_message, FitFailedWarning)\n",
      "c:\\Users\\Yo\\AppData\\Local\\Programs\\Python\\Python37\\lib\\site-packages\\sklearn\\model_selection\\_search.py:972: UserWarning: One or more of the test scores are non-finite: [0.67556332 0.69121876 0.72151171 0.72510481        nan 0.66555444\n",
      " 0.66555444 0.66555444 0.66555444        nan 0.66555444 0.66555444\n",
      " 0.66555444 0.66555444        nan 0.71740104 0.72330757 0.73665611\n",
      " 0.73665551        nan 0.66555444 0.66555444 0.66555444 0.66555444\n",
      "        nan 0.66041833 0.54389039 0.59855968 0.66555444        nan\n",
      " 0.73280719 0.73331764 0.74948985 0.74923186        nan 0.66555444\n",
      " 0.66555444 0.66555444 0.66555444        nan 0.59904185 0.49460906\n",
      " 0.49768915 0.49691774        nan 0.73229259 0.73357365 0.74974646\n",
      " 0.74769261        nan 0.66555444 0.66555444 0.66555444 0.66555444\n",
      "        nan 0.51486506 0.48921833 0.48921734 0.49101419        nan\n",
      "        nan        nan        nan        nan        nan 0.72305214\n",
      " 0.731263   0.74409832 0.73614329        nan        nan        nan\n",
      "        nan        nan        nan 0.72638824 0.73357424 0.74666756\n",
      " 0.73716991        nan        nan        nan        nan        nan\n",
      "        nan 0.72972572 0.73485768 0.74692357 0.74255907        nan\n",
      "        nan        nan        nan        nan        nan 0.72998233\n",
      " 0.73434446 0.7440997  0.74281528        nan        nan        nan\n",
      "        nan        nan        nan 0.73023894 0.73434446 0.74692357\n",
      " 0.7443571         nan 0.7048245  0.70534029 0.6978959  0.69738268\n",
      "        nan 0.69763929 0.73511508 0.73126616 0.72946892        nan\n",
      " 0.72151349 0.69994915 0.69430378 0.69199333        nan 0.70611129\n",
      " 0.73716833 0.7284413  0.72664485        nan 0.72125747 0.70302805\n",
      " 0.6909665  0.69173672        nan 0.7066253  0.74025    0.73716774\n",
      " 0.73716754        nan 0.72125609 0.69712667 0.68480574 0.68583237\n",
      "        nan 0.71021919 0.7443571  0.73716853 0.73845137        nan\n",
      " 0.72818449 0.69584442 0.68583099 0.68583079        nan 0.7104756\n",
      " 0.74230385 0.73742415 0.73691093        nan 0.7412784  0.72844347\n",
      " 0.70020457 0.71740401        nan 0.73999458 0.72510659 0.70071799\n",
      " 0.72202295        nan 0.74230444 0.72305076 0.70123101 0.71894365\n",
      "        nan 0.74281765 0.72099592 0.70662491 0.71483615        nan\n",
      " 0.74204803 0.72792868 0.69943515 0.71919927        nan 0.73562987\n",
      " 0.72844288 0.69917913 0.72125352        nan 0.74435829 0.71868448\n",
      " 0.69943515 0.7168898         nan 0.73999458 0.72177049 0.7012312\n",
      " 0.72484603        nan 0.74025039 0.72972592 0.69917933 0.71765963\n",
      "        nan 0.74564073 0.74640996 0.73562968 0.74717741        nan\n",
      " 0.74743679 0.74538294 0.73511666 0.74897584        nan 0.7476936\n",
      " 0.74538334 0.73742632 0.74769182        nan 0.74384349 0.7438425\n",
      " 0.73229002 0.7474362         nan 0.74743738 0.74384369 0.73383382\n",
      " 0.74563816        nan 0.74948985 0.74538294 0.73768293 0.74666519\n",
      "        nan 0.74743659 0.7438431  0.73845295 0.74871943        nan\n",
      " 0.74692357 0.74538393 0.73639891 0.74974705        nan 0.74718018\n",
      " 0.74179122 0.74050581 0.747693          nan 0.74974626 0.75025809\n",
      " 0.7515433  0.755651          nan 0.74923285 0.74794882 0.74846164\n",
      " 0.75975653        nan 0.7510291  0.75077229 0.74897505 0.75693305\n",
      "        nan 0.75308216 0.75000287 0.74923206 0.75744567        nan\n",
      " 0.75000346 0.74923245 0.75231115 0.75641905        nan 0.74923304\n",
      " 0.75025809 0.75179932 0.75718926        nan 0.74974626 0.75282614\n",
      " 0.75231293 0.75616204        nan 0.74872003 0.75051707 0.75282516\n",
      " 0.75565061        nan 0.74794981 0.75025868 0.75025908 0.76078355\n",
      "        nan 0.75000287 0.75231115 0.76232359 0.76668632        nan\n",
      " 0.74948906 0.75872871 0.76257921 0.76437586        nan 0.74846243\n",
      " 0.7548796  0.76181018 0.76565969        nan 0.74871805 0.75641766\n",
      " 0.76129677 0.76180959        nan 0.75154251 0.75616165 0.76411925\n",
      " 0.76514647        nan 0.74974547 0.75513541 0.75924213 0.76566008\n",
      "        nan 0.74897624 0.75590563 0.76001175 0.76771374        nan\n",
      " 0.74871884 0.75436579 0.7587301  0.76052615        nan 0.74589596\n",
      " 0.75333877 0.75872891 0.76334963        nan 0.74486834 0.76180959\n",
      " 0.76514549 0.77130565        nan 0.74563896 0.76283463 0.76488947\n",
      " 0.76951039        nan 0.7505149  0.76360505 0.76745456 0.77156285\n",
      "        nan 0.74871765 0.75975593 0.76334943 0.77130526        nan\n",
      " 0.74640818 0.76001175 0.76745436 0.76796856        nan 0.74974468\n",
      " 0.75872871 0.76873839 0.76796876        nan 0.74820444 0.7620658\n",
      " 0.76437606 0.76668711        nan 0.74769103 0.75975672 0.76309243\n",
      " 0.76976502        nan 0.74820424 0.75667506 0.76488967 0.76796955\n",
      "        nan 0.74871706 0.76796896 0.77233287 0.77772104        nan\n",
      " 0.74615039 0.76565732 0.7728447  0.77592597        nan 0.75000089\n",
      " 0.76642793 0.77207528 0.77951828        nan 0.74692219 0.76232122\n",
      " 0.77181827 0.77746463        nan 0.74743462 0.76463148 0.77489855\n",
      " 0.77489895        nan 0.74820444 0.76540071 0.77156167 0.77823505\n",
      "        nan 0.74794763 0.76103838 0.76617231 0.77849146        nan\n",
      " 0.74948708 0.76232142 0.76694273 0.77412814        nan 0.74871686\n",
      " 0.76232122 0.77233287 0.77438514        nan 0.74409793 0.75616204\n",
      " 0.76771235 0.77002301        nan 0.74563757 0.75308196 0.76463346\n",
      " 0.77567095        nan 0.74409753 0.75410938 0.76797015 0.77259027\n",
      "        nan 0.74281429 0.7577009  0.77181985 0.77746641        nan\n",
      " 0.73742435 0.76155199 0.76822557 0.7736167         nan 0.73691014\n",
      " 0.76232122 0.77567016 0.77644037        nan 0.7358847  0.76103858\n",
      " 0.77798101 0.77695517        nan 0.73357523 0.76103917 0.77644057\n",
      " 0.78722066        nan 0.7353705  0.76463207 0.77746819 0.77233327\n",
      "        nan 0.73152138 0.76771235 0.77772499 0.77207824        nan\n",
      " 0.72998292 0.7689948  0.78003367 0.77490053        nan 0.72690403\n",
      " 0.77027902 0.78106247 0.77490073        nan 0.72767266 0.75718966\n",
      " 0.76951098 0.77104746        nan 0.73152217 0.75795869 0.78029107\n",
      " 0.77721           nan 0.72664722 0.76078276 0.77823841 0.77489836\n",
      "        nan 0.72664781 0.76360762 0.77695398 0.7736165         nan\n",
      " 0.71945964 0.74307545 0.76078474 0.76334548        nan 0.71869021\n",
      " 0.74333028 0.76489204 0.76360327        nan 0.72151289 0.74897683\n",
      " 0.7672025  0.76668217        nan 0.71278388 0.74204585 0.76925417\n",
      " 0.76745278        nan 0.7363993  0.7399922  0.74461371 0.74666539\n",
      "        nan 0.74692397 0.73999438 0.7479508  0.75154192        nan\n",
      " 0.74589655 0.74256164 0.75051885 0.75667664        nan 0.74666637\n",
      " 0.74461411 0.75051806 0.75667565        nan 0.74589635 0.74666776\n",
      " 0.75308374 0.75564922        nan 0.74666618 0.74435651 0.75025809\n",
      " 0.76232181        nan 0.74563975 0.74564034 0.75359636 0.76309282\n",
      "        nan 0.74512614 0.74615375 0.75385218 0.76489026        nan\n",
      " 0.74743659 0.74641036 0.75359458 0.75821589        nan 0.74538294\n",
      " 0.74563935 0.75256934 0.76232122        nan 0.74538294 0.74615355\n",
      " 0.7510287  0.7615514         nan 0.74409911 0.74512693 0.75256914\n",
      " 0.76026935        nan 0.74204704 0.73948096 0.74820622 0.74846263\n",
      "        nan 0.74307268 0.74101982 0.75000386 0.75462259        nan\n",
      " 0.74307189 0.73794112 0.747693   0.75744706        nan 0.73922179\n",
      " 0.74102081 0.74615375 0.75641984        nan 0.73562869 0.73999181\n",
      " 0.74127623 0.75051391        nan 0.74230226 0.74332929 0.7425567\n",
      " 0.75282535        nan 0.74101765 0.73922357 0.74717939 0.7500003\n",
      "        nan 0.73331902 0.73871134 0.74486874 0.75616026        nan\n",
      " 0.7469218  0.76052516 0.76001195 0.76899579        nan 0.74666519\n",
      " 0.75949952 0.76257842 0.76848178        nan 0.74794823 0.76052615\n",
      " 0.76334864 0.76591649        nan 0.74820483 0.76206619 0.7654019\n",
      " 0.76668632        nan 0.7469218  0.76052516 0.76001195 0.76899579\n",
      "        nan 0.74666519 0.75949952 0.76257842 0.76848178        nan\n",
      " 0.74794823 0.76052615 0.76334864 0.76591649        nan 0.74820483\n",
      " 0.76206619 0.7654019  0.76668632        nan 0.7469218  0.76052516\n",
      " 0.76001195 0.76899579        nan 0.74666519 0.75949952 0.76257842\n",
      " 0.76848178        nan 0.74794823 0.76052615 0.76334864 0.76591649\n",
      "        nan 0.74820483 0.76206619 0.7654019  0.76668632        nan\n",
      " 0.7469218  0.76052516 0.76001195 0.76899579        nan 0.74666519\n",
      " 0.75949952 0.76257842 0.76848178        nan 0.74794823 0.76052615\n",
      " 0.76334864 0.76591649        nan 0.74820483 0.76206619 0.7654019\n",
      " 0.76668632        nan 0.7469218  0.76052516 0.76001195 0.76899579\n",
      "        nan 0.74666519 0.75949952 0.76257842 0.76848178        nan\n",
      " 0.74794823 0.76052615 0.76334864 0.76591649        nan 0.74820483\n",
      " 0.76206619 0.7654019  0.76668632        nan]\n",
      "  category=UserWarning,\n"
     ]
    }
   ],
   "source": [
    "clf = GridSearchCV(estimator=pipe, param_grid=search_space, cv=3, n_jobs=-1)\n",
    "\n",
    "best_model = clf.fit(X_train, y_train)"
   ]
  },
  {
   "cell_type": "code",
   "execution_count": 134,
   "metadata": {},
   "outputs": [],
   "source": [
    "y_pred = best_model.best_estimator_.predict(X_test)"
   ]
  },
  {
   "cell_type": "code",
   "execution_count": 135,
   "metadata": {},
   "outputs": [
    {
     "name": "stdout",
     "output_type": "stream",
     "text": [
      "Best model. Best Score 0.7872206624114871 \n",
      " --------------------------------------------------\n",
      "Best model. Best Params {'classifier': GradientBoostingClassifier(learning_rate=0.3, n_estimators=200), 'classifier__learning_rate': 0.3, 'classifier__n_estimators': 200, 'kbest__k': 9} \n",
      " --------------------------------------------------\n",
      "Accuracy Score 0.8039014373716632 \n",
      " --------------------------------------------------\n",
      "Confusion Matrix \n",
      " [[210 117]\n",
      " [ 74 573]] \n",
      " --------------------------------------------------\n"
     ]
    },
    {
     "data": {
      "image/png": "[encoded data removed]",
      "text/plain": [
       "<Figure size 432x288 with 2 Axes>"
      ]
     },
     "metadata": {
      "needs_background": "light"
     },
     "output_type": "display_data"
    }
   ],
   "source": [
    "print('Best model. Best Score', best_model.best_score_, '\\n','-'*50)\n",
    "print('Best model. Best Params', best_model.best_params_, '\\n','-'*50)\n",
    "print('Accuracy Score', accuracy_score(y_test, y_pred), '\\n','-'*50)\n",
    "print('Confusion Matrix \\n', confusion_matrix(y_test,y_pred), '\\n','-'*50)\n",
    "sns.heatmap(confusion_matrix(y_test,y_pred, normalize='true'), annot=True);"
   ]
  },
  {
   "cell_type": "markdown",
   "metadata": {},
   "source": [
    "<font size=\"6\"><span style=\"color:orange\">PRUEBA GridSearch con Scaler y stratify=y\n",
    "\n",
    "Con menos variables\n",
    "\n",
    "strtify para conservar los mismos balances de la target"
   ]
  },
  {
   "cell_type": "code",
   "execution_count": 143,
   "metadata": {},
   "outputs": [],
   "source": [
    "X = blanco[['fixed acidity','volatile acidity', 'citric acid','residual sugar', 'chlorides', 'total sulfur dioxide', 'pH','sulphates','alcohol']]\n",
    "y = blanco['apto']\n",
    "\n",
    "\n",
    "X_train, X_test, y_train, y_test = train_test_split(X, y, test_size=0.2, random_state=seed, stratify=y)"
   ]
  },
  {
   "cell_type": "code",
   "execution_count": 144,
   "metadata": {},
   "outputs": [],
   "source": [
    "pipe = Pipeline(steps=[('scaler', StandardScaler()),\n",
    "                       ('kbest', SelectKBest()),\n",
    "                       ('classifier', LogisticRegression(random_state=seed))])"
   ]
  },
  {
   "cell_type": "code",
   "execution_count": 145,
   "metadata": {},
   "outputs": [],
   "source": [
    "svm_params = {'kbest__k': [2,5,7,9,11],\n",
    "              'classifier': [SVC()],\n",
    "              'classifier__C': [0.05,0.1,0.3,0.5],\n",
    "              'classifier__kernel': ['linear','rbf','sigmoid']\n",
    "}\n",
    "\n",
    "log_params = {'kbest__k': [2,5,7,9,11],\n",
    "              'classifier': [LogisticRegression()],\n",
    "              'classifier__penalty': ['l1','l2'],\n",
    "              'classifier__C': np.logspace(0,2,5)\n",
    "}\n",
    "\n",
    "knn_params = {'kbest__k': [2,5,7,9,11],\n",
    "              'classifier': [KNeighborsClassifier()],\n",
    "              'classifier__n_neighbors': [3,5,7,9,11],\n",
    "              'classifier__weights': ['uniform','distance']\n",
    "}\n",
    "\n",
    "rf_params = {'kbest__k': [2,5,7,9,11],\n",
    "              'classifier': [RandomForestClassifier()],\n",
    "              'classifier__n_estimators': [100,150,200],\n",
    "              'classifier__max_depth': [2,3,4,5,6,7],\n",
    "              'classifier__min_samples_leaf': [3,5,7]\n",
    "}\n",
    "\n",
    "gb_params = {'kbest__k': [2,5,7,9,11],\n",
    "              'classifier': [GradientBoostingClassifier()],\n",
    "              'classifier__n_estimators': [100,130,150,200],\n",
    "              'classifier__learning_rate': [0.1,0.3,0.5,0.7,1]\n",
    "}\n",
    "\n",
    "ada_params = {'kbest__k': [2,5,7,9,11],\n",
    "              'classifier': [AdaBoostClassifier()],\n",
    "            #   'classifier__max_depth': [2,3,4],\n",
    "              'classifier__n_estimators': [50,100,150,200],\n",
    "              'classifier__learning_rate': [0.1,0.3,0.5,0.7,1]\n",
    "}\n",
    "\n",
    "xgb_params = {'kbest__k': [2,5,7,9,11],\n",
    "              'classifier': [xgboost.XGBRFClassifier()],\n",
    "              'classifier__n_estimators': [50,100,150,200],\n",
    "              'classifier__learning_rate': [0.1,0.3,0.5,0.7,1]\n",
    "}\n",
    "\n",
    "# FALTA XGBRF\n",
    "\n",
    "\n",
    "# search_space = [svm_params, log_params, knn_params, rf_params, gb_params, ada_params]\n",
    "search_space = [svm_params, log_params, knn_params, rf_params, gb_params, ada_params, xgb_params]\n",
    "\n",
    "\n",
    "# VER Alumno\\ds_thebridge_6_22\\3-Machine_Learning\\1-Supervisado\\3-RegorClass\\8-Ensembles\\Ensembles.ipynb\n",
    "# VER Profesor\\ds_thebridge_6_22\\3-Machine_Learning\\1-Supervisado\\4-Pipelines\\ejercicios\\Breast_cancer.ipynb"
   ]
  },
  {
   "cell_type": "code",
   "execution_count": null,
   "metadata": {},
   "outputs": [],
   "source": []
  },
  {
   "cell_type": "code",
   "execution_count": 146,
   "metadata": {},
   "outputs": [
    {
     "name": "stderr",
     "output_type": "stream",
     "text": [
      "c:\\Users\\Yo\\AppData\\Local\\Programs\\Python\\Python37\\lib\\site-packages\\sklearn\\model_selection\\_validation.py:372: FitFailedWarning: \n",
      "498 fits failed out of a total of 2190.\n",
      "The score on these train-test partitions for these parameters will be set to nan.\n",
      "If these failures are not expected, you can try to debug them by setting error_score='raise'.\n",
      "\n",
      "Below are more details about the failures:\n",
      "--------------------------------------------------------------------------------\n",
      "438 fits failed with the following error:\n",
      "Traceback (most recent call last):\n",
      "  File \"c:\\Users\\Yo\\AppData\\Local\\Programs\\Python\\Python37\\lib\\site-packages\\sklearn\\model_selection\\_validation.py\", line 680, in _fit_and_score\n",
      "    estimator.fit(X_train, y_train, **fit_params)\n",
      "  File \"c:\\Users\\Yo\\AppData\\Local\\Programs\\Python\\Python37\\lib\\site-packages\\sklearn\\pipeline.py\", line 390, in fit\n",
      "    Xt = self._fit(X, y, **fit_params_steps)\n",
      "  File \"c:\\Users\\Yo\\AppData\\Local\\Programs\\Python\\Python37\\lib\\site-packages\\sklearn\\pipeline.py\", line 355, in _fit\n",
      "    **fit_params_steps[name],\n",
      "  File \"c:\\Users\\Yo\\AppData\\Local\\Programs\\Python\\Python37\\lib\\site-packages\\joblib\\memory.py\", line 349, in __call__\n",
      "    return self.func(*args, **kwargs)\n",
      "  File \"c:\\Users\\Yo\\AppData\\Local\\Programs\\Python\\Python37\\lib\\site-packages\\sklearn\\pipeline.py\", line 893, in _fit_transform_one\n",
      "    res = transformer.fit_transform(X, y, **fit_params)\n",
      "  File \"c:\\Users\\Yo\\AppData\\Local\\Programs\\Python\\Python37\\lib\\site-packages\\sklearn\\base.py\", line 855, in fit_transform\n",
      "    return self.fit(X, y, **fit_params).transform(X)\n",
      "  File \"c:\\Users\\Yo\\AppData\\Local\\Programs\\Python\\Python37\\lib\\site-packages\\sklearn\\feature_selection\\_univariate_selection.py\", line 407, in fit\n",
      "    self._check_params(X, y)\n",
      "  File \"c:\\Users\\Yo\\AppData\\Local\\Programs\\Python\\Python37\\lib\\site-packages\\sklearn\\feature_selection\\_univariate_selection.py\", line 606, in _check_params\n",
      "    \"Use k='all' to return all features.\" % (X.shape[1], self.k)\n",
      "ValueError: k should be >=0, <= n_features = 9; got 11. Use k='all' to return all features.\n",
      "\n",
      "--------------------------------------------------------------------------------\n",
      "60 fits failed with the following error:\n",
      "Traceback (most recent call last):\n",
      "  File \"c:\\Users\\Yo\\AppData\\Local\\Programs\\Python\\Python37\\lib\\site-packages\\sklearn\\model_selection\\_validation.py\", line 680, in _fit_and_score\n",
      "    estimator.fit(X_train, y_train, **fit_params)\n",
      "  File \"c:\\Users\\Yo\\AppData\\Local\\Programs\\Python\\Python37\\lib\\site-packages\\sklearn\\pipeline.py\", line 394, in fit\n",
      "    self._final_estimator.fit(Xt, y, **fit_params_last_step)\n",
      "  File \"c:\\Users\\Yo\\AppData\\Local\\Programs\\Python\\Python37\\lib\\site-packages\\sklearn\\linear_model\\_logistic.py\", line 1461, in fit\n",
      "    solver = _check_solver(self.solver, self.penalty, self.dual)\n",
      "  File \"c:\\Users\\Yo\\AppData\\Local\\Programs\\Python\\Python37\\lib\\site-packages\\sklearn\\linear_model\\_logistic.py\", line 449, in _check_solver\n",
      "    % (solver, penalty)\n",
      "ValueError: Solver lbfgs supports only 'l2' or 'none' penalties, got l1 penalty.\n",
      "\n",
      "  warnings.warn(some_fits_failed_message, FitFailedWarning)\n",
      "c:\\Users\\Yo\\AppData\\Local\\Programs\\Python\\Python37\\lib\\site-packages\\sklearn\\model_selection\\_search.py:972: UserWarning: One or more of the test scores are non-finite: [0.74230207 0.74024664 0.75102475 0.75205454        nan 0.75179714\n",
      " 0.73768155 0.73716853 0.73049298        nan 0.71509612 0.71637402\n",
      " 0.71971071 0.72432984        nan 0.74127623 0.73793717 0.75051213\n",
      " 0.75102732        nan 0.75205355 0.75051608 0.75975336 0.75898413\n",
      "        nan 0.67710613 0.70739236 0.7086746  0.71637264        nan\n",
      " 0.74307466 0.73691014 0.75256598 0.7502573         nan 0.75205375\n",
      " 0.76001472 0.76925239 0.77284628        nan 0.65631182 0.67351125\n",
      " 0.69070614 0.68018641        nan 0.74307466 0.73665354 0.75282259\n",
      " 0.75077051        nan 0.75179714 0.76155456 0.77002281 0.77387173\n",
      "        nan 0.65348716 0.66350098 0.68788227 0.67454104        nan\n",
      "        nan        nan        nan        nan        nan 0.74178944\n",
      " 0.7356279  0.75590405 0.75564744        nan        nan        nan\n",
      "        nan        nan        nan 0.74178944 0.73511448 0.75590425\n",
      " 0.75616105        nan        nan        nan        nan        nan\n",
      "        nan 0.74178944 0.73460127 0.75564764 0.75590445        nan\n",
      "        nan        nan        nan        nan        nan 0.74178944\n",
      " 0.73460127 0.75539103 0.75590445        nan        nan        nan\n",
      "        nan        nan        nan 0.74178944 0.73460127 0.75539103\n",
      " 0.75590445        nan 0.72792967 0.73075116 0.74563658 0.75231214\n",
      "        nan 0.71868902 0.7656585  0.78182913 0.78362677        nan\n",
      " 0.74050581 0.7430713  0.75641746 0.74974488        nan 0.72664524\n",
      " 0.77566857 0.79338023 0.78696307        nan 0.74692021 0.74435592\n",
      " 0.75102772 0.75102969        nan 0.73280442 0.78131572 0.78875991\n",
      " 0.79081396        nan 0.7461494  0.74718058 0.75616362 0.75256875\n",
      "        nan 0.73306024 0.78875932 0.79646131 0.79492166        nan\n",
      " 0.74666341 0.75026046 0.76232359 0.75231273        nan 0.73229042\n",
      " 0.79363645 0.80031141 0.79363783        nan 0.7469212  0.7345987\n",
      " 0.70328644 0.73357424        nan 0.74538077 0.7353707  0.70944858\n",
      " 0.7248478         nan 0.74486676 0.72895353 0.70713832 0.73177839\n",
      "        nan 0.74538057 0.73203321 0.70893398 0.72715648        nan\n",
      " 0.746664   0.73331645 0.70867579 0.72561644        nan 0.74589438\n",
      " 0.73254564 0.70508348 0.72561723        nan 0.74563678 0.73613874\n",
      " 0.7099616  0.73049377        nan 0.74717741 0.73768016 0.70200399\n",
      " 0.71535055        nan 0.74666361 0.73434249 0.70328525 0.72279514\n",
      "        nan 0.75051549 0.74897485 0.74486814 0.75256914        nan\n",
      " 0.75154291 0.74769142 0.74435453 0.75256815        nan 0.75154231\n",
      " 0.7474358  0.74794803 0.75256855        nan 0.75179813 0.74846144\n",
      " 0.74358352 0.7505149         nan 0.74974547 0.74409773 0.74255788\n",
      " 0.75205454        nan 0.75077289 0.74948708 0.74332751 0.75487881\n",
      "        nan 0.74923206 0.74512297 0.74409713 0.74871726        nan\n",
      " 0.75205513 0.74897485 0.74461015 0.75179853        nan 0.7512859\n",
      " 0.74717821 0.74461055 0.75231075        nan 0.75154172 0.75436401\n",
      " 0.75872911 0.76155258        nan 0.75256914 0.75359458 0.76026816\n",
      " 0.76001096        nan 0.75154212 0.75513423 0.75590484 0.75795691\n",
      "        nan 0.7548794  0.75641806 0.75564784 0.7582153         nan\n",
      " 0.75385139 0.7541078  0.75667565 0.761037          nan 0.75205494\n",
      " 0.75539163 0.75590346 0.7579581         nan 0.75231273 0.75513502\n",
      " 0.75667546 0.75872812        nan 0.75256973 0.7541074  0.75744488\n",
      " 0.7618084         nan 0.75051549 0.75539064 0.75795889 0.75949755\n",
      "        nan 0.75231135 0.75795889 0.76463227 0.76386087        nan\n",
      " 0.75436619 0.76155179 0.76745535 0.76950702        nan 0.75436579\n",
      " 0.75898552 0.76488749 0.7651445         nan 0.75333916 0.7577009\n",
      " 0.76283404 0.76719835        nan 0.75641905 0.75949774 0.76488789\n",
      " 0.76514371        nan 0.75513601 0.75770129 0.7648873  0.76437487\n",
      "        nan 0.75282575 0.7577009  0.76617172 0.76463168        nan\n",
      " 0.75487841 0.75641905 0.76283444 0.76463089        nan 0.75462259\n",
      " 0.75641746 0.76206422 0.76745456        nan 0.75693187 0.76848257\n",
      " 0.77181966 0.77515437        nan 0.75744587 0.76360485 0.76848079\n",
      " 0.77515516        nan 0.75770268 0.76488809 0.76848099 0.77412695\n",
      "        nan 0.75950012 0.76309203 0.77027863 0.7720733         nan\n",
      " 0.75693187 0.7654019  0.76822438 0.77310032        nan 0.7582153\n",
      " 0.7659159  0.77104746 0.77489915        nan 0.75539202 0.76488828\n",
      " 0.7687374  0.77438415        nan 0.75564883 0.76360564 0.7689946\n",
      " 0.77002162        nan 0.75564883 0.7661733  0.77079105 0.7723303\n",
      "        nan 0.75667467 0.76771275 0.77387153 0.77849244        nan\n",
      " 0.75590484 0.76796916 0.77541078 0.78131612        nan 0.75744488\n",
      " 0.77156344 0.77515516 0.77951868        nan 0.75949794 0.77027902\n",
      " 0.77233109 0.78080073        nan 0.75872891 0.76642892 0.77438474\n",
      " 0.77746483        nan 0.75821451 0.77002241 0.77515477 0.77746463\n",
      "        nan 0.75462121 0.76925338 0.77464274 0.77772104        nan\n",
      " 0.75487762 0.76745673 0.77310072 0.77669402        nan 0.75436381\n",
      " 0.76873977 0.77284431 0.77797686        nan 0.74615257 0.76386126\n",
      " 0.77592637 0.7733599         nan 0.74923245 0.76925141 0.77772302\n",
      " 0.77592696        nan 0.74871864 0.7687374  0.77798002 0.77669718\n",
      "        nan 0.7474356  0.76694075 0.78157312 0.78208633        nan\n",
      " 0.74050522 0.77156206 0.77746562 0.77951868        nan 0.74281568\n",
      " 0.77130545 0.77900704 0.78337036        nan 0.74101844 0.76950821\n",
      " 0.77618377 0.78208693        nan 0.73639811 0.77387153 0.78490941\n",
      " 0.78131809        nan 0.74025019 0.76463148 0.77592518 0.77464293\n",
      "        nan 0.73922376 0.77233089 0.78029008 0.77746562        nan\n",
      " 0.74050878 0.77156246 0.77541434 0.77952006        nan 0.74050799\n",
      " 0.77130545 0.77592795 0.77823781        nan 0.73536971 0.77079342\n",
      " 0.7664303  0.77849264        nan 0.73614052 0.76540031 0.76642991\n",
      " 0.77874885        nan 0.73742454 0.76539972 0.76848297 0.78131513\n",
      "        nan 0.7394782  0.7659157  0.77284569 0.78028988        nan\n",
      " 0.74204605 0.74615177 0.75436342 0.77618713        nan 0.74025158\n",
      " 0.75436362 0.76719973 0.77413347        nan 0.73742613 0.75000168\n",
      " 0.76437527 0.77310744        nan 0.74101923 0.75282338 0.7664303\n",
      " 0.7749035         nan 0.7466638  0.74666341 0.74769083 0.74897347\n",
      "        nan 0.75205415 0.75077091 0.75410839 0.75359439        nan\n",
      " 0.75205415 0.74820483 0.75718788 0.76052378        nan 0.75231075\n",
      " 0.75025809 0.76206422 0.76257743        nan 0.74974448 0.75282516\n",
      " 0.76103818 0.76206481        nan 0.7502575  0.75410721 0.76411648\n",
      " 0.76873799        nan 0.74846065 0.75205316 0.76719795 0.77104845\n",
      "        nan 0.74820444 0.75051371 0.76694055 0.7731025         nan\n",
      " 0.75128452 0.75282357 0.76283404 0.77258849        nan 0.74820404\n",
      " 0.75154073 0.76360505 0.76617211        nan 0.74769023 0.75128373\n",
      " 0.7654013  0.76488888        nan 0.74615059 0.7500003  0.7615514\n",
      " 0.76232201        nan 0.74794783 0.74948767 0.76360426 0.76309282\n",
      "        nan 0.746407   0.74563638 0.7582155  0.7620654         nan\n",
      " 0.74486755 0.75051391 0.7620656  0.76437507        nan 0.74461035\n",
      " 0.7500001  0.7582149  0.76103759        nan 0.74846006 0.74666677\n",
      " 0.75385    0.75770228        nan 0.7461496  0.74820562 0.75872792\n",
      " 0.75487782        nan 0.74640641 0.74846045 0.75667546 0.75231095\n",
      "        nan 0.7464066  0.74923047 0.75590504 0.75667289        nan\n",
      " 0.75436441 0.76565791 0.77258849 0.77335831        nan 0.75513522\n",
      " 0.76848158 0.77233208 0.77669698        nan 0.75513522 0.76745535\n",
      " 0.76899638 0.77515635        nan 0.75410938 0.76848218 0.77105003\n",
      " 0.77566976        nan 0.75436441 0.76565791 0.77258849 0.77335831\n",
      "        nan 0.75513522 0.76848158 0.77233208 0.77669698        nan\n",
      " 0.75513522 0.76745535 0.76899638 0.77515635        nan 0.75410938\n",
      " 0.76848218 0.77105003 0.77566976        nan 0.75436441 0.76565791\n",
      " 0.77258849 0.77335831        nan 0.75513522 0.76848158 0.77233208\n",
      " 0.77669698        nan 0.75513522 0.76745535 0.76899638 0.77515635\n",
      "        nan 0.75410938 0.76848218 0.77105003 0.77566976        nan\n",
      " 0.75436441 0.76565791 0.77258849 0.77335831        nan 0.75513522\n",
      " 0.76848158 0.77233208 0.77669698        nan 0.75513522 0.76745535\n",
      " 0.76899638 0.77515635        nan 0.75410938 0.76848218 0.77105003\n",
      " 0.77566976        nan 0.75436441 0.76565791 0.77258849 0.77335831\n",
      "        nan 0.75513522 0.76848158 0.77233208 0.77669698        nan\n",
      " 0.75513522 0.76745535 0.76899638 0.77515635        nan 0.75410938\n",
      " 0.76848218 0.77105003 0.77566976        nan]\n",
      "  category=UserWarning,\n"
     ]
    }
   ],
   "source": [
    "clf = GridSearchCV(estimator=pipe, param_grid=search_space, cv=3, n_jobs=-1)\n",
    "\n",
    "best_model = clf.fit(X_train, y_train)"
   ]
  },
  {
   "cell_type": "code",
   "execution_count": 147,
   "metadata": {},
   "outputs": [],
   "source": [
    "y_pred = best_model.best_estimator_.predict(X_test)"
   ]
  },
  {
   "cell_type": "code",
   "execution_count": 148,
   "metadata": {},
   "outputs": [
    {
     "name": "stdout",
     "output_type": "stream",
     "text": [
      "Best model. Best Score 0.8003114086020102 \n",
      " --------------------------------------------------\n",
      "Best model. Best Params {'classifier': KNeighborsClassifier(n_neighbors=11, weights='distance'), 'classifier__n_neighbors': 11, 'classifier__weights': 'distance', 'kbest__k': 7} \n",
      " --------------------------------------------------\n",
      "Accuracy Score 0.8193018480492813 \n",
      " --------------------------------------------------\n",
      "Confusion Matrix \n",
      " [[209 117]\n",
      " [ 59 589]] \n",
      " --------------------------------------------------\n"
     ]
    },
    {
     "data": {
      "image/png": "[encoded data removed]",
      "text/plain": [
       "<Figure size 432x288 with 2 Axes>"
      ]
     },
     "metadata": {
      "needs_background": "light"
     },
     "output_type": "display_data"
    }
   ],
   "source": [
    "print('Best model. Best Score', best_model.best_score_, '\\n','-'*50)\n",
    "print('Best model. Best Params', best_model.best_params_, '\\n','-'*50)\n",
    "print('Accuracy Score', accuracy_score(y_test, y_pred), '\\n','-'*50)\n",
    "print('Confusion Matrix \\n', confusion_matrix(y_test,y_pred), '\\n','-'*50)\n",
    "sns.heatmap(confusion_matrix(y_test,y_pred, normalize='true'), annot=True);"
   ]
  }
 ],
 "metadata": {
  "kernelspec": {
   "display_name": "Python 3.7.4 64-bit",
   "language": "python",
   "name": "python3"
  },
  "language_info": {
   "codemirror_mode": {
    "name": "ipython",
    "version": 3
   },
   "file_extension": ".py",
   "mimetype": "text/x-python",
   "name": "python",
   "nbconvert_exporter": "python",
   "pygments_lexer": "ipython3",
   "version": "3.7.4"
  },
  "orig_nbformat": 4,
  "vscode": {
   "interpreter": {
    "hash": "703e8db34bb7cdd00b82a89d91d2e2137d3ce887601c5554b79c7f8766c7193f"
   }
  }
 },
 "nbformat": 4,
 "nbformat_minor": 2
}
