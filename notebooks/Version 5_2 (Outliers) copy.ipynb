{
 "cellsX": [
  {
   "cell_type": "markdown",
   "metadata": {},
   "source": [
    "<font size=\"7\"><span style=\"color:green\">Librerías"
   ]
  },
  {
   "cell_type": "code",
   "execution_count": 19,
   "metadata": {},
   "outputs": [],
   "source": [
    "import numpy as np\n",
    "import pandas as pd\n",
    "import seaborn as sns\n",
    "import matplotlib.pyplot as plt\n",
    "\n",
    "# Modelos\n",
    "from sklearn.linear_model import LogisticRegression\n",
    "from sklearn.svm import SVC\n",
    "from sklearn.neighbors import KNeighborsClassifier\n",
    "from sklearn.ensemble import RandomForestClassifier, GradientBoostingClassifier\n",
    "from sklearn.tree import DecisionTreeClassifier  \n",
    "from sklearn.ensemble import AdaBoostClassifier \n",
    "\n",
    "\n",
    "import xgboost\n",
    "    # NOTA\n",
    "    # xgboost.XGBRFClassifier En cada secuencia tiene un RandomForest\n",
    "    # xgboost.XGBClassifier sin RandomForest\n",
    "\n",
    "# ------------------\n",
    "\n",
    "# Pipeline\n",
    "from sklearn.pipeline import Pipeline\n",
    "    # NOTA\n",
    "    # Hay que poner las etiquetas automáticamente. El otro es 'from sklearn.pipeline import make_pipeline'\n",
    "\n",
    "# ------------------\n",
    "\n",
    "# Métricas de validación\n",
    "from sklearn.model_selection import cross_val_score\n",
    "from sklearn.metrics import accuracy_score, precision_score, recall_score, roc_auc_score\n",
    "# ------------------\n",
    "\n",
    "# GridSearch\n",
    "from sklearn.model_selection import GridSearchCV\n",
    "\n",
    "# ------------------\n",
    "\n",
    "# Balanceo\n",
    "from imblearn.over_sampling import RandomOverSampler, SMOTE\n",
    "from imblearn.under_sampling import RandomUnderSampler\n",
    "from imblearn.combine import SMOTETomek\n",
    "\n",
    "# ------------------\n",
    "\n",
    "# Otras\n",
    "from sklearn.preprocessing import StandardScaler\n",
    "from sklearn.feature_selection import SelectKBest\n",
    "from sklearn.metrics import classification_report, confusion_matrix\n",
    "from sklearn.model_selection import train_test_split\n"
   ]
  },
  {
   "cell_type": "code",
   "execution_count": 20,
   "metadata": {},
   "outputs": [],
   "source": [
    "# LECTURA CSV\n",
    "vinos = pd.read_csv('data/winequalityN.csv')"
   ]
  },
  {
   "cell_type": "code",
   "execution_count": 21,
   "metadata": {},
   "outputs": [],
   "source": [
    "# SEED\n",
    "seed=33"
   ]
  },
  {
   "cell_type": "code",
   "execution_count": 22,
   "metadata": {},
   "outputs": [],
   "source": [
    "# Hacemos otro df con sólo los vinos blancos\n",
    "blanco=vinos[vinos['type']=='white'].reset_index()\n",
    "blanco = blanco.drop(['index', 'type'], axis=1)"
   ]
  },
  {
   "cell_type": "code",
   "execution_count": null,
   "metadata": {},
   "outputs": [],
   "source": [
    "blanco.describe()"
   ]
  },
  {
   "cell_type": "code",
   "execution_count": null,
   "metadata": {},
   "outputs": [],
   "source": [
    "blanco.info()"
   ]
  },
  {
   "cell_type": "code",
   "execution_count": 23,
   "metadata": {},
   "outputs": [
    {
     "name": "stdout",
     "output_type": "stream",
     "text": [
      "Columnas pre drop: 4898\n",
      "Columnas post drop: 4870\n"
     ]
    }
   ],
   "source": [
    "# Nos deshacemos de los valores nulos\n",
    "\n",
    "print(\"Columnas pre drop:\", len(blanco))\n",
    "blanco = blanco.dropna()\n",
    "print(\"Columnas post drop:\", len(blanco))"
   ]
  },
  {
   "cell_type": "code",
   "execution_count": 24,
   "metadata": {},
   "outputs": [],
   "source": [
    "# Cambiamos la variable Target para que sea solo entre 'aptos=1' y 'no aptos=0'\n",
    "my_dict={3:0, 4:0, 5:0,\n",
    "        6:1, 7:1, 8:1, 9:1}\n",
    "blanco['apto']= blanco['quality'].map(my_dict)\n",
    "blanco = blanco.drop(['quality'], axis=1)"
   ]
  },
  {
   "cell_type": "code",
   "execution_count": 25,
   "metadata": {},
   "outputs": [],
   "source": [
    "# Binning \n",
    "\n",
    "# Creamos nueva feature 'bound sulfur dioxide'\n",
    "# El 'total sulfure dioxide' está compuesto por 'bound sulfur dioxide' + el 'free sulfur dioxide'. así que sacamos con ellas el bound\n",
    "# y eliminamos el total. (el modelo predice mejor así)\n",
    "\n",
    "blanco.insert(5,'bound sulfur dioxide', (blanco['total sulfur dioxide']-blanco['free sulfur dioxide']))\n",
    "blanco = blanco.drop(['total sulfur dioxide'], axis=1)"
   ]
  },
  {
   "cell_type": "code",
   "execution_count": null,
   "metadata": {},
   "outputs": [],
   "source": [
    "# Feature 'density'"
   ]
  },
  {
   "cell_type": "code",
   "execution_count": 26,
   "metadata": {},
   "outputs": [
    {
     "data": {
      "image/png": "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",
      "text/plain": [
       "<Figure size 1080x720 with 2 Axes>"
      ]
     },
     "metadata": {
      "needs_background": "light"
     },
     "output_type": "display_data"
    }
   ],
   "source": [
    "plt.figure(figsize=(15,10))\n",
    "sns.heatmap(blanco[['density', 'residual sugar', 'alcohol','apto']].corr(), annot=True);"
   ]
  },
  {
   "cell_type": "code",
   "execution_count": 27,
   "metadata": {},
   "outputs": [],
   "source": [
    "# Su valor depende en gran medida en la convinación de 'residual sugar' y 'alcohol', por lo que pasamos a eliminarla del df\n",
    "blanco = blanco.drop(['density'], axis=1)"
   ]
  },
  {
   "cell_type": "markdown",
   "metadata": {},
   "source": [
    "------\n",
    "\n",
    "OUTLIERS\n",
    "\n",
    "-----\n"
   ]
  },
  {
   "cell_type": "code",
   "execution_count": 28,
   "metadata": {},
   "outputs": [
    {
     "data": {
      "text/html": [
       "<div>\n",
       "<style scoped>\n",
       "    .dataframe tbody tr th:only-of-type {\n",
       "        vertical-align: middle;\n",
       "    }\n",
       "\n",
       "    .dataframe tbody tr th {\n",
       "        vertical-align: top;\n",
       "    }\n",
       "\n",
       "    .dataframe thead th {\n",
       "        text-align: right;\n",
       "    }\n",
       "</style>\n",
       "<table border=\"1\" class=\"dataframe\">\n",
       "  <thead>\n",
       "    <tr style=\"text-align: right;\">\n",
       "      <th></th>\n",
       "      <th>fixed acidity</th>\n",
       "      <th>volatile acidity</th>\n",
       "      <th>citric acid</th>\n",
       "      <th>residual sugar</th>\n",
       "      <th>chlorides</th>\n",
       "      <th>bound sulfur dioxide</th>\n",
       "      <th>free sulfur dioxide</th>\n",
       "      <th>pH</th>\n",
       "      <th>sulphates</th>\n",
       "      <th>alcohol</th>\n",
       "      <th>apto</th>\n",
       "    </tr>\n",
       "  </thead>\n",
       "  <tbody>\n",
       "    <tr>\n",
       "      <th>count</th>\n",
       "      <td>4870.000000</td>\n",
       "      <td>4870.000000</td>\n",
       "      <td>4870.000000</td>\n",
       "      <td>4870.000000</td>\n",
       "      <td>4870.000000</td>\n",
       "      <td>4870.000000</td>\n",
       "      <td>4870.000000</td>\n",
       "      <td>4870.000000</td>\n",
       "      <td>4870.000000</td>\n",
       "      <td>4870.000000</td>\n",
       "      <td>4870.000000</td>\n",
       "    </tr>\n",
       "    <tr>\n",
       "      <th>mean</th>\n",
       "      <td>6.855123</td>\n",
       "      <td>0.278071</td>\n",
       "      <td>0.334199</td>\n",
       "      <td>6.394343</td>\n",
       "      <td>0.045771</td>\n",
       "      <td>103.022998</td>\n",
       "      <td>35.317146</td>\n",
       "      <td>3.188154</td>\n",
       "      <td>0.489700</td>\n",
       "      <td>10.516772</td>\n",
       "      <td>0.665298</td>\n",
       "    </tr>\n",
       "    <tr>\n",
       "      <th>std</th>\n",
       "      <td>0.843444</td>\n",
       "      <td>0.100528</td>\n",
       "      <td>0.120915</td>\n",
       "      <td>5.070853</td>\n",
       "      <td>0.021846</td>\n",
       "      <td>34.711120</td>\n",
       "      <td>17.012967</td>\n",
       "      <td>0.150902</td>\n",
       "      <td>0.114196</td>\n",
       "      <td>1.231251</td>\n",
       "      <td>0.471935</td>\n",
       "    </tr>\n",
       "    <tr>\n",
       "      <th>min</th>\n",
       "      <td>3.800000</td>\n",
       "      <td>0.080000</td>\n",
       "      <td>0.000000</td>\n",
       "      <td>0.600000</td>\n",
       "      <td>0.009000</td>\n",
       "      <td>4.000000</td>\n",
       "      <td>2.000000</td>\n",
       "      <td>2.720000</td>\n",
       "      <td>0.220000</td>\n",
       "      <td>8.000000</td>\n",
       "      <td>0.000000</td>\n",
       "    </tr>\n",
       "    <tr>\n",
       "      <th>25%</th>\n",
       "      <td>6.300000</td>\n",
       "      <td>0.210000</td>\n",
       "      <td>0.270000</td>\n",
       "      <td>1.700000</td>\n",
       "      <td>0.036000</td>\n",
       "      <td>78.000000</td>\n",
       "      <td>23.000000</td>\n",
       "      <td>3.090000</td>\n",
       "      <td>0.410000</td>\n",
       "      <td>9.500000</td>\n",
       "      <td>0.000000</td>\n",
       "    </tr>\n",
       "    <tr>\n",
       "      <th>50%</th>\n",
       "      <td>6.800000</td>\n",
       "      <td>0.260000</td>\n",
       "      <td>0.320000</td>\n",
       "      <td>5.200000</td>\n",
       "      <td>0.043000</td>\n",
       "      <td>100.000000</td>\n",
       "      <td>34.000000</td>\n",
       "      <td>3.180000</td>\n",
       "      <td>0.470000</td>\n",
       "      <td>10.400000</td>\n",
       "      <td>1.000000</td>\n",
       "    </tr>\n",
       "    <tr>\n",
       "      <th>75%</th>\n",
       "      <td>7.300000</td>\n",
       "      <td>0.320000</td>\n",
       "      <td>0.390000</td>\n",
       "      <td>9.900000</td>\n",
       "      <td>0.050000</td>\n",
       "      <td>125.000000</td>\n",
       "      <td>46.000000</td>\n",
       "      <td>3.280000</td>\n",
       "      <td>0.550000</td>\n",
       "      <td>11.400000</td>\n",
       "      <td>1.000000</td>\n",
       "    </tr>\n",
       "    <tr>\n",
       "      <th>max</th>\n",
       "      <td>14.200000</td>\n",
       "      <td>1.100000</td>\n",
       "      <td>1.660000</td>\n",
       "      <td>65.800000</td>\n",
       "      <td>0.346000</td>\n",
       "      <td>331.000000</td>\n",
       "      <td>289.000000</td>\n",
       "      <td>3.820000</td>\n",
       "      <td>1.080000</td>\n",
       "      <td>14.200000</td>\n",
       "      <td>1.000000</td>\n",
       "    </tr>\n",
       "  </tbody>\n",
       "</table>\n",
       "</div>"
      ],
      "text/plain": [
       "       fixed acidity  volatile acidity  citric acid  residual sugar  \\\n",
       "count    4870.000000       4870.000000  4870.000000     4870.000000   \n",
       "mean        6.855123          0.278071     0.334199        6.394343   \n",
       "std         0.843444          0.100528     0.120915        5.070853   \n",
       "min         3.800000          0.080000     0.000000        0.600000   \n",
       "25%         6.300000          0.210000     0.270000        1.700000   \n",
       "50%         6.800000          0.260000     0.320000        5.200000   \n",
       "75%         7.300000          0.320000     0.390000        9.900000   \n",
       "max        14.200000          1.100000     1.660000       65.800000   \n",
       "\n",
       "         chlorides  bound sulfur dioxide  free sulfur dioxide           pH  \\\n",
       "count  4870.000000           4870.000000          4870.000000  4870.000000   \n",
       "mean      0.045771            103.022998            35.317146     3.188154   \n",
       "std       0.021846             34.711120            17.012967     0.150902   \n",
       "min       0.009000              4.000000             2.000000     2.720000   \n",
       "25%       0.036000             78.000000            23.000000     3.090000   \n",
       "50%       0.043000            100.000000            34.000000     3.180000   \n",
       "75%       0.050000            125.000000            46.000000     3.280000   \n",
       "max       0.346000            331.000000           289.000000     3.820000   \n",
       "\n",
       "         sulphates      alcohol         apto  \n",
       "count  4870.000000  4870.000000  4870.000000  \n",
       "mean      0.489700    10.516772     0.665298  \n",
       "std       0.114196     1.231251     0.471935  \n",
       "min       0.220000     8.000000     0.000000  \n",
       "25%       0.410000     9.500000     0.000000  \n",
       "50%       0.470000    10.400000     1.000000  \n",
       "75%       0.550000    11.400000     1.000000  \n",
       "max       1.080000    14.200000     1.000000  "
      ]
     },
     "execution_count": 28,
     "metadata": {},
     "output_type": "execute_result"
    }
   ],
   "source": [
    "blanco.describe()"
   ]
  },
  {
   "cell_type": "code",
   "execution_count": 29,
   "metadata": {},
   "outputs": [],
   "source": [
    "# citric acid, residual sugar, chlorides, bound sulfur dioxide, free sulfur dioxide"
   ]
  },
  {
   "cell_type": "code",
   "execution_count": 30,
   "metadata": {},
   "outputs": [
    {
     "name": "stderr",
     "output_type": "stream",
     "text": [
      "c:\\Users\\Yo\\AppData\\Local\\Programs\\Python\\Python37\\lib\\site-packages\\seaborn\\_decorators.py:43: FutureWarning: Pass the following variable as a keyword arg: x. From version 0.12, the only valid positional argument will be `data`, and passing other arguments without an explicit keyword will result in an error or misinterpretation.\n",
      "  FutureWarning\n",
      "c:\\Users\\Yo\\AppData\\Local\\Programs\\Python\\Python37\\lib\\site-packages\\seaborn\\_decorators.py:43: FutureWarning: Pass the following variable as a keyword arg: x. From version 0.12, the only valid positional argument will be `data`, and passing other arguments without an explicit keyword will result in an error or misinterpretation.\n",
      "  FutureWarning\n",
      "c:\\Users\\Yo\\AppData\\Local\\Programs\\Python\\Python37\\lib\\site-packages\\seaborn\\_decorators.py:43: FutureWarning: Pass the following variable as a keyword arg: x. From version 0.12, the only valid positional argument will be `data`, and passing other arguments without an explicit keyword will result in an error or misinterpretation.\n",
      "  FutureWarning\n",
      "c:\\Users\\Yo\\AppData\\Local\\Programs\\Python\\Python37\\lib\\site-packages\\seaborn\\_decorators.py:43: FutureWarning: Pass the following variable as a keyword arg: x. From version 0.12, the only valid positional argument will be `data`, and passing other arguments without an explicit keyword will result in an error or misinterpretation.\n",
      "  FutureWarning\n",
      "c:\\Users\\Yo\\AppData\\Local\\Programs\\Python\\Python37\\lib\\site-packages\\seaborn\\_decorators.py:43: FutureWarning: Pass the following variable as a keyword arg: x. From version 0.12, the only valid positional argument will be `data`, and passing other arguments without an explicit keyword will result in an error or misinterpretation.\n",
      "  FutureWarning\n",
      "c:\\Users\\Yo\\AppData\\Local\\Programs\\Python\\Python37\\lib\\site-packages\\seaborn\\_decorators.py:43: FutureWarning: Pass the following variable as a keyword arg: x. From version 0.12, the only valid positional argument will be `data`, and passing other arguments without an explicit keyword will result in an error or misinterpretation.\n",
      "  FutureWarning\n",
      "c:\\Users\\Yo\\AppData\\Local\\Programs\\Python\\Python37\\lib\\site-packages\\seaborn\\_decorators.py:43: FutureWarning: Pass the following variable as a keyword arg: x. From version 0.12, the only valid positional argument will be `data`, and passing other arguments without an explicit keyword will result in an error or misinterpretation.\n",
      "  FutureWarning\n",
      "c:\\Users\\Yo\\AppData\\Local\\Programs\\Python\\Python37\\lib\\site-packages\\seaborn\\_decorators.py:43: FutureWarning: Pass the following variable as a keyword arg: x. From version 0.12, the only valid positional argument will be `data`, and passing other arguments without an explicit keyword will result in an error or misinterpretation.\n",
      "  FutureWarning\n",
      "c:\\Users\\Yo\\AppData\\Local\\Programs\\Python\\Python37\\lib\\site-packages\\seaborn\\_decorators.py:43: FutureWarning: Pass the following variable as a keyword arg: x. From version 0.12, the only valid positional argument will be `data`, and passing other arguments without an explicit keyword will result in an error or misinterpretation.\n",
      "  FutureWarning\n"
     ]
    },
    {
     "data": {
      "text/plain": [
       "<AxesSubplot:xlabel='sulphates'>"
      ]
     },
     "execution_count": 30,
     "metadata": {},
     "output_type": "execute_result"
    },
    {
     "data": {
      "image/png": "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",
      "text/plain": [
       "<Figure size 1440x720 with 9 Axes>"
      ]
     },
     "metadata": {
      "needs_background": "light"
     },
     "output_type": "display_data"
    }
   ],
   "source": [
    "# Target de precio en el dataset de diamonds\n",
    "fig, axes = plt.subplots(3, 3, figsize=(20, 10))\n",
    "plt.subplots_adjust(hspace = 0.3)\n",
    "\n",
    "# Outliers con boxplot\n",
    "sns.boxplot(blanco['fixed acidity'], ax=axes[0, 0])\n",
    "axes[0, 0].set_title(\"Outliers con boxplot\")\n",
    "\n",
    "# Feature susceptible de transformación\n",
    "sns.boxplot(blanco['volatile acidity'], ax=axes[0, 1])\n",
    "axes[0, 1].set_title(\"Feature susceptible de transformación\")\n",
    "\n",
    "\n",
    "sns.boxplot(blanco['citric acid'], ax=axes[0, 2])\n",
    "axes[0, 2].set_title(\"Feature susceptible de transformación\")\n",
    "# Transformacion logaritmica\n",
    "\n",
    "sns.boxplot(blanco['residual sugar'], ax=axes[1, 0])\n",
    "axes[1, 0].set_title(\"Feature susceptible de transformación\")\n",
    "\n",
    "sns.boxplot(blanco['chlorides'], ax=axes[1, 1])\n",
    "axes[1, 1].set_title(\"Feature susceptible de transformación\")\n",
    "# Transformacion logaritmica\n",
    "\n",
    "sns.boxplot(blanco['bound sulfur dioxide'], ax=axes[1, 2])\n",
    "axes[1, 2].set_title(\"Feature susceptible de transformación\")\n",
    "# -------\n",
    "\n",
    "sns.boxplot(blanco['free sulfur dioxide'], ax=axes[2, 0])\n",
    "\n",
    "sns.boxplot(blanco['pH'], ax=axes[2, 1])\n",
    "\n",
    "sns.boxplot(blanco['sulphates'], ax=axes[2, 2])\n",
    "\n",
    "# # Posibles outliers mediante FDP\n",
    "# sns.kdeplot(diamonds_df['price'], ax=axes[1, 0])\n",
    "# axes[1, 0].set_title(\"Posibles outliers en FDP\")\n",
    "\n",
    "# # Outliers mediante bivariante\n",
    "# sns.scatterplot(data=diamonds_df, x='depth', y='price', ax=axes[1, 1])\n",
    "# axes[1, 1].set_title(\"Outliers mediante bivariante\")\n",
    "\n",
    "# # Transformacion de FDP\n",
    "# sns.kdeplot(np.log(diamonds_df[\"price\"]), ax=axes[1, 2])\n",
    "# axes[1, 2].set_title(\"Transformacion de FDP\");"
   ]
  },
  {
   "cell_type": "code",
   "execution_count": 31,
   "metadata": {},
   "outputs": [],
   "source": [
    "from scipy.stats import iqr\n",
    "\n",
    "def outliers_quantie(df, feature, param=1.5):  \n",
    "        \n",
    "    iqr_ = iqr(df[feature], nan_policy='omit')\n",
    "    q1 = np.nanpercentile(df[feature], 25)\n",
    "    q3 = np.nanpercentile(df[feature], 75)\n",
    "    \n",
    "    th1 = q1 - iqr_*param\n",
    "    th2 = q3 + iqr_*param\n",
    "    \n",
    "    return df[(df[feature] >= th1) & (df[feature] <= th2)].reset_index(drop=True)\n",
    "\n",
    "# diamonds_df2 = outliers_quantie(diamonds_df, 'depth', 7)\n",
    "# print(\"Len original:\", len(diamonds_df))\n",
    "# print(\"Len sin outliers en depth:\", len(diamonds_df2))\n",
    "# sns.scatterplot(data=diamonds_df2, x='depth', y='price');"
   ]
  },
  {
   "cell_type": "code",
   "execution_count": 32,
   "metadata": {},
   "outputs": [],
   "source": [
    "# print(\"Len original:\", len(blanco))\n",
    "\n",
    "# blanco = outliers_quantie(blanco, 'fixed acidity')\n",
    "\n",
    "# print(\"Len sin outliers en fixed acidity:\", len(blanco))\n",
    "# # sns.scatterplot(data=blanco, x='fixed acidity', y='apto');"
   ]
  },
  {
   "cell_type": "code",
   "execution_count": 33,
   "metadata": {},
   "outputs": [],
   "source": [
    "# citric acid, residual sugar, chlorides, bound sulfur dioxide, free sulfur dioxide"
   ]
  },
  {
   "cell_type": "code",
   "execution_count": 34,
   "metadata": {},
   "outputs": [],
   "source": [
    "# print(\"Len original:\", len(blanco))\n",
    "# blanco = outliers_quantie(blanco, 'volatile acidity')\n",
    "# print(\"Len sin outliers en volatile acidity:\", len(blanco))\n",
    "\n",
    "\n",
    "# # sns.scatterplot(data=blanco, x='residual sugar', y='apto');"
   ]
  },
  {
   "cell_type": "code",
   "execution_count": 35,
   "metadata": {},
   "outputs": [
    {
     "name": "stdout",
     "output_type": "stream",
     "text": [
      "Len original: 4870\n",
      "Len sin outliers en residual sugar: 4863\n",
      "Len original: 4863\n",
      "Len sin outliers en citric acid: 4598\n",
      "Len original: 4598\n",
      "Len sin outliers en chlorides: 4426\n",
      "Len original: 4426\n",
      "Len sin outliers en bound sulfur dioxide: 4398\n",
      "Len original: 4398\n",
      "Len sin outliers en free sulfur dioxide: 4343\n"
     ]
    }
   ],
   "source": [
    "print(\"Len original:\", len(blanco))\n",
    "blanco = outliers_quantie(blanco, 'residual sugar')\n",
    "print(\"Len sin outliers en residual sugar:\", len(blanco))\n",
    "\n",
    "print(\"Len original:\", len(blanco))\n",
    "blanco = outliers_quantie(blanco, 'citric acid')\n",
    "print(\"Len sin outliers en citric acid:\", len(blanco))\n",
    "\n",
    "print(\"Len original:\", len(blanco))\n",
    "blanco = outliers_quantie(blanco, 'chlorides')\n",
    "print(\"Len sin outliers en chlorides:\", len(blanco))\n",
    "\n",
    "print(\"Len original:\", len(blanco))\n",
    "blanco = outliers_quantie(blanco, 'bound sulfur dioxide')\n",
    "print(\"Len sin outliers en bound sulfur dioxide:\", len(blanco))\n",
    "\n",
    "print(\"Len original:\", len(blanco))\n",
    "blanco = outliers_quantie(blanco, 'free sulfur dioxide')\n",
    "print(\"Len sin outliers en free sulfur dioxide:\", len(blanco))\n",
    "\n",
    "# print(\"Len original:\", len(blanco))\n",
    "# blanco = outliers_quantie(blanco, 'pH')\n",
    "# print(\"Len sin outliers en pH:\", len(blanco))\n",
    "\n",
    "# print(\"Len original:\", len(blanco))\n",
    "# blanco = outliers_quantie(blanco, 'sulphates')\n",
    "# print(\"Len sin outliers en sulphates:\", len(blanco))\n",
    "\n",
    "# print(\"Len original:\", len(blanco))\n",
    "# blanco = outliers_quantie(blanco, 'alcohol')\n",
    "# print(\"Len sin outliers en alcohol:\", len(blanco))"
   ]
  },
  {
   "cell_type": "code",
   "execution_count": 36,
   "metadata": {},
   "outputs": [],
   "source": [
    "# citric acid, residual sugar, chlorides, bound sulfur dioxide, free sulfur dioxide"
   ]
  },
  {
   "cell_type": "code",
   "execution_count": 37,
   "metadata": {},
   "outputs": [
    {
     "data": {
      "text/html": [
       "<div>\n",
       "<style scoped>\n",
       "    .dataframe tbody tr th:only-of-type {\n",
       "        vertical-align: middle;\n",
       "    }\n",
       "\n",
       "    .dataframe tbody tr th {\n",
       "        vertical-align: top;\n",
       "    }\n",
       "\n",
       "    .dataframe thead th {\n",
       "        text-align: right;\n",
       "    }\n",
       "</style>\n",
       "<table border=\"1\" class=\"dataframe\">\n",
       "  <thead>\n",
       "    <tr style=\"text-align: right;\">\n",
       "      <th></th>\n",
       "      <th>fixed acidity</th>\n",
       "      <th>volatile acidity</th>\n",
       "      <th>citric acid</th>\n",
       "      <th>residual sugar</th>\n",
       "      <th>chlorides</th>\n",
       "      <th>bound sulfur dioxide</th>\n",
       "      <th>free sulfur dioxide</th>\n",
       "      <th>pH</th>\n",
       "      <th>sulphates</th>\n",
       "      <th>alcohol</th>\n",
       "      <th>apto</th>\n",
       "    </tr>\n",
       "  </thead>\n",
       "  <tbody>\n",
       "    <tr>\n",
       "      <th>0</th>\n",
       "      <td>7.0</td>\n",
       "      <td>0.27</td>\n",
       "      <td>0.36</td>\n",
       "      <td>20.7</td>\n",
       "      <td>0.045</td>\n",
       "      <td>125.0</td>\n",
       "      <td>45.0</td>\n",
       "      <td>3.00</td>\n",
       "      <td>0.45</td>\n",
       "      <td>8.8</td>\n",
       "      <td>1</td>\n",
       "    </tr>\n",
       "    <tr>\n",
       "      <th>1</th>\n",
       "      <td>6.3</td>\n",
       "      <td>0.30</td>\n",
       "      <td>0.34</td>\n",
       "      <td>1.6</td>\n",
       "      <td>0.049</td>\n",
       "      <td>118.0</td>\n",
       "      <td>14.0</td>\n",
       "      <td>3.30</td>\n",
       "      <td>0.49</td>\n",
       "      <td>9.5</td>\n",
       "      <td>1</td>\n",
       "    </tr>\n",
       "    <tr>\n",
       "      <th>2</th>\n",
       "      <td>8.1</td>\n",
       "      <td>0.28</td>\n",
       "      <td>0.40</td>\n",
       "      <td>6.9</td>\n",
       "      <td>0.050</td>\n",
       "      <td>67.0</td>\n",
       "      <td>30.0</td>\n",
       "      <td>3.26</td>\n",
       "      <td>0.44</td>\n",
       "      <td>10.1</td>\n",
       "      <td>1</td>\n",
       "    </tr>\n",
       "    <tr>\n",
       "      <th>3</th>\n",
       "      <td>7.2</td>\n",
       "      <td>0.23</td>\n",
       "      <td>0.32</td>\n",
       "      <td>8.5</td>\n",
       "      <td>0.058</td>\n",
       "      <td>139.0</td>\n",
       "      <td>47.0</td>\n",
       "      <td>3.19</td>\n",
       "      <td>0.40</td>\n",
       "      <td>9.9</td>\n",
       "      <td>1</td>\n",
       "    </tr>\n",
       "    <tr>\n",
       "      <th>4</th>\n",
       "      <td>7.2</td>\n",
       "      <td>0.23</td>\n",
       "      <td>0.32</td>\n",
       "      <td>8.5</td>\n",
       "      <td>0.058</td>\n",
       "      <td>139.0</td>\n",
       "      <td>47.0</td>\n",
       "      <td>3.19</td>\n",
       "      <td>0.40</td>\n",
       "      <td>9.9</td>\n",
       "      <td>1</td>\n",
       "    </tr>\n",
       "  </tbody>\n",
       "</table>\n",
       "</div>"
      ],
      "text/plain": [
       "   fixed acidity  volatile acidity  citric acid  residual sugar  chlorides  \\\n",
       "0            7.0              0.27         0.36            20.7      0.045   \n",
       "1            6.3              0.30         0.34             1.6      0.049   \n",
       "2            8.1              0.28         0.40             6.9      0.050   \n",
       "3            7.2              0.23         0.32             8.5      0.058   \n",
       "4            7.2              0.23         0.32             8.5      0.058   \n",
       "\n",
       "   bound sulfur dioxide  free sulfur dioxide    pH  sulphates  alcohol  apto  \n",
       "0                 125.0                 45.0  3.00       0.45      8.8     1  \n",
       "1                 118.0                 14.0  3.30       0.49      9.5     1  \n",
       "2                  67.0                 30.0  3.26       0.44     10.1     1  \n",
       "3                 139.0                 47.0  3.19       0.40      9.9     1  \n",
       "4                 139.0                 47.0  3.19       0.40      9.9     1  "
      ]
     },
     "execution_count": 37,
     "metadata": {},
     "output_type": "execute_result"
    }
   ],
   "source": [
    "blanco.head()"
   ]
  },
  {
   "cell_type": "markdown",
   "metadata": {},
   "source": [
    "----------------"
   ]
  },
  {
   "cell_type": "code",
   "execution_count": 38,
   "metadata": {},
   "outputs": [
    {
     "name": "stdout",
     "output_type": "stream",
     "text": [
      "Value Counts  1    0.691227\n",
      "0    0.308773\n",
      "Name: apto, dtype: float64\n"
     ]
    },
    {
     "data": {
      "image/png": "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",
      "text/plain": [
       "<Figure size 720x432 with 1 Axes>"
      ]
     },
     "metadata": {},
     "output_type": "display_data"
    }
   ],
   "source": [
    "#  Ver el balance de los datos\n",
    "print('Value Counts ', blanco['apto'].value_counts(normalize=True))\n",
    "plt.figure(figsize=(10,6))\n",
    "blanco['apto'].value_counts().plot.pie(autopct=\"%.1f%%\");"
   ]
  },
  {
   "cell_type": "code",
   "execution_count": 39,
   "metadata": {},
   "outputs": [
    {
     "data": {
      "image/png": "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",
      "text/plain": [
       "<Figure size 1080x720 with 2 Axes>"
      ]
     },
     "metadata": {
      "needs_background": "light"
     },
     "output_type": "display_data"
    }
   ],
   "source": [
    "# Heatmap para ver la correlación de los datos\n",
    "plt.figure(figsize=(15,10))\n",
    "sns.heatmap(blanco.corr(),cmap=sns.diverging_palette(145, 280, s=85, l=25, n=10), annot=True);"
   ]
  },
  {
   "cell_type": "code",
   "execution_count": 40,
   "metadata": {},
   "outputs": [],
   "source": [
    "# Quitamos la variable 'densidad', ya que depende del azucar y del alcohol.\n",
    "\n",
    "# He probado a quitar 'free sulfur dioxide', porque depende de 'total sulfur dioxide', pero se ve que hay algo más que influye en ella,\n",
    "# y el modelo predice mejor si la dejamos\n",
    "\n",
    "X = blanco.iloc[:,:-1]\n",
    "y = blanco['apto']"
   ]
  },
  {
   "cell_type": "code",
   "execution_count": 41,
   "metadata": {},
   "outputs": [],
   "source": [
    "# Balanceo ROS\n",
    "ros = RandomOverSampler(random_state=seed)\n",
    "X_ros, y_ros = ros.fit_resample(X, y)\n"
   ]
  },
  {
   "cell_type": "code",
   "execution_count": 42,
   "metadata": {},
   "outputs": [
    {
     "data": {
      "image/png": "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",
      "text/plain": [
       "<Figure size 720x432 with 1 Axes>"
      ]
     },
     "metadata": {},
     "output_type": "display_data"
    }
   ],
   "source": [
    "# Vemos el nuevo balance de los datos.\n",
    "plt.figure(figsize=(10,6))\n",
    "y_ros.value_counts().plot.pie(autopct=\"%.1f%%\");\n"
   ]
  },
  {
   "cell_type": "code",
   "execution_count": 43,
   "metadata": {},
   "outputs": [],
   "source": [
    "# Entrenamiento tras el balanceo. Al agregar el stratify he ganado otro 1%\n",
    "X_train, X_test, y_train, y_test = train_test_split(X_ros, y_ros, test_size=0.2,stratify=y_ros, random_state=seed)"
   ]
  },
  {
   "cell_type": "code",
   "execution_count": 44,
   "metadata": {},
   "outputs": [],
   "source": [
    "# Pipeline\n",
    "pipe = Pipeline(steps=[('scaler', StandardScaler()),\n",
    "                       ('kbest', SelectKBest()),\n",
    "                       ('classifier', LogisticRegression(random_state=seed))])"
   ]
  },
  {
   "cell_type": "code",
   "execution_count": 45,
   "metadata": {},
   "outputs": [],
   "source": [
    "# # GridSearch. Dejo solo el GradientBoostingClassifier con 'max_depth=5' porque es el que mejor resultado me ha dado\n",
    "\n",
    "# # svm_params = {'kbest__k': [5,7,8,9],\n",
    "# #               'classifier': [SVC()],\n",
    "# #               'classifier__C': [0.5,0.8,1],\n",
    "# #               'classifier__kernel': ['linear','rbf','sigmoid']\n",
    "# # }\n",
    "\n",
    "# # log_params = {'kbest__k': [5,7,8,9],\n",
    "# #               'classifier': [LogisticRegression()],\n",
    "# #               'classifier__penalty': ['l1','l2'],\n",
    "# #               'classifier__C': np.logspace(0,2,5)\n",
    "# # }\n",
    "\n",
    "# # knn_params = {'kbest__k': [5,7,8,9],\n",
    "# #               'classifier': [KNeighborsClassifier()],\n",
    "# #               'classifier__n_neighbors': [5,10,12,17,20],\n",
    "# #               'classifier__weights': ['uniform','distance']\n",
    "# # }\n",
    "\n",
    "# # rf_params = {'kbest__k': [5,7,8,9],\n",
    "# #               'classifier': [RandomForestClassifier()],\n",
    "# #               'classifier__n_estimators': [50,100,150],\n",
    "# #               'classifier__max_depth': [2,3,4,5,6,7],\n",
    "# #               'classifier__min_samples_leaf': [1,3,5]\n",
    "# # }\n",
    "\n",
    "# gb_params = {'kbest__k': [8,9,10],\n",
    "#               'classifier': [GradientBoostingClassifier()],\n",
    "#             #   'classifier__max_depth': [2,3,4,5,6],\n",
    "#               'classifier__max_depth': [6,7,8],\n",
    "#               'classifier__n_estimators': [200,250,300,350,400],\n",
    "#               'classifier__learning_rate': [0.1,0.15,0.2,0.25,0.3,0.35]\n",
    "# }\n",
    "\n",
    "# # ada_params = {'kbest__k': [7,8,9],\n",
    "# #               'classifier': [AdaBoostClassifier()],\n",
    "# #               'classifier__n_estimators': [150,200,300,350],\n",
    "# #               'classifier__learning_rate': [0.3,0.5,0.7,1]\n",
    "# # }\n",
    "\n",
    "# # xgb_params = {'kbest__k': [7,8,9],\n",
    "# #               'classifier': [xgboost.XGBRFClassifier()],\n",
    "# #               'classifier__n_estimators': [175,200,225],\n",
    "# #               'classifier__learning_rate': [0.01,0.02,0.03,0.05]\n",
    "# # }\n",
    "\n",
    "# # search_space = [svm_params, log_params, knn_params, rf_params, gb_params, ada_params, xgb_params]\n",
    "# search_space = [gb_params]\n",
    "\n",
    "# clf = GridSearchCV(estimator=pipe, param_grid=search_space, cv=3, n_jobs=-1)\n",
    "# best_model = clf.fit(X_train, y_train)\n",
    "\n",
    "# y_pred = best_model.best_estimator_.predict(X_test)\n",
    "\n",
    "# print('Best model. Best Score', best_model.best_score_, '\\n','-'*50)\n",
    "# print('Best model. Best Params', best_model.best_params_, '\\n','-'*50)\n",
    "# print('Accuracy Score', accuracy_score(y_test, y_pred), '\\n','-'*50)\n",
    "# print('Confusion Matrix \\n', confusion_matrix(y_test,y_pred), '\\n','-'*50)\n",
    "# sns.heatmap(confusion_matrix(y_test,y_pred, normalize='true'), annot=True);\n",
    "\n",
    "\n",
    "# Accuracy Score 0.9282407407407407 \n",
    "# 'classifier__learning_rate': 0.25, 'classifier__max_depth': 8, 'classifier__n_estimators': 400, 'kbest__k': 10} "
   ]
  },
  {
   "cell_type": "code",
   "execution_count": 46,
   "metadata": {},
   "outputs": [
    {
     "name": "stdout",
     "output_type": "stream",
     "text": [
      "Best model. Best Score 0.875286279408703 \n",
      " --------------------------------------------------\n",
      "Best model. Best Params {'classifier': GradientBoostingClassifier(learning_rate=0.25, max_depth=8, n_estimators=300), 'classifier__learning_rate': 0.25, 'classifier__max_depth': 8, 'classifier__n_estimators': 300, 'kbest__k': 10} \n",
      " --------------------------------------------------\n",
      "Accuracy Score 0.9433805162364696 \n",
      " --------------------------------------------------\n",
      "Confusion Matrix \n",
      " [[586  15]\n",
      " [ 53 547]] \n",
      " --------------------------------------------------\n"
     ]
    },
    {
     "data": {
      "image/png": "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",
      "text/plain": [
       "<Figure size 432x288 with 2 Axes>"
      ]
     },
     "metadata": {
      "needs_background": "light"
     },
     "output_type": "display_data"
    }
   ],
   "source": [
    "# GridSearch. Dejo solo el GradientBoostingClassifier con 'max_depth=5' porque es el que mejor resultado me ha dado\n",
    "\n",
    "\n",
    "# }\n",
    "\n",
    "gb_params = {'kbest__k': [8,9,10],\n",
    "              'classifier': [GradientBoostingClassifier()],\n",
    "              'classifier__max_depth': [6,7,8],\n",
    "              'classifier__n_estimators': [200,250,300,400],\n",
    "              'classifier__learning_rate': [0.1,0.15, 0.2, 0.25]\n",
    "}\n",
    "\n",
    "# ada_params = {'kbest__k': [7,8,9],\n",
    "#               'classifier': [AdaBoostClassifier()],\n",
    "#               'classifier__n_estimators': [150,200,300,350],\n",
    "#               'classifier__learning_rate': [0.3,0.5,0.7,1]\n",
    "# }\n",
    "\n",
    "# xgb_params = {'kbest__k': [7,8,9],\n",
    "#               'classifier': [xgboost.XGBRFClassifier()],\n",
    "#               'classifier__n_estimators': [175,200,225],\n",
    "#               'classifier__learning_rate': [0.01,0.02,0.03,0.05]\n",
    "# }\n",
    "\n",
    "# search_space = [svm_params, log_params, knn_params, rf_params, gb_params, ada_params, xgb_params]\n",
    "search_space = [gb_params]\n",
    "\n",
    "clf = GridSearchCV(estimator=pipe, param_grid=search_space, cv=3, n_jobs=-1)\n",
    "best_model = clf.fit(X_train, y_train)\n",
    "\n",
    "y_pred = best_model.best_estimator_.predict(X_test)\n",
    "\n",
    "print('Best model. Best Score', best_model.best_score_, '\\n','-'*50)\n",
    "print('Best model. Best Params', best_model.best_params_, '\\n','-'*50)\n",
    "print('Accuracy Score', accuracy_score(y_test, y_pred), '\\n','-'*50)\n",
    "print('Confusion Matrix \\n', confusion_matrix(y_test,y_pred), '\\n','-'*50)\n",
    "sns.heatmap(confusion_matrix(y_test,y_pred, normalize='true'), annot=True);"
   ]
  },
  {
   "cell_type": "code",
   "execution_count": 57,
   "metadata": {},
   "outputs": [
    {
     "name": "stdout",
     "output_type": "stream",
     "text": [
      "Best model. Best Score 0.8748698729960441 \n",
      " --------------------------------------------------\n",
      "Best model. Best Params {'classifier': GradientBoostingClassifier(learning_rate=0.25, max_depth=8, n_estimators=200), 'classifier__learning_rate': 0.25, 'classifier__max_depth': 8, 'classifier__n_estimators': 200, 'kbest__k': 9} \n",
      " --------------------------------------------------\n",
      "Accuracy Score 0.9450457951706911 \n",
      " --------------------------------------------------\n",
      "Confusion Matrix \n",
      " [[589  12]\n",
      " [ 54 546]] \n",
      " --------------------------------------------------\n"
     ]
    },
    {
     "data": {
      "image/png": "iVBORw0KGgoAAAANSUhEUgAAAV0AAAD4CAYAAABPLjVeAAAAOXRFWHRTb2Z0d2FyZQBNYXRwbG90bGliIHZlcnNpb24zLjUuMiwgaHR0cHM6Ly9tYXRwbG90bGliLm9yZy8qNh9FAAAACXBIWXMAAAsTAAALEwEAmpwYAAAT4UlEQVR4nO3de7zVVZ3/8dfnHOAnWeooIlfveEEcb4Q14gR5CS0hL+OgXR4qxWQ6YzWW1/w5ljrTLyt9ZCamOZKGpqmoeMMkQ1M5BYpgOoiGh4t4AZyy4py91+8PTnoOl3OJfdbefHk9fXwfj7O/33W+e20f+ObjWuu7dqSUkCTlUVftDkjS5sTQlaSMDF1JysjQlaSMDF1JyqhHd79B0xsLXR6hdfQecGi1u6Aa1Lx6cWzsPbqSOT377LrR79dV3R66kpRVuVTtHrTL0JVULKlc7R60y9CVVCxlQ1eSsklWupKUUam52j1ol6ErqVicSJOkjBxekKSMnEiTpHycSJOknKx0JSmjUlO1e9AuQ1dSsTi8IEkZObwgSRlZ6UpSRla6kpRPKjuRJkn5WOlKUkaO6UpSRm54I0kZWelKUkaO6UpSRm5iLkkZWelKUj4pOZEmSflY6UpSRq5ekKSMrHQlKSNXL0hSRg4vSFJGDi9IUkaGriRl5PCCJGXkRJokZeTwgiRl5PCCJGVkpStJGdV46NZVuwOSVFEpdf7oQESMiYgXImJBRJy7nus7RsSjETE7Ip6NiKM7uqeVrqRiaa7M6oWIqAeuBo4AGoFZETE1pTS/VbMLgdtSStdExFBgGrBze/e10pVULKnc+aN9I4AFKaWFKaXVwBRg3NrvBmzV8vPWwJKObmqlK6lYujCmGxETgYmtTk1KKU1q+Xkg8Gqra43AwWvd4mLgoYj4V2BL4PCO3tPQlVQsnRirfa9pmgRM6rDhhp0E3JhSuiIiPgxMjohhKW24jDZ0JRVL5VYvLAYGt3o9qOVcaxOAMQAppV9HxBZAH2D5hm7qmK6kYimXO3+0bxYwJCJ2iYhewHhg6lptFgGHAUTE3sAWwOvt3dRKV1KhpFJlvpgypdQcEWcCDwL1wA0ppXkRcQnQkFKaCvw7cF1EfJk1k2qnpNT++IahK6lYKvhwREppGmuWgbU+d1Grn+cDh3TlnoaupGJx7wVJyqjc+dUL1WDoSiqWGt97wdCVVCwVmkjrLi4Zq5CZTzbwifGf46gTT+NHk29b5/qSZa8x4d/O5djPns4pZ36NZcvfW1VyxdXXM+5T/8IxJ0/ksu9eQweTn9qEfOzIUcx77jF+N38mX/vqGetc79WrF7fcfA2/mz+TJ2bew047DQLg8MMO5akn72f2b6fz1JP3M3pUl+ZqNm+VWzLWLQzdCiiVSnzziqu55opvMPXma5k2fQYvvfz7Nm2+/f0fMXbMYdx50zWcfurJfO+HNwIwe+58Zs+dz89v+gF3Tb6Gec+/yKzZc6vwKVRpdXV1XHXlpXzimE+z736j+ed//iR77z2kTZvTTj2JFStWsdfQkXzvquu4/LILAHjjzbf45LGncMCBh3PahC9x44+vrMZH2DSVU+ePKjB0K2Du8y+y46ABDB7Yn549e3LUYR/hF796sk2bl15exIiD9gdgxIH78eivfg1ARLB69WqamptZ3dREU3OJ7bbdJvMnUHcY8cEDeOmlV3j55UU0NTVx2213M/aYj7VpM/aYI5k8+WcA3HHHfXx09EgA5syZx9KlrwEwb94L9O69Bb169cr7ATZVldvwplt0GLoRsVdEnBMRV7Uc57Q8eaEWy19/g359t3/39Q59+7D89TfbtNlzyK5M/+XjAEz/5RP88Z0/sXLV2+w/bG8+eODfM3rspxg99lMccvCB7Lbzjln7r+4xYGA/Xm18b9OpxsVLGTCg3wbblEolVq16m+22+7s2bY477uPMnv0cq1ev7v5OF8GmXOlGxDms2c4sgKdbjgB+ur4NfVv93sSIaIiIhh/d9NNK9neTdfYZn6Nh9lxOOOUMGubMZYftt6Ouro5FjUtY+MqrPHLnZH5x1094+jfP8Js5z1W7u6oRQ4fuweWXns/pZ5xT7a5sMlK53OmjGjpavTAB2Cel1NT6ZER8B5gH/Of6fqn1zj1Nbyws/KxQ3+37tJkYe235G/Tdfru12mzHlZd/HYB33vkT02fMZKsPvJ/bpz7Afvvsxfve1xuAkR8azjPznueg/Yfl+wDqFksWL2PwoAHvvh40sD9Llixbb5vFi5dSX1/P1ltvxZtvrgBg4MD+3P6z6zn1tLNYuLDtHIHasYmvXigDA9Zzvn/LNQHD9tqDRY1LaFyyjKamJu5/5JeMHvmhNm1WrFxFueVv1usm38qxHz8SgP47bE/DnLk0N5doam6mYc5cdt1p8DrvoU3PrIY57L77Luy882B69uzJiSeO4557H2rT5p57H+Izn/knAI4//uM8OmPNENTWW2/F1Ltv4vwLLuOJXzdk7/smrcaHFzqqdL8EPBIR/8N7m/nuCOwOnNmN/dqk9OhRz/lfPp1/+cqFlEoljv3Ekey+6058/7qb2GevPRh96IeYNftZvvfDG4kIDtpvGBf++xcBOHL0SJ7+7TMc+9nTiYCRBw9n1FqBrU1TqVTirC9dyLT7bqG+ro4b//tW5s9/kYv/79k0/OYZ7r33YW748RT++8ar+N38maxYsZKTP73mz8UZXzyV3XfbmQsv+DIXXvBlAI46+iReX2uuQOtR4w9HREdrQiOijjVfWzGw5dRiYFZKqVM1/OYwvKCu6z3g0Gp3QTWoefXi2Nh7/PGi8Z3OnC0vmbLR79dVHT6R1rID+pMdtZOkmuCGN5KUkRveSFI+qbm2Vy8YupKKxUpXkjJyTFeSMrLSlaR8kqErSRk5kSZJGVnpSlJGhq4k5VPrX3dl6EoqFitdScrI0JWkfFKzD0dIUj61nbmGrqRi8eEIScrJ0JWkjBxekKR8HF6QpIxSs6ErSfk4vCBJ+dT4HuaGrqSCqfHQrat2BySpklK580dHImJMRLwQEQsi4twNtDkxIuZHxLyIuKWje1rpSiqU1FyZ+0REPXA1cATQCMyKiKkppfmt2gwBzgMOSSmtiIi+Hd3XSldSoVSw0h0BLEgpLUwprQamAOPWavN54OqU0gqAlNLyjm5q6EoqlK6EbkRMjIiGVsfEVrcaCLza6nVjy7nW9gD2iIjHI+LJiBjTUf8cXpBULCk63zSlScCkjXi3HsAQYBQwCHgsIvZNKa3c0C9Y6UoqlAoOLywGBrd6PajlXGuNwNSUUlNK6WXgRdaE8AYZupIKJZWj00cHZgFDImKXiOgFjAemrtXmLtZUuUREH9YMNyxs76YOL0gqlHKp88ML7UkpNUfEmcCDQD1wQ0ppXkRcAjSklKa2XDsyIuYDJeCrKaU327tvdPeXuDW9sbC2H4RWVfQecGi1u6Aa1Lx68UYnZuPBH+105gx66heVSegusNKVVCidGDaoKkNXUqHU+DewG7qSisVKV5IyqtREWncxdCUVipWuJGWUuvBEWjUYupIKxU3MJSmjspWuJOXj8IIkZeTqBUnKyNULkpSRY7qSlJFjupKUkXsvSFJGDi9IUkZlJ9IkKZ/NvtLdZY+x3f0W2gT9YdZ11e6CCsqJNEnKaLOvdCUppxpfvGDoSiqWUrmu2l1ol6ErqVBqfGdHQ1dSsSQc05WkbMo1Pqhr6EoqlLKVriTl4/CCJGVUMnQlKR9XL0hSRoauJGXkmK4kZVTjOzsaupKKxSVjkpRRqdod6IChK6lQymGlK0nZ1PhTwIaupGJxyZgkZVTrqxdqe7dfSeqiEtHpoyMRMSYiXoiIBRFxbjvtjo+IFBHDO7qnla6kQqlUpRsR9cDVwBFAIzArIqamlOav1e4DwFnAU525r5WupEIpd+HowAhgQUppYUppNTAFGLeedt8A/gv4c2f6Z+hKKpTUhSMiJkZEQ6tjYqtbDQRebfW6seXcuyLiQGBwSum+zvbP4QVJhdKV4YWU0iRg0t/yPhFRB3wHOKUrv2foSiqUCi4ZWwwMbvV6UMu5v/oAMAyYEWseyOgHTI2IsSmlhg3d1NCVVCilyi0ZmwUMiYhdWBO244GT/3oxpbQK6PPX1xExAzi7vcAFx3QlFUylJtJSSs3AmcCDwPPAbSmleRFxSUSM/Vv7Z6UrqVAq+URaSmkaMG2tcxdtoO2oztzT0JVUKO69IEkZ1fpjwIaupEJxwxtJyshNzCUpI4cXJCkjhxckKSNXL0hSRuUaj11DV1KhOJEmSRk5pitJGbl6QZIyckxXkjKq7cg1dCUVjGO6kpRRqcZrXUNXUqFY6UpSRk6kSVJGtR25hq6kgnF4QZIyciJNkjKq9TFdv4K9QkYddgi/fOoeZjZM44yzJqxzvVevnvzg+m8zs2Ea9zx8C4MGDwCgZ88eXPH9bzB95s956LE7+PAhH8zddXWjx+c8z9izLuMT/3op1981fZ3rS15/i89f8gNOOPtbTLj4+7z25sp3r51+6bWMPOU8zvzP6zL2eNOXunBUg6FbAXV1dXzzWxfymRNPZ/SHxzLu+KMZsueubdqM//RxrFr5NiOHH81110zm/Iu/AsDJnz0BgMNHHsdJx32er3/jbCJq/OFxdUqpXOay6+/gB+dP5M7vnsMDj8/mpcZlbdp8Z/JUjvnH4dz+7a8x8YSPceUt97577ZSxo/nmmZ/K3e1NXpnU6aMaDN0K2P+gfXnl5UUs+n0jTU3N3P3z+znyqI+2aXPk0R/lZ1PuBuC+ux9i5D8eDMCQPXfjiceeBuDNN97i7VX/y34H7JP3A6hbPLdgEYP79WHQDn3o2aMHY/7hAGbMeq5Nm5calzFi2BAARuyzOzMa3rt+8L57sGXvLbL2uQjKXTiqwdCtgP79+7J08XsVzLIlr9G/f982bfq1alMqlXj77T/wd9tuw/PzXuCIo0ZRX1/P4B0Hsu/+QxkwsF/W/qt7LH9rJf222+bd132325rX3lrVps2eOw3kkaefBeCRp+fyxz/9hZX/+8ec3Syc1IV/quFvnkiLiFNTSj/ewLWJwESAbd7Xny3/z7Z/69sU3pSf3Mnue+zKtF/cSuOrS/jN03MolWp90Ysq5SufGcvlN9zB3TNmcdDeu9J3262pq7MW2hhFXr3wH8B6QzelNAmYBDBo22G1/W+gApYuXU7/VtVpvwE7sHTp8jZtlrW0WbrkNerr69lqq/ez4q2VAPzHBd96t91dD/yEhS+9kqPb6mZ9t92GZa0mxpa/uYodtt16rTZb892zTwPgnT//helPPctWW/bO2c3CqfWSpd2/UiPi2Q0cc4EdMvWx5j3z2+fYZdcdGbzjQHr27MG4447i4QcebdPm4fsf5Z/GjwPg4+OO5PFfPQXAFr23oPf71vxHduioD9Pc3Mz/vLAw7wdQt9hnt8EsWvo6jcvfpKm5mQeemM1Hhrcdr1/x9h8ol9fExPV3TueTow+uRlcLpZxSp49q6KjS3QH4GLBirfMBPNEtPdoElUolvv61y7j59mupq6/n1pvv5MXfvcTZ553BM7Pn8fADM5jyk59z5Q8vZ2bDNFauWMUXP/dVAPr02Zabb7+WckosW/IaZ33hvCp/GlVKj/p6zjvteE6/9FrK5TKfHH0wuw/uz9W33s8+uw1m1PBhNMxfwFW33AcRHLT3rpw/4YR3f/+Ui67ilcXLeefPqzniCxdz8RfGc8j+e1XxE20aav1/rSO1k/YRcT3w45TSzPVcuyWldHJHb7A5DC+o6xY8+q2OG2mzs8V+R2/0esmTdzq205lzy+/vzL4+s91KN6W07ir/9651GLiSlFu1ViV0lo8BSyqUZkNXkvKx0pWkjGp9yZihK6lQ2lscUAsMXUmF4taOkpRRidTpoyMRMSYiXoiIBRFx7nqufyUi5rc8NPZIROzU0T0NXUmFUqmtHSOiHrgaOAoYCpwUEUPXajYbGJ5S+nvgdqDDBeiGrqRCSSl1+ujACGBBSmlhSmk1MAUYt9Z7PZpSeqfl5ZPAoI5uauhKKpSu7KcbERMjoqHVMbHVrQYCr7Z63dhybkMmAPd31D8n0iQVSlfW6bbeEXFjRMSngeHARzpqa+hKKpQKrl5YDAxu9XpQy7k2IuJw4ALgIymlv3R0U0NXUqGUUsUej5gFDImIXVgTtuOBNnvORMQBwLXAmJTS8nVvsS5DV1KhVOox4JRSc0ScCTwI1AM3pJTmRcQlQENKaSrw/4D3Az9r+ULZRSmlse3d19CVVCiV3Jw8pTQNmLbWuYta/Xx4V+9p6EoqlNp+Hs3QlVQwtf4YsKErqVAMXUnKqIKrF7qFoSupUNzEXJIycj9dScrIMV1JyshKV5IyKtX4t6QZupIKpZJPpHUHQ1dSobh6QZIystKVpIysdCUpIytdScrIx4AlKSOHFyQpo2SlK0n5+BiwJGXkY8CSlJGVriRlVCo7pitJ2bh6QZIyckxXkjJyTFeSMrLSlaSMnEiTpIwcXpCkjBxekKSM3NpRkjJyna4kZWSlK0kZld3aUZLycSJNkjIydCUpo9qOXIha/1uhSCJiYkppUrX7odrin4vNS121O7CZmVjtDqgm+ediM2LoSlJGhq4kZWTo5uW4ndbHPxebESfSJCkjK11JysjQlaSMDN1MImJMRLwQEQsi4txq90fVFxE3RMTyiHiu2n1RPoZuBhFRD1wNHAUMBU6KiKHV7ZVqwI3AmGp3QnkZunmMABaklBamlFYDU4BxVe6Tqiyl9BjwVrX7obwM3TwGAq+2et3Yck7SZsbQlaSMDN08FgODW70e1HJO0mbG0M1jFjAkInaJiF7AeGBqlfskqQoM3QxSSs3AmcCDwPPAbSmledXtlaotIn4K/BrYMyIaI2JCtfuk7udjwJKUkZWuJGVk6EpSRoauJGVk6EpSRoauJGVk6EpSRoauJGX0/wFnN1ctO4yE0wAAAABJRU5ErkJggg==",
      "text/plain": [
       "<Figure size 432x288 with 2 Axes>"
      ]
     },
     "metadata": {
      "needs_background": "light"
     },
     "output_type": "display_data"
    }
   ],
   "source": [
    "# }\n",
    "\n",
    "gb_params = {'kbest__k': [8,9,10],\n",
    "              'classifier': [GradientBoostingClassifier()],\n",
    "              'classifier__max_depth': [6,7,8],\n",
    "              'classifier__n_estimators': [200,250,300,400],\n",
    "              'classifier__learning_rate': [0.2, 0.25,0.3]\n",
    "}\n",
    "\n",
    "# ada_params = {'kbest__k': [7,8,9],\n",
    "#               'classifier': [AdaBoostClassifier()],\n",
    "#               'classifier__n_estimators': [150,200,300,350],\n",
    "#               'classifier__learning_rate': [0.3,0.5,0.7,1]\n",
    "# }\n",
    "\n",
    "# xgb_params = {'kbest__k': [7,8,9],\n",
    "#               'classifier': [xgboost.XGBRFClassifier()],\n",
    "#               'classifier__n_estimators': [175,200,225],\n",
    "#               'classifier__learning_rate': [0.01,0.02,0.03,0.05]\n",
    "# }\n",
    "\n",
    "# search_space = [svm_params, log_params, knn_params, rf_params, gb_params, ada_params, xgb_params]\n",
    "search_space = [gb_params]\n",
    "\n",
    "clf = GridSearchCV(estimator=pipe, param_grid=search_space, cv=3, n_jobs=-1)\n",
    "best_model = clf.fit(X_train, y_train)\n",
    "\n",
    "y_pred = best_model.best_estimator_.predict(X_test)\n",
    "\n",
    "print('Best model. Best Score', best_model.best_score_, '\\n','-'*50)\n",
    "print('Best model. Best Params', best_model.best_params_, '\\n','-'*50)\n",
    "print('Accuracy Score', accuracy_score(y_test, y_pred), '\\n','-'*50)\n",
    "print('Confusion Matrix \\n', confusion_matrix(y_test,y_pred), '\\n','-'*50)\n",
    "sns.heatmap(confusion_matrix(y_test,y_pred, normalize='true'), annot=True);"
   ]
  },
  {
   "cell_type": "code",
   "execution_count": 47,
   "metadata": {},
   "outputs": [
    {
     "name": "stdout",
     "output_type": "stream",
     "text": [
      "{'scaler': StandardScaler(), 'kbest': SelectKBest(), 'classifier': GradientBoostingClassifier(learning_rate=0.25, max_depth=8, n_estimators=300)}\n"
     ]
    }
   ],
   "source": [
    "print(best_model.best_estimator_.named_steps)"
   ]
  },
  {
   "cell_type": "code",
   "execution_count": 48,
   "metadata": {},
   "outputs": [
    {
     "data": {
      "text/plain": [
       "Pipeline(steps=[('scaler', StandardScaler()), ('kbest', SelectKBest()),\n",
       "                ('classifier',\n",
       "                 GradientBoostingClassifier(learning_rate=0.25, max_depth=8,\n",
       "                                            n_estimators=300))])"
      ]
     },
     "execution_count": 48,
     "metadata": {},
     "output_type": "execute_result"
    }
   ],
   "source": [
    "best_model.best_estimator_"
   ]
  },
  {
   "cell_type": "code",
   "execution_count": 49,
   "metadata": {},
   "outputs": [
    {
     "name": "stdout",
     "output_type": "stream",
     "text": [
      "[0.06453367 0.13109743 0.0732756  0.08881567 0.06618268 0.09539373\n",
      " 0.12192301 0.08389836 0.05587785 0.21900201]\n"
     ]
    }
   ],
   "source": [
    "print(best_model.best_estimator_.named_steps[\"classifier\"].feature_importances_)\n"
   ]
  },
  {
   "cell_type": "code",
   "execution_count": 50,
   "metadata": {},
   "outputs": [
    {
     "name": "stdout",
     "output_type": "stream",
     "text": [
      "Feature: 0, Score: 0.06453\n",
      "Feature: 1, Score: 0.13110\n",
      "Feature: 2, Score: 0.07328\n",
      "Feature: 3, Score: 0.08882\n",
      "Feature: 4, Score: 0.06618\n",
      "Feature: 5, Score: 0.09539\n",
      "Feature: 6, Score: 0.12192\n",
      "Feature: 7, Score: 0.08390\n",
      "Feature: 8, Score: 0.05588\n",
      "Feature: 9, Score: 0.21900\n"
     ]
    },
    {
     "data": {
      "image/png": "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",
      "text/plain": [
       "<Figure size 432x288 with 1 Axes>"
      ]
     },
     "metadata": {
      "needs_background": "light"
     },
     "output_type": "display_data"
    }
   ],
   "source": [
    "# NO TOCAR\n",
    "from sklearn.datasets import make_classification\n",
    "\n",
    "from matplotlib import pyplot\n",
    "importance = best_model.best_estimator_.named_steps[\"classifier\"].feature_importances_\n",
    "# summarize feature importance\n",
    "for i,v in enumerate(importance):\n",
    "\tprint('Feature: %0d, Score: %.5f' % (i,v))\n",
    "# plot feature importance\n",
    "pyplot.bar([x for x in range(len(importance))], importance)\n",
    "pyplot.show()"
   ]
  },
  {
   "cell_type": "code",
   "execution_count": 51,
   "metadata": {},
   "outputs": [
    {
     "data": {
      "text/html": [
       "<div>\n",
       "<style scoped>\n",
       "    .dataframe tbody tr th:only-of-type {\n",
       "        vertical-align: middle;\n",
       "    }\n",
       "\n",
       "    .dataframe tbody tr th {\n",
       "        vertical-align: top;\n",
       "    }\n",
       "\n",
       "    .dataframe thead th {\n",
       "        text-align: right;\n",
       "    }\n",
       "</style>\n",
       "<table border=\"1\" class=\"dataframe\">\n",
       "  <thead>\n",
       "    <tr style=\"text-align: right;\">\n",
       "      <th></th>\n",
       "      <th>Score</th>\n",
       "      <th>Feature</th>\n",
       "    </tr>\n",
       "  </thead>\n",
       "  <tbody>\n",
       "    <tr>\n",
       "      <th>0</th>\n",
       "      <td>0.2190</td>\n",
       "      <td>alcohol</td>\n",
       "    </tr>\n",
       "    <tr>\n",
       "      <th>1</th>\n",
       "      <td>0.1311</td>\n",
       "      <td>volatile acidity</td>\n",
       "    </tr>\n",
       "    <tr>\n",
       "      <th>2</th>\n",
       "      <td>0.1219</td>\n",
       "      <td>free sulfur dioxide</td>\n",
       "    </tr>\n",
       "    <tr>\n",
       "      <th>3</th>\n",
       "      <td>0.0954</td>\n",
       "      <td>bound sulfur dioxide</td>\n",
       "    </tr>\n",
       "    <tr>\n",
       "      <th>4</th>\n",
       "      <td>0.0888</td>\n",
       "      <td>residual sugar</td>\n",
       "    </tr>\n",
       "    <tr>\n",
       "      <th>5</th>\n",
       "      <td>0.0839</td>\n",
       "      <td>pH</td>\n",
       "    </tr>\n",
       "    <tr>\n",
       "      <th>6</th>\n",
       "      <td>0.0733</td>\n",
       "      <td>citric acid</td>\n",
       "    </tr>\n",
       "    <tr>\n",
       "      <th>7</th>\n",
       "      <td>0.0662</td>\n",
       "      <td>chlorides</td>\n",
       "    </tr>\n",
       "    <tr>\n",
       "      <th>8</th>\n",
       "      <td>0.0645</td>\n",
       "      <td>fixed acidity</td>\n",
       "    </tr>\n",
       "    <tr>\n",
       "      <th>9</th>\n",
       "      <td>0.0559</td>\n",
       "      <td>sulphates</td>\n",
       "    </tr>\n",
       "  </tbody>\n",
       "</table>\n",
       "</div>"
      ],
      "text/plain": [
       "    Score               Feature\n",
       "0  0.2190               alcohol\n",
       "1  0.1311      volatile acidity\n",
       "2  0.1219   free sulfur dioxide\n",
       "3  0.0954  bound sulfur dioxide\n",
       "4  0.0888        residual sugar\n",
       "5  0.0839                    pH\n",
       "6  0.0733           citric acid\n",
       "7  0.0662             chlorides\n",
       "8  0.0645         fixed acidity\n",
       "9  0.0559             sulphates"
      ]
     },
     "execution_count": 51,
     "metadata": {},
     "output_type": "execute_result"
    }
   ],
   "source": [
    "# NO TOCAR\n",
    "names=X.columns\n",
    "\n",
    "scores = sorted(zip(map(lambda x: round(x, 4), importance), names), reverse=True)\n",
    "pd.DataFrame(scores, columns=['Score', 'Feature'])"
   ]
  },
  {
   "cell_type": "code",
   "execution_count": 52,
   "metadata": {},
   "outputs": [
    {
     "data": {
      "text/plain": [
       "<AxesSubplot:>"
      ]
     },
     "execution_count": 52,
     "metadata": {},
     "output_type": "execute_result"
    },
    {
     "data": {
      "image/png": "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",
      "text/plain": [
       "<Figure size 432x288 with 1 Axes>"
      ]
     },
     "metadata": {
      "needs_background": "light"
     },
     "output_type": "display_data"
    }
   ],
   "source": [
    "# X = pd.read_csv(\"titanic_train.csv\")\n",
    "# X = X[['Pclass', 'Age', 'Fare', 'Parch', 'SibSp', 'Survived']].dropna()\n",
    "# y = X.pop('Survived')\n",
    "\n",
    "# model = RandomForestClassifier()\n",
    "# model.fit(X, y)\n",
    "\n",
    "(pd.Series(importance, index=names)\n",
    "#    .nlargest(4)\n",
    "   .plot(kind='bar'))  "
   ]
  },
  {
   "cell_type": "code",
   "execution_count": 53,
   "metadata": {},
   "outputs": [
    {
     "data": {
      "text/plain": [
       "<AxesSubplot:>"
      ]
     },
     "execution_count": 53,
     "metadata": {},
     "output_type": "execute_result"
    },
    {
     "data": {
      "image/png": "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",
      "text/plain": [
       "<Figure size 432x288 with 1 Axes>"
      ]
     },
     "metadata": {
      "needs_background": "light"
     },
     "output_type": "display_data"
    }
   ],
   "source": [
    "# colors = ['b', 'g', 'r', 'c', 'm', 'y', 'g','b','orange', 'c']\n",
    "# colors = ['c', 'r', 'c', 'orange', 'orange', 'r', 'orange','c','c', 'r']\n",
    "# colors = ['c', 'r', 'c', 'm', 'm', 'r', 'm','c','c', 'r']\n",
    "colors = ['c', 'g', 'c', 'orange', 'orange', 'orange', 'g','c','c', 'g']\n",
    "\n",
    "(pd.Series(importance, index=names)\n",
    "#    .nlargest(4)\n",
    "   .plot(kind='barh',color=colors))  \n"
   ]
  },
  {
   "cell_type": "code",
   "execution_count": 54,
   "metadata": {},
   "outputs": [
    {
     "data": {
      "text/plain": [
       "<AxesSubplot:>"
      ]
     },
     "execution_count": 54,
     "metadata": {},
     "output_type": "execute_result"
    },
    {
     "data": {
      "image/png": "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",
      "text/plain": [
       "<Figure size 432x288 with 1 Axes>"
      ]
     },
     "metadata": {
      "needs_background": "light"
     },
     "output_type": "display_data"
    }
   ],
   "source": [
    "(pd.Series(importance, index=names)\n",
    "   .nlargest(6)\n",
    "   .plot(kind='barh',color=colors))  "
   ]
  },
  {
   "cell_type": "code",
   "execution_count": 55,
   "metadata": {},
   "outputs": [
    {
     "data": {
      "text/html": [
       "<div>\n",
       "<style scoped>\n",
       "    .dataframe tbody tr th:only-of-type {\n",
       "        vertical-align: middle;\n",
       "    }\n",
       "\n",
       "    .dataframe tbody tr th {\n",
       "        vertical-align: top;\n",
       "    }\n",
       "\n",
       "    .dataframe thead th {\n",
       "        text-align: right;\n",
       "    }\n",
       "</style>\n",
       "<table border=\"1\" class=\"dataframe\">\n",
       "  <thead>\n",
       "    <tr style=\"text-align: right;\">\n",
       "      <th></th>\n",
       "      <th>fixed acidity</th>\n",
       "      <th>volatile acidity</th>\n",
       "      <th>citric acid</th>\n",
       "      <th>residual sugar</th>\n",
       "      <th>chlorides</th>\n",
       "      <th>bound sulfur dioxide</th>\n",
       "      <th>free sulfur dioxide</th>\n",
       "      <th>pH</th>\n",
       "      <th>sulphates</th>\n",
       "      <th>alcohol</th>\n",
       "    </tr>\n",
       "  </thead>\n",
       "  <tbody>\n",
       "    <tr>\n",
       "      <th>4775</th>\n",
       "      <td>5.6</td>\n",
       "      <td>0.260</td>\n",
       "      <td>0.26</td>\n",
       "      <td>5.70</td>\n",
       "      <td>0.031</td>\n",
       "      <td>68.0</td>\n",
       "      <td>12.0</td>\n",
       "      <td>3.25</td>\n",
       "      <td>0.38</td>\n",
       "      <td>10.8</td>\n",
       "    </tr>\n",
       "    <tr>\n",
       "      <th>5458</th>\n",
       "      <td>6.8</td>\n",
       "      <td>0.320</td>\n",
       "      <td>0.34</td>\n",
       "      <td>1.20</td>\n",
       "      <td>0.044</td>\n",
       "      <td>53.0</td>\n",
       "      <td>14.0</td>\n",
       "      <td>3.05</td>\n",
       "      <td>0.47</td>\n",
       "      <td>10.6</td>\n",
       "    </tr>\n",
       "    <tr>\n",
       "      <th>32</th>\n",
       "      <td>7.3</td>\n",
       "      <td>0.240</td>\n",
       "      <td>0.39</td>\n",
       "      <td>17.95</td>\n",
       "      <td>0.057</td>\n",
       "      <td>104.0</td>\n",
       "      <td>45.0</td>\n",
       "      <td>3.21</td>\n",
       "      <td>0.36</td>\n",
       "      <td>8.6</td>\n",
       "    </tr>\n",
       "    <tr>\n",
       "      <th>4889</th>\n",
       "      <td>7.4</td>\n",
       "      <td>0.320</td>\n",
       "      <td>0.27</td>\n",
       "      <td>1.40</td>\n",
       "      <td>0.049</td>\n",
       "      <td>135.0</td>\n",
       "      <td>38.0</td>\n",
       "      <td>3.03</td>\n",
       "      <td>0.52</td>\n",
       "      <td>9.3</td>\n",
       "    </tr>\n",
       "    <tr>\n",
       "      <th>1114</th>\n",
       "      <td>7.9</td>\n",
       "      <td>0.140</td>\n",
       "      <td>0.45</td>\n",
       "      <td>1.80</td>\n",
       "      <td>0.050</td>\n",
       "      <td>97.0</td>\n",
       "      <td>17.0</td>\n",
       "      <td>3.33</td>\n",
       "      <td>0.49</td>\n",
       "      <td>10.7</td>\n",
       "    </tr>\n",
       "    <tr>\n",
       "      <th>...</th>\n",
       "      <td>...</td>\n",
       "      <td>...</td>\n",
       "      <td>...</td>\n",
       "      <td>...</td>\n",
       "      <td>...</td>\n",
       "      <td>...</td>\n",
       "      <td>...</td>\n",
       "      <td>...</td>\n",
       "      <td>...</td>\n",
       "      <td>...</td>\n",
       "    </tr>\n",
       "    <tr>\n",
       "      <th>4245</th>\n",
       "      <td>6.7</td>\n",
       "      <td>0.300</td>\n",
       "      <td>0.50</td>\n",
       "      <td>12.10</td>\n",
       "      <td>0.045</td>\n",
       "      <td>89.0</td>\n",
       "      <td>38.0</td>\n",
       "      <td>3.04</td>\n",
       "      <td>0.53</td>\n",
       "      <td>8.9</td>\n",
       "    </tr>\n",
       "    <tr>\n",
       "      <th>5117</th>\n",
       "      <td>5.9</td>\n",
       "      <td>0.260</td>\n",
       "      <td>0.25</td>\n",
       "      <td>12.50</td>\n",
       "      <td>0.034</td>\n",
       "      <td>114.0</td>\n",
       "      <td>38.0</td>\n",
       "      <td>3.33</td>\n",
       "      <td>0.43</td>\n",
       "      <td>9.4</td>\n",
       "    </tr>\n",
       "    <tr>\n",
       "      <th>3625</th>\n",
       "      <td>5.5</td>\n",
       "      <td>0.210</td>\n",
       "      <td>0.25</td>\n",
       "      <td>1.20</td>\n",
       "      <td>0.040</td>\n",
       "      <td>57.0</td>\n",
       "      <td>18.0</td>\n",
       "      <td>3.31</td>\n",
       "      <td>0.56</td>\n",
       "      <td>11.3</td>\n",
       "    </tr>\n",
       "    <tr>\n",
       "      <th>3993</th>\n",
       "      <td>7.1</td>\n",
       "      <td>0.250</td>\n",
       "      <td>0.31</td>\n",
       "      <td>2.30</td>\n",
       "      <td>0.050</td>\n",
       "      <td>124.0</td>\n",
       "      <td>32.0</td>\n",
       "      <td>3.14</td>\n",
       "      <td>0.51</td>\n",
       "      <td>11.4</td>\n",
       "    </tr>\n",
       "    <tr>\n",
       "      <th>5644</th>\n",
       "      <td>5.6</td>\n",
       "      <td>0.245</td>\n",
       "      <td>0.25</td>\n",
       "      <td>9.70</td>\n",
       "      <td>0.032</td>\n",
       "      <td>56.0</td>\n",
       "      <td>12.0</td>\n",
       "      <td>3.31</td>\n",
       "      <td>0.34</td>\n",
       "      <td>10.5</td>\n",
       "    </tr>\n",
       "  </tbody>\n",
       "</table>\n",
       "<p>1201 rows × 10 columns</p>\n",
       "</div>"
      ],
      "text/plain": [
       "      fixed acidity  volatile acidity  citric acid  residual sugar  chlorides  \\\n",
       "4775            5.6             0.260         0.26            5.70      0.031   \n",
       "5458            6.8             0.320         0.34            1.20      0.044   \n",
       "32              7.3             0.240         0.39           17.95      0.057   \n",
       "4889            7.4             0.320         0.27            1.40      0.049   \n",
       "1114            7.9             0.140         0.45            1.80      0.050   \n",
       "...             ...               ...          ...             ...        ...   \n",
       "4245            6.7             0.300         0.50           12.10      0.045   \n",
       "5117            5.9             0.260         0.25           12.50      0.034   \n",
       "3625            5.5             0.210         0.25            1.20      0.040   \n",
       "3993            7.1             0.250         0.31            2.30      0.050   \n",
       "5644            5.6             0.245         0.25            9.70      0.032   \n",
       "\n",
       "      bound sulfur dioxide  free sulfur dioxide    pH  sulphates  alcohol  \n",
       "4775                  68.0                 12.0  3.25       0.38     10.8  \n",
       "5458                  53.0                 14.0  3.05       0.47     10.6  \n",
       "32                   104.0                 45.0  3.21       0.36      8.6  \n",
       "4889                 135.0                 38.0  3.03       0.52      9.3  \n",
       "1114                  97.0                 17.0  3.33       0.49     10.7  \n",
       "...                    ...                  ...   ...        ...      ...  \n",
       "4245                  89.0                 38.0  3.04       0.53      8.9  \n",
       "5117                 114.0                 38.0  3.33       0.43      9.4  \n",
       "3625                  57.0                 18.0  3.31       0.56     11.3  \n",
       "3993                 124.0                 32.0  3.14       0.51     11.4  \n",
       "5644                  56.0                 12.0  3.31       0.34     10.5  \n",
       "\n",
       "[1201 rows x 10 columns]"
      ]
     },
     "execution_count": 55,
     "metadata": {},
     "output_type": "execute_result"
    }
   ],
   "source": [
    "X_test"
   ]
  },
  {
   "cell_type": "code",
   "execution_count": 56,
   "metadata": {},
   "outputs": [
    {
     "ename": "KeyError",
     "evalue": "0",
     "output_type": "error",
     "traceback": [
      "\u001b[1;31m---------------------------------------------------------------------------\u001b[0m",
      "\u001b[1;31mKeyError\u001b[0m                                  Traceback (most recent call last)",
      "\u001b[1;32mc:\\Users\\Yo\\AppData\\Local\\Programs\\Python\\Python37\\lib\\site-packages\\pandas\\core\\indexes\\base.py\u001b[0m in \u001b[0;36mget_loc\u001b[1;34m(self, key, method, tolerance)\u001b[0m\n\u001b[0;32m   3360\u001b[0m             \u001b[1;32mtry\u001b[0m\u001b[1;33m:\u001b[0m\u001b[1;33m\u001b[0m\u001b[1;33m\u001b[0m\u001b[0m\n\u001b[1;32m-> 3361\u001b[1;33m                 \u001b[1;32mreturn\u001b[0m \u001b[0mself\u001b[0m\u001b[1;33m.\u001b[0m\u001b[0m_engine\u001b[0m\u001b[1;33m.\u001b[0m\u001b[0mget_loc\u001b[0m\u001b[1;33m(\u001b[0m\u001b[0mcasted_key\u001b[0m\u001b[1;33m)\u001b[0m\u001b[1;33m\u001b[0m\u001b[1;33m\u001b[0m\u001b[0m\n\u001b[0m\u001b[0;32m   3362\u001b[0m             \u001b[1;32mexcept\u001b[0m \u001b[0mKeyError\u001b[0m \u001b[1;32mas\u001b[0m \u001b[0merr\u001b[0m\u001b[1;33m:\u001b[0m\u001b[1;33m\u001b[0m\u001b[1;33m\u001b[0m\u001b[0m\n",
      "\u001b[1;32mc:\\Users\\Yo\\AppData\\Local\\Programs\\Python\\Python37\\lib\\site-packages\\pandas\\_libs\\index.pyx\u001b[0m in \u001b[0;36mpandas._libs.index.IndexEngine.get_loc\u001b[1;34m()\u001b[0m\n",
      "\u001b[1;32mc:\\Users\\Yo\\AppData\\Local\\Programs\\Python\\Python37\\lib\\site-packages\\pandas\\_libs\\index.pyx\u001b[0m in \u001b[0;36mpandas._libs.index.IndexEngine.get_loc\u001b[1;34m()\u001b[0m\n",
      "\u001b[1;32mpandas\\_libs\\hashtable_class_helper.pxi\u001b[0m in \u001b[0;36mpandas._libs.hashtable.PyObjectHashTable.get_item\u001b[1;34m()\u001b[0m\n",
      "\u001b[1;32mpandas\\_libs\\hashtable_class_helper.pxi\u001b[0m in \u001b[0;36mpandas._libs.hashtable.PyObjectHashTable.get_item\u001b[1;34m()\u001b[0m\n",
      "\u001b[1;31mKeyError\u001b[0m: 0",
      "\nThe above exception was the direct cause of the following exception:\n",
      "\u001b[1;31mKeyError\u001b[0m                                  Traceback (most recent call last)",
      "\u001b[1;32m~\\AppData\\Local\\Temp\\ipykernel_4500\\2090065149.py\u001b[0m in \u001b[0;36m<module>\u001b[1;34m\u001b[0m\n\u001b[1;32m----> 1\u001b[1;33m \u001b[0mpredictions\u001b[0m \u001b[1;33m=\u001b[0m \u001b[0mbest_model\u001b[0m\u001b[1;33m.\u001b[0m\u001b[0mpredict\u001b[0m\u001b[1;33m(\u001b[0m\u001b[0mX_test\u001b[0m\u001b[1;33m[\u001b[0m\u001b[1;36m0\u001b[0m\u001b[1;33m]\u001b[0m\u001b[1;33m)\u001b[0m\u001b[1;33m.\u001b[0m\u001b[0mround\u001b[0m\u001b[1;33m(\u001b[0m\u001b[1;36m3\u001b[0m\u001b[1;33m)\u001b[0m\u001b[1;33m\u001b[0m\u001b[1;33m\u001b[0m\u001b[0m\n\u001b[0m\u001b[0;32m      2\u001b[0m \u001b[0mprint\u001b[0m\u001b[1;33m(\u001b[0m\u001b[0mpredictions\u001b[0m\u001b[1;33m.\u001b[0m\u001b[0mshape\u001b[0m\u001b[1;33m)\u001b[0m\u001b[1;33m\u001b[0m\u001b[1;33m\u001b[0m\u001b[0m\n\u001b[0;32m      3\u001b[0m \u001b[0mpredictions\u001b[0m\u001b[1;33m\u001b[0m\u001b[1;33m\u001b[0m\u001b[0m\n",
      "\u001b[1;32mc:\\Users\\Yo\\AppData\\Local\\Programs\\Python\\Python37\\lib\\site-packages\\pandas\\core\\frame.py\u001b[0m in \u001b[0;36m__getitem__\u001b[1;34m(self, key)\u001b[0m\n\u001b[0;32m   3456\u001b[0m             \u001b[1;32mif\u001b[0m \u001b[0mself\u001b[0m\u001b[1;33m.\u001b[0m\u001b[0mcolumns\u001b[0m\u001b[1;33m.\u001b[0m\u001b[0mnlevels\u001b[0m \u001b[1;33m>\u001b[0m \u001b[1;36m1\u001b[0m\u001b[1;33m:\u001b[0m\u001b[1;33m\u001b[0m\u001b[1;33m\u001b[0m\u001b[0m\n\u001b[0;32m   3457\u001b[0m                 \u001b[1;32mreturn\u001b[0m \u001b[0mself\u001b[0m\u001b[1;33m.\u001b[0m\u001b[0m_getitem_multilevel\u001b[0m\u001b[1;33m(\u001b[0m\u001b[0mkey\u001b[0m\u001b[1;33m)\u001b[0m\u001b[1;33m\u001b[0m\u001b[1;33m\u001b[0m\u001b[0m\n\u001b[1;32m-> 3458\u001b[1;33m             \u001b[0mindexer\u001b[0m \u001b[1;33m=\u001b[0m \u001b[0mself\u001b[0m\u001b[1;33m.\u001b[0m\u001b[0mcolumns\u001b[0m\u001b[1;33m.\u001b[0m\u001b[0mget_loc\u001b[0m\u001b[1;33m(\u001b[0m\u001b[0mkey\u001b[0m\u001b[1;33m)\u001b[0m\u001b[1;33m\u001b[0m\u001b[1;33m\u001b[0m\u001b[0m\n\u001b[0m\u001b[0;32m   3459\u001b[0m             \u001b[1;32mif\u001b[0m \u001b[0mis_integer\u001b[0m\u001b[1;33m(\u001b[0m\u001b[0mindexer\u001b[0m\u001b[1;33m)\u001b[0m\u001b[1;33m:\u001b[0m\u001b[1;33m\u001b[0m\u001b[1;33m\u001b[0m\u001b[0m\n\u001b[0;32m   3460\u001b[0m                 \u001b[0mindexer\u001b[0m \u001b[1;33m=\u001b[0m \u001b[1;33m[\u001b[0m\u001b[0mindexer\u001b[0m\u001b[1;33m]\u001b[0m\u001b[1;33m\u001b[0m\u001b[1;33m\u001b[0m\u001b[0m\n",
      "\u001b[1;32mc:\\Users\\Yo\\AppData\\Local\\Programs\\Python\\Python37\\lib\\site-packages\\pandas\\core\\indexes\\base.py\u001b[0m in \u001b[0;36mget_loc\u001b[1;34m(self, key, method, tolerance)\u001b[0m\n\u001b[0;32m   3361\u001b[0m                 \u001b[1;32mreturn\u001b[0m \u001b[0mself\u001b[0m\u001b[1;33m.\u001b[0m\u001b[0m_engine\u001b[0m\u001b[1;33m.\u001b[0m\u001b[0mget_loc\u001b[0m\u001b[1;33m(\u001b[0m\u001b[0mcasted_key\u001b[0m\u001b[1;33m)\u001b[0m\u001b[1;33m\u001b[0m\u001b[1;33m\u001b[0m\u001b[0m\n\u001b[0;32m   3362\u001b[0m             \u001b[1;32mexcept\u001b[0m \u001b[0mKeyError\u001b[0m \u001b[1;32mas\u001b[0m \u001b[0merr\u001b[0m\u001b[1;33m:\u001b[0m\u001b[1;33m\u001b[0m\u001b[1;33m\u001b[0m\u001b[0m\n\u001b[1;32m-> 3363\u001b[1;33m                 \u001b[1;32mraise\u001b[0m \u001b[0mKeyError\u001b[0m\u001b[1;33m(\u001b[0m\u001b[0mkey\u001b[0m\u001b[1;33m)\u001b[0m \u001b[1;32mfrom\u001b[0m \u001b[0merr\u001b[0m\u001b[1;33m\u001b[0m\u001b[1;33m\u001b[0m\u001b[0m\n\u001b[0m\u001b[0;32m   3364\u001b[0m \u001b[1;33m\u001b[0m\u001b[0m\n\u001b[0;32m   3365\u001b[0m         \u001b[1;32mif\u001b[0m \u001b[0mis_scalar\u001b[0m\u001b[1;33m(\u001b[0m\u001b[0mkey\u001b[0m\u001b[1;33m)\u001b[0m \u001b[1;32mand\u001b[0m \u001b[0misna\u001b[0m\u001b[1;33m(\u001b[0m\u001b[0mkey\u001b[0m\u001b[1;33m)\u001b[0m \u001b[1;32mand\u001b[0m \u001b[1;32mnot\u001b[0m \u001b[0mself\u001b[0m\u001b[1;33m.\u001b[0m\u001b[0mhasnans\u001b[0m\u001b[1;33m:\u001b[0m\u001b[1;33m\u001b[0m\u001b[1;33m\u001b[0m\u001b[0m\n",
      "\u001b[1;31mKeyError\u001b[0m: 0"
     ]
    }
   ],
   "source": [
    "predictions = best_model.predict(X_test[0]).round(3)\n",
    "print(predictions.shape)\n",
    "predictions"
   ]
  },
  {
   "cell_type": "code",
   "execution_count": null,
   "metadata": {},
   "outputs": [
    {
     "name": "stdout",
     "output_type": "stream",
     "text": [
      "<class 'pandas.core.frame.DataFrame'>\n",
      "Int64Index: 1296 entries, 1906 to 5349\n",
      "Data columns (total 10 columns):\n",
      " #   Column                Non-Null Count  Dtype  \n",
      "---  ------                --------------  -----  \n",
      " 0   fixed acidity         1296 non-null   float64\n",
      " 1   volatile acidity      1296 non-null   float64\n",
      " 2   citric acid           1296 non-null   float64\n",
      " 3   residual sugar        1296 non-null   float64\n",
      " 4   chlorides             1296 non-null   float64\n",
      " 5   free sulfur dioxide   1296 non-null   float64\n",
      " 6   total sulfur dioxide  1296 non-null   float64\n",
      " 7   pH                    1296 non-null   float64\n",
      " 8   sulphates             1296 non-null   float64\n",
      " 9   alcohol               1296 non-null   float64\n",
      "dtypes: float64(10)\n",
      "memory usage: 111.4 KB\n"
     ]
    }
   ],
   "source": [
    "X_test.info()"
   ]
  },
  {
   "cell_type": "code",
   "execution_count": null,
   "metadata": {},
   "outputs": [
    {
     "name": "stderr",
     "output_type": "stream",
     "text": [
      "c:\\Users\\Yo\\AppData\\Local\\Programs\\Python\\Python37\\lib\\site-packages\\sklearn\\base.py:451: UserWarning: X does not have valid feature names, but StandardScaler was fitted with feature names\n",
      "  \"X does not have valid feature names, but\"\n"
     ]
    },
    {
     "ename": "ValueError",
     "evalue": "Expected 2D array, got scalar array instead:\narray=1.0.\nReshape your data either using array.reshape(-1, 1) if your data has a single feature or array.reshape(1, -1) if it contains a single sample.",
     "output_type": "error",
     "traceback": [
      "\u001b[1;31m---------------------------------------------------------------------------\u001b[0m",
      "\u001b[1;31mValueError\u001b[0m                                Traceback (most recent call last)",
      "\u001b[1;32m~\\AppData\\Local\\Temp\\ipykernel_12868\\3620754235.py\u001b[0m in \u001b[0;36m<module>\u001b[1;34m\u001b[0m\n\u001b[1;32m----> 1\u001b[1;33m \u001b[0mpredictions\u001b[0m \u001b[1;33m=\u001b[0m \u001b[0mbest_model\u001b[0m\u001b[1;33m.\u001b[0m\u001b[0mpredict\u001b[0m\u001b[1;33m(\u001b[0m\u001b[0my_pred\u001b[0m\u001b[1;33m[\u001b[0m\u001b[1;36m0\u001b[0m\u001b[1;33m]\u001b[0m\u001b[1;33m)\u001b[0m\u001b[1;33m\u001b[0m\u001b[1;33m\u001b[0m\u001b[0m\n\u001b[0m\u001b[0;32m      2\u001b[0m \u001b[0mprint\u001b[0m\u001b[1;33m(\u001b[0m\u001b[0mpredictions\u001b[0m\u001b[1;33m.\u001b[0m\u001b[0mshape\u001b[0m\u001b[1;33m)\u001b[0m\u001b[1;33m\u001b[0m\u001b[1;33m\u001b[0m\u001b[0m\n\u001b[0;32m      3\u001b[0m \u001b[0mpredictions\u001b[0m\u001b[1;33m\u001b[0m\u001b[1;33m\u001b[0m\u001b[0m\n",
      "\u001b[1;32mc:\\Users\\Yo\\AppData\\Local\\Programs\\Python\\Python37\\lib\\site-packages\\sklearn\\utils\\metaestimators.py\u001b[0m in \u001b[0;36m<lambda>\u001b[1;34m(*args, **kwargs)\u001b[0m\n\u001b[0;32m    111\u001b[0m \u001b[1;33m\u001b[0m\u001b[0m\n\u001b[0;32m    112\u001b[0m             \u001b[1;31m# lambda, but not partial, allows help() to work with update_wrapper\u001b[0m\u001b[1;33m\u001b[0m\u001b[1;33m\u001b[0m\u001b[1;33m\u001b[0m\u001b[0m\n\u001b[1;32m--> 113\u001b[1;33m             \u001b[0mout\u001b[0m \u001b[1;33m=\u001b[0m \u001b[1;32mlambda\u001b[0m \u001b[1;33m*\u001b[0m\u001b[0margs\u001b[0m\u001b[1;33m,\u001b[0m \u001b[1;33m**\u001b[0m\u001b[0mkwargs\u001b[0m\u001b[1;33m:\u001b[0m \u001b[0mself\u001b[0m\u001b[1;33m.\u001b[0m\u001b[0mfn\u001b[0m\u001b[1;33m(\u001b[0m\u001b[0mobj\u001b[0m\u001b[1;33m,\u001b[0m \u001b[1;33m*\u001b[0m\u001b[0margs\u001b[0m\u001b[1;33m,\u001b[0m \u001b[1;33m**\u001b[0m\u001b[0mkwargs\u001b[0m\u001b[1;33m)\u001b[0m  \u001b[1;31m# noqa\u001b[0m\u001b[1;33m\u001b[0m\u001b[1;33m\u001b[0m\u001b[0m\n\u001b[0m\u001b[0;32m    114\u001b[0m         \u001b[1;32melse\u001b[0m\u001b[1;33m:\u001b[0m\u001b[1;33m\u001b[0m\u001b[1;33m\u001b[0m\u001b[0m\n\u001b[0;32m    115\u001b[0m \u001b[1;33m\u001b[0m\u001b[0m\n",
      "\u001b[1;32mc:\\Users\\Yo\\AppData\\Local\\Programs\\Python\\Python37\\lib\\site-packages\\sklearn\\model_selection\\_search.py\u001b[0m in \u001b[0;36mpredict\u001b[1;34m(self, X)\u001b[0m\n\u001b[0;32m    519\u001b[0m         \"\"\"\n\u001b[0;32m    520\u001b[0m         \u001b[0mcheck_is_fitted\u001b[0m\u001b[1;33m(\u001b[0m\u001b[0mself\u001b[0m\u001b[1;33m)\u001b[0m\u001b[1;33m\u001b[0m\u001b[1;33m\u001b[0m\u001b[0m\n\u001b[1;32m--> 521\u001b[1;33m         \u001b[1;32mreturn\u001b[0m \u001b[0mself\u001b[0m\u001b[1;33m.\u001b[0m\u001b[0mbest_estimator_\u001b[0m\u001b[1;33m.\u001b[0m\u001b[0mpredict\u001b[0m\u001b[1;33m(\u001b[0m\u001b[0mX\u001b[0m\u001b[1;33m)\u001b[0m\u001b[1;33m\u001b[0m\u001b[1;33m\u001b[0m\u001b[0m\n\u001b[0m\u001b[0;32m    522\u001b[0m \u001b[1;33m\u001b[0m\u001b[0m\n\u001b[0;32m    523\u001b[0m     \u001b[1;33m@\u001b[0m\u001b[0mavailable_if\u001b[0m\u001b[1;33m(\u001b[0m\u001b[0m_estimator_has\u001b[0m\u001b[1;33m(\u001b[0m\u001b[1;34m\"predict_proba\"\u001b[0m\u001b[1;33m)\u001b[0m\u001b[1;33m)\u001b[0m\u001b[1;33m\u001b[0m\u001b[1;33m\u001b[0m\u001b[0m\n",
      "\u001b[1;32mc:\\Users\\Yo\\AppData\\Local\\Programs\\Python\\Python37\\lib\\site-packages\\sklearn\\utils\\metaestimators.py\u001b[0m in \u001b[0;36m<lambda>\u001b[1;34m(*args, **kwargs)\u001b[0m\n\u001b[0;32m    111\u001b[0m \u001b[1;33m\u001b[0m\u001b[0m\n\u001b[0;32m    112\u001b[0m             \u001b[1;31m# lambda, but not partial, allows help() to work with update_wrapper\u001b[0m\u001b[1;33m\u001b[0m\u001b[1;33m\u001b[0m\u001b[1;33m\u001b[0m\u001b[0m\n\u001b[1;32m--> 113\u001b[1;33m             \u001b[0mout\u001b[0m \u001b[1;33m=\u001b[0m \u001b[1;32mlambda\u001b[0m \u001b[1;33m*\u001b[0m\u001b[0margs\u001b[0m\u001b[1;33m,\u001b[0m \u001b[1;33m**\u001b[0m\u001b[0mkwargs\u001b[0m\u001b[1;33m:\u001b[0m \u001b[0mself\u001b[0m\u001b[1;33m.\u001b[0m\u001b[0mfn\u001b[0m\u001b[1;33m(\u001b[0m\u001b[0mobj\u001b[0m\u001b[1;33m,\u001b[0m \u001b[1;33m*\u001b[0m\u001b[0margs\u001b[0m\u001b[1;33m,\u001b[0m \u001b[1;33m**\u001b[0m\u001b[0mkwargs\u001b[0m\u001b[1;33m)\u001b[0m  \u001b[1;31m# noqa\u001b[0m\u001b[1;33m\u001b[0m\u001b[1;33m\u001b[0m\u001b[0m\n\u001b[0m\u001b[0;32m    114\u001b[0m         \u001b[1;32melse\u001b[0m\u001b[1;33m:\u001b[0m\u001b[1;33m\u001b[0m\u001b[1;33m\u001b[0m\u001b[0m\n\u001b[0;32m    115\u001b[0m \u001b[1;33m\u001b[0m\u001b[0m\n",
      "\u001b[1;32mc:\\Users\\Yo\\AppData\\Local\\Programs\\Python\\Python37\\lib\\site-packages\\sklearn\\pipeline.py\u001b[0m in \u001b[0;36mpredict\u001b[1;34m(self, X, **predict_params)\u001b[0m\n\u001b[0;32m    467\u001b[0m         \u001b[0mXt\u001b[0m \u001b[1;33m=\u001b[0m \u001b[0mX\u001b[0m\u001b[1;33m\u001b[0m\u001b[1;33m\u001b[0m\u001b[0m\n\u001b[0;32m    468\u001b[0m         \u001b[1;32mfor\u001b[0m \u001b[0m_\u001b[0m\u001b[1;33m,\u001b[0m \u001b[0mname\u001b[0m\u001b[1;33m,\u001b[0m \u001b[0mtransform\u001b[0m \u001b[1;32min\u001b[0m \u001b[0mself\u001b[0m\u001b[1;33m.\u001b[0m\u001b[0m_iter\u001b[0m\u001b[1;33m(\u001b[0m\u001b[0mwith_final\u001b[0m\u001b[1;33m=\u001b[0m\u001b[1;32mFalse\u001b[0m\u001b[1;33m)\u001b[0m\u001b[1;33m:\u001b[0m\u001b[1;33m\u001b[0m\u001b[1;33m\u001b[0m\u001b[0m\n\u001b[1;32m--> 469\u001b[1;33m             \u001b[0mXt\u001b[0m \u001b[1;33m=\u001b[0m \u001b[0mtransform\u001b[0m\u001b[1;33m.\u001b[0m\u001b[0mtransform\u001b[0m\u001b[1;33m(\u001b[0m\u001b[0mXt\u001b[0m\u001b[1;33m)\u001b[0m\u001b[1;33m\u001b[0m\u001b[1;33m\u001b[0m\u001b[0m\n\u001b[0m\u001b[0;32m    470\u001b[0m         \u001b[1;32mreturn\u001b[0m \u001b[0mself\u001b[0m\u001b[1;33m.\u001b[0m\u001b[0msteps\u001b[0m\u001b[1;33m[\u001b[0m\u001b[1;33m-\u001b[0m\u001b[1;36m1\u001b[0m\u001b[1;33m]\u001b[0m\u001b[1;33m[\u001b[0m\u001b[1;36m1\u001b[0m\u001b[1;33m]\u001b[0m\u001b[1;33m.\u001b[0m\u001b[0mpredict\u001b[0m\u001b[1;33m(\u001b[0m\u001b[0mXt\u001b[0m\u001b[1;33m,\u001b[0m \u001b[1;33m**\u001b[0m\u001b[0mpredict_params\u001b[0m\u001b[1;33m)\u001b[0m\u001b[1;33m\u001b[0m\u001b[1;33m\u001b[0m\u001b[0m\n\u001b[0;32m    471\u001b[0m \u001b[1;33m\u001b[0m\u001b[0m\n",
      "\u001b[1;32mc:\\Users\\Yo\\AppData\\Local\\Programs\\Python\\Python37\\lib\\site-packages\\sklearn\\preprocessing\\_data.py\u001b[0m in \u001b[0;36mtransform\u001b[1;34m(self, X, copy)\u001b[0m\n\u001b[0;32m    978\u001b[0m             \u001b[0mestimator\u001b[0m\u001b[1;33m=\u001b[0m\u001b[0mself\u001b[0m\u001b[1;33m,\u001b[0m\u001b[1;33m\u001b[0m\u001b[1;33m\u001b[0m\u001b[0m\n\u001b[0;32m    979\u001b[0m             \u001b[0mdtype\u001b[0m\u001b[1;33m=\u001b[0m\u001b[0mFLOAT_DTYPES\u001b[0m\u001b[1;33m,\u001b[0m\u001b[1;33m\u001b[0m\u001b[1;33m\u001b[0m\u001b[0m\n\u001b[1;32m--> 980\u001b[1;33m             \u001b[0mforce_all_finite\u001b[0m\u001b[1;33m=\u001b[0m\u001b[1;34m\"allow-nan\"\u001b[0m\u001b[1;33m,\u001b[0m\u001b[1;33m\u001b[0m\u001b[1;33m\u001b[0m\u001b[0m\n\u001b[0m\u001b[0;32m    981\u001b[0m         )\n\u001b[0;32m    982\u001b[0m \u001b[1;33m\u001b[0m\u001b[0m\n",
      "\u001b[1;32mc:\\Users\\Yo\\AppData\\Local\\Programs\\Python\\Python37\\lib\\site-packages\\sklearn\\base.py\u001b[0m in \u001b[0;36m_validate_data\u001b[1;34m(self, X, y, reset, validate_separately, **check_params)\u001b[0m\n\u001b[0;32m    564\u001b[0m             \u001b[1;32mraise\u001b[0m \u001b[0mValueError\u001b[0m\u001b[1;33m(\u001b[0m\u001b[1;34m\"Validation should be done on X, y or both.\"\u001b[0m\u001b[1;33m)\u001b[0m\u001b[1;33m\u001b[0m\u001b[1;33m\u001b[0m\u001b[0m\n\u001b[0;32m    565\u001b[0m         \u001b[1;32melif\u001b[0m \u001b[1;32mnot\u001b[0m \u001b[0mno_val_X\u001b[0m \u001b[1;32mand\u001b[0m \u001b[0mno_val_y\u001b[0m\u001b[1;33m:\u001b[0m\u001b[1;33m\u001b[0m\u001b[1;33m\u001b[0m\u001b[0m\n\u001b[1;32m--> 566\u001b[1;33m             \u001b[0mX\u001b[0m \u001b[1;33m=\u001b[0m \u001b[0mcheck_array\u001b[0m\u001b[1;33m(\u001b[0m\u001b[0mX\u001b[0m\u001b[1;33m,\u001b[0m \u001b[1;33m**\u001b[0m\u001b[0mcheck_params\u001b[0m\u001b[1;33m)\u001b[0m\u001b[1;33m\u001b[0m\u001b[1;33m\u001b[0m\u001b[0m\n\u001b[0m\u001b[0;32m    567\u001b[0m             \u001b[0mout\u001b[0m \u001b[1;33m=\u001b[0m \u001b[0mX\u001b[0m\u001b[1;33m\u001b[0m\u001b[1;33m\u001b[0m\u001b[0m\n\u001b[0;32m    568\u001b[0m         \u001b[1;32melif\u001b[0m \u001b[0mno_val_X\u001b[0m \u001b[1;32mand\u001b[0m \u001b[1;32mnot\u001b[0m \u001b[0mno_val_y\u001b[0m\u001b[1;33m:\u001b[0m\u001b[1;33m\u001b[0m\u001b[1;33m\u001b[0m\u001b[0m\n",
      "\u001b[1;32mc:\\Users\\Yo\\AppData\\Local\\Programs\\Python\\Python37\\lib\\site-packages\\sklearn\\utils\\validation.py\u001b[0m in \u001b[0;36mcheck_array\u001b[1;34m(array, accept_sparse, accept_large_sparse, dtype, order, copy, force_all_finite, ensure_2d, allow_nd, ensure_min_samples, ensure_min_features, estimator)\u001b[0m\n\u001b[0;32m    763\u001b[0m                     \u001b[1;34m\"Reshape your data either using array.reshape(-1, 1) if \"\u001b[0m\u001b[1;33m\u001b[0m\u001b[1;33m\u001b[0m\u001b[0m\n\u001b[0;32m    764\u001b[0m                     \u001b[1;34m\"your data has a single feature or array.reshape(1, -1) \"\u001b[0m\u001b[1;33m\u001b[0m\u001b[1;33m\u001b[0m\u001b[0m\n\u001b[1;32m--> 765\u001b[1;33m                     \u001b[1;34m\"if it contains a single sample.\"\u001b[0m\u001b[1;33m.\u001b[0m\u001b[0mformat\u001b[0m\u001b[1;33m(\u001b[0m\u001b[0marray\u001b[0m\u001b[1;33m)\u001b[0m\u001b[1;33m\u001b[0m\u001b[1;33m\u001b[0m\u001b[0m\n\u001b[0m\u001b[0;32m    766\u001b[0m                 )\n\u001b[0;32m    767\u001b[0m             \u001b[1;31m# If input is 1D raise error\u001b[0m\u001b[1;33m\u001b[0m\u001b[1;33m\u001b[0m\u001b[1;33m\u001b[0m\u001b[0m\n",
      "\u001b[1;31mValueError\u001b[0m: Expected 2D array, got scalar array instead:\narray=1.0.\nReshape your data either using array.reshape(-1, 1) if your data has a single feature or array.reshape(1, -1) if it contains a single sample."
     ]
    }
   ],
   "source": [
    "predictions = best_model.predict(y_pred[0])\n",
    "print(predictions.shape)\n",
    "predictions"
   ]
  },
  {
   "cell_type": "code",
   "execution_count": null,
   "metadata": {},
   "outputs": [],
   "source": [
    "predict_df=pd.DataFrame(best_model.predict(X_test))\n",
    "# round para que decida solo si es 0 o 1 "
   ]
  },
  {
   "cell_type": "code",
   "execution_count": null,
   "metadata": {},
   "outputs": [
    {
     "data": {
      "text/html": [
       "<div>\n",
       "<style scoped>\n",
       "    .dataframe tbody tr th:only-of-type {\n",
       "        vertical-align: middle;\n",
       "    }\n",
       "\n",
       "    .dataframe tbody tr th {\n",
       "        vertical-align: top;\n",
       "    }\n",
       "\n",
       "    .dataframe thead th {\n",
       "        text-align: right;\n",
       "    }\n",
       "</style>\n",
       "<table border=\"1\" class=\"dataframe\">\n",
       "  <thead>\n",
       "    <tr style=\"text-align: right;\">\n",
       "      <th></th>\n",
       "      <th>0</th>\n",
       "    </tr>\n",
       "  </thead>\n",
       "  <tbody>\n",
       "    <tr>\n",
       "      <th>0</th>\n",
       "      <td>1</td>\n",
       "    </tr>\n",
       "    <tr>\n",
       "      <th>1</th>\n",
       "      <td>0</td>\n",
       "    </tr>\n",
       "    <tr>\n",
       "      <th>2</th>\n",
       "      <td>0</td>\n",
       "    </tr>\n",
       "    <tr>\n",
       "      <th>3</th>\n",
       "      <td>0</td>\n",
       "    </tr>\n",
       "    <tr>\n",
       "      <th>4</th>\n",
       "      <td>0</td>\n",
       "    </tr>\n",
       "    <tr>\n",
       "      <th>...</th>\n",
       "      <td>...</td>\n",
       "    </tr>\n",
       "    <tr>\n",
       "      <th>1291</th>\n",
       "      <td>0</td>\n",
       "    </tr>\n",
       "    <tr>\n",
       "      <th>1292</th>\n",
       "      <td>1</td>\n",
       "    </tr>\n",
       "    <tr>\n",
       "      <th>1293</th>\n",
       "      <td>0</td>\n",
       "    </tr>\n",
       "    <tr>\n",
       "      <th>1294</th>\n",
       "      <td>0</td>\n",
       "    </tr>\n",
       "    <tr>\n",
       "      <th>1295</th>\n",
       "      <td>0</td>\n",
       "    </tr>\n",
       "  </tbody>\n",
       "</table>\n",
       "<p>1296 rows × 1 columns</p>\n",
       "</div>"
      ],
      "text/plain": [
       "      0\n",
       "0     1\n",
       "1     0\n",
       "2     0\n",
       "3     0\n",
       "4     0\n",
       "...  ..\n",
       "1291  0\n",
       "1292  1\n",
       "1293  0\n",
       "1294  0\n",
       "1295  0\n",
       "\n",
       "[1296 rows x 1 columns]"
      ]
     },
     "execution_count": 113,
     "metadata": {},
     "output_type": "execute_result"
    }
   ],
   "source": [
    "predict_df."
   ]
  },
  {
   "cell_type": "code",
   "execution_count": null,
   "metadata": {},
   "outputs": [
    {
     "name": "stdout",
     "output_type": "stream",
     "text": [
      "Value Counts  0    0.533951\n",
      "1    0.466049\n",
      "dtype: float64\n"
     ]
    },
    {
     "data": {
      "image/png": "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",
      "text/plain": [
       "<Figure size 720x432 with 1 Axes>"
      ]
     },
     "metadata": {},
     "output_type": "display_data"
    }
   ],
   "source": [
    "print('Value Counts ', predict_df.value_counts(normalize=True))\n",
    "plt.figure(figsize=(10,6))\n",
    "predict_df.value_counts().plot.pie(autopct=\"%.1f%%\");"
   ]
  },
  {
   "cell_type": "code",
   "execution_count": null,
   "metadata": {},
   "outputs": [],
   "source": [
    "print('Value Counts ', blanco['apto'].value_counts(normalize=True))\n",
    "plt.figure(figsize=(10,6))\n",
    "blanco['apto'].value_counts().plot.pie(autopct=\"%.1f%%\");"
   ]
  },
  {
   "cell_type": "code",
   "execution_count": null,
   "metadata": {},
   "outputs": [
    {
     "data": {
      "text/plain": [
       "0"
      ]
     },
     "execution_count": 98,
     "metadata": {},
     "output_type": "execute_result"
    }
   ],
   "source": [
    "np.argmax(y_pred[101])"
   ]
  },
  {
   "cell_type": "code",
   "execution_count": null,
   "metadata": {},
   "outputs": [
    {
     "data": {
      "text/html": [
       "<div>\n",
       "<style scoped>\n",
       "    .dataframe tbody tr th:only-of-type {\n",
       "        vertical-align: middle;\n",
       "    }\n",
       "\n",
       "    .dataframe tbody tr th {\n",
       "        vertical-align: top;\n",
       "    }\n",
       "\n",
       "    .dataframe thead th {\n",
       "        text-align: right;\n",
       "    }\n",
       "</style>\n",
       "<table border=\"1\" class=\"dataframe\">\n",
       "  <thead>\n",
       "    <tr style=\"text-align: right;\">\n",
       "      <th></th>\n",
       "      <th>fixed acidity</th>\n",
       "      <th>volatile acidity</th>\n",
       "      <th>citric acid</th>\n",
       "      <th>residual sugar</th>\n",
       "      <th>chlorides</th>\n",
       "      <th>free sulfur dioxide</th>\n",
       "      <th>total sulfur dioxide</th>\n",
       "      <th>density</th>\n",
       "      <th>pH</th>\n",
       "      <th>sulphates</th>\n",
       "      <th>alcohol</th>\n",
       "      <th>apto</th>\n",
       "    </tr>\n",
       "  </thead>\n",
       "  <tbody>\n",
       "    <tr>\n",
       "      <th>count</th>\n",
       "      <td>4870.000000</td>\n",
       "      <td>4870.000000</td>\n",
       "      <td>4870.000000</td>\n",
       "      <td>4870.000000</td>\n",
       "      <td>4870.000000</td>\n",
       "      <td>4870.000000</td>\n",
       "      <td>4870.000000</td>\n",
       "      <td>4870.000000</td>\n",
       "      <td>4870.000000</td>\n",
       "      <td>4870.000000</td>\n",
       "      <td>4870.000000</td>\n",
       "      <td>4870.000000</td>\n",
       "    </tr>\n",
       "    <tr>\n",
       "      <th>mean</th>\n",
       "      <td>6.855123</td>\n",
       "      <td>0.278071</td>\n",
       "      <td>0.334199</td>\n",
       "      <td>6.394343</td>\n",
       "      <td>0.045771</td>\n",
       "      <td>35.317146</td>\n",
       "      <td>138.340144</td>\n",
       "      <td>0.994026</td>\n",
       "      <td>3.188154</td>\n",
       "      <td>0.489700</td>\n",
       "      <td>10.516772</td>\n",
       "      <td>0.665298</td>\n",
       "    </tr>\n",
       "    <tr>\n",
       "      <th>std</th>\n",
       "      <td>0.843444</td>\n",
       "      <td>0.100528</td>\n",
       "      <td>0.120915</td>\n",
       "      <td>5.070853</td>\n",
       "      <td>0.021846</td>\n",
       "      <td>17.012967</td>\n",
       "      <td>42.490515</td>\n",
       "      <td>0.002993</td>\n",
       "      <td>0.150902</td>\n",
       "      <td>0.114196</td>\n",
       "      <td>1.231251</td>\n",
       "      <td>0.471935</td>\n",
       "    </tr>\n",
       "    <tr>\n",
       "      <th>min</th>\n",
       "      <td>3.800000</td>\n",
       "      <td>0.080000</td>\n",
       "      <td>0.000000</td>\n",
       "      <td>0.600000</td>\n",
       "      <td>0.009000</td>\n",
       "      <td>2.000000</td>\n",
       "      <td>9.000000</td>\n",
       "      <td>0.987110</td>\n",
       "      <td>2.720000</td>\n",
       "      <td>0.220000</td>\n",
       "      <td>8.000000</td>\n",
       "      <td>0.000000</td>\n",
       "    </tr>\n",
       "    <tr>\n",
       "      <th>25%</th>\n",
       "      <td>6.300000</td>\n",
       "      <td>0.210000</td>\n",
       "      <td>0.270000</td>\n",
       "      <td>1.700000</td>\n",
       "      <td>0.036000</td>\n",
       "      <td>23.000000</td>\n",
       "      <td>108.000000</td>\n",
       "      <td>0.991720</td>\n",
       "      <td>3.090000</td>\n",
       "      <td>0.410000</td>\n",
       "      <td>9.500000</td>\n",
       "      <td>0.000000</td>\n",
       "    </tr>\n",
       "    <tr>\n",
       "      <th>50%</th>\n",
       "      <td>6.800000</td>\n",
       "      <td>0.260000</td>\n",
       "      <td>0.320000</td>\n",
       "      <td>5.200000</td>\n",
       "      <td>0.043000</td>\n",
       "      <td>34.000000</td>\n",
       "      <td>134.000000</td>\n",
       "      <td>0.993735</td>\n",
       "      <td>3.180000</td>\n",
       "      <td>0.470000</td>\n",
       "      <td>10.400000</td>\n",
       "      <td>1.000000</td>\n",
       "    </tr>\n",
       "    <tr>\n",
       "      <th>75%</th>\n",
       "      <td>7.300000</td>\n",
       "      <td>0.320000</td>\n",
       "      <td>0.390000</td>\n",
       "      <td>9.900000</td>\n",
       "      <td>0.050000</td>\n",
       "      <td>46.000000</td>\n",
       "      <td>167.000000</td>\n",
       "      <td>0.996100</td>\n",
       "      <td>3.280000</td>\n",
       "      <td>0.550000</td>\n",
       "      <td>11.400000</td>\n",
       "      <td>1.000000</td>\n",
       "    </tr>\n",
       "    <tr>\n",
       "      <th>max</th>\n",
       "      <td>14.200000</td>\n",
       "      <td>1.100000</td>\n",
       "      <td>1.660000</td>\n",
       "      <td>65.800000</td>\n",
       "      <td>0.346000</td>\n",
       "      <td>289.000000</td>\n",
       "      <td>440.000000</td>\n",
       "      <td>1.038980</td>\n",
       "      <td>3.820000</td>\n",
       "      <td>1.080000</td>\n",
       "      <td>14.200000</td>\n",
       "      <td>1.000000</td>\n",
       "    </tr>\n",
       "  </tbody>\n",
       "</table>\n",
       "</div>"
      ],
      "text/plain": [
       "       fixed acidity  volatile acidity  citric acid  residual sugar  \\\n",
       "count    4870.000000       4870.000000  4870.000000     4870.000000   \n",
       "mean        6.855123          0.278071     0.334199        6.394343   \n",
       "std         0.843444          0.100528     0.120915        5.070853   \n",
       "min         3.800000          0.080000     0.000000        0.600000   \n",
       "25%         6.300000          0.210000     0.270000        1.700000   \n",
       "50%         6.800000          0.260000     0.320000        5.200000   \n",
       "75%         7.300000          0.320000     0.390000        9.900000   \n",
       "max        14.200000          1.100000     1.660000       65.800000   \n",
       "\n",
       "         chlorides  free sulfur dioxide  total sulfur dioxide      density  \\\n",
       "count  4870.000000          4870.000000           4870.000000  4870.000000   \n",
       "mean      0.045771            35.317146            138.340144     0.994026   \n",
       "std       0.021846            17.012967             42.490515     0.002993   \n",
       "min       0.009000             2.000000              9.000000     0.987110   \n",
       "25%       0.036000            23.000000            108.000000     0.991720   \n",
       "50%       0.043000            34.000000            134.000000     0.993735   \n",
       "75%       0.050000            46.000000            167.000000     0.996100   \n",
       "max       0.346000           289.000000            440.000000     1.038980   \n",
       "\n",
       "                pH    sulphates      alcohol         apto  \n",
       "count  4870.000000  4870.000000  4870.000000  4870.000000  \n",
       "mean      3.188154     0.489700    10.516772     0.665298  \n",
       "std       0.150902     0.114196     1.231251     0.471935  \n",
       "min       2.720000     0.220000     8.000000     0.000000  \n",
       "25%       3.090000     0.410000     9.500000     0.000000  \n",
       "50%       3.180000     0.470000    10.400000     1.000000  \n",
       "75%       3.280000     0.550000    11.400000     1.000000  \n",
       "max       3.820000     1.080000    14.200000     1.000000  "
      ]
     },
     "execution_count": 103,
     "metadata": {},
     "output_type": "execute_result"
    }
   ],
   "source": [
    "blanco.describe()"
   ]
  },
  {
   "cell_type": "code",
   "execution_count": null,
   "metadata": {},
   "outputs": [],
   "source": []
  }
 ],
 "metadata": {
  "kernelspec": {
   "display_name": "Python 3.7.4 64-bit",
   "language": "python",
   "name": "python3"
  },
  "language_info": {
   "codemirror_mode": {
    "name": "ipython",
    "version": 3
   },
   "file_extension": ".py",
   "mimetype": "text/x-python",
   "name": "python",
   "nbconvert_exporter": "python",
   "pygments_lexer": "ipython3",
   "version": "3.7.4"
  },
  "orig_nbformat": 4,
  "vscode": {
   "interpreter": {
    "hash": "703e8db34bb7cdd00b82a89d91d2e2137d3ce887601c5554b79c7f8766c7193f"
   }
  }
 },
 "nbformat": 4,
 "nbformat_minor": 2
}
