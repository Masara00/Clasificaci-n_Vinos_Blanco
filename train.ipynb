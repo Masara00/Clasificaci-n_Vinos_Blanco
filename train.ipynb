{
 "cells": [
  {
   "cell_type": "code",
   "execution_count": 1,
   "metadata": {},
   "outputs": [],
   "source": [
    "# LIBRERIAS\n",
    "import numpy as np\n",
    "import pandas as pd\n",
    "import seaborn as sns\n",
    "import matplotlib.pyplot as plt\n",
    "# Modelos\n",
    "from sklearn.linear_model import LogisticRegression\n",
    "from sklearn.svm import SVC\n",
    "from sklearn.neighbors import KNeighborsClassifier\n",
    "from sklearn.ensemble import RandomForestClassifier, GradientBoostingClassifier\n",
    "from sklearn.tree import DecisionTreeClassifier  \n",
    "from sklearn.ensemble import AdaBoostClassifier \n",
    "# ------------------\n",
    "# Pipeline\n",
    "from sklearn.pipeline import Pipeline\n",
    "# ------------------\n",
    "# Métricas de validación\n",
    "from sklearn.model_selection import cross_val_score\n",
    "from sklearn.metrics import accuracy_score, precision_score, recall_score, roc_auc_score\n",
    "# ------------------\n",
    "# GridSearch\n",
    "from sklearn.model_selection import GridSearchCV\n",
    "# ------------------\n",
    "# Balanceo\n",
    "from imblearn.over_sampling import RandomOverSampler, SMOTE\n",
    "from imblearn.under_sampling import RandomUnderSampler\n",
    "from imblearn.combine import SMOTETomek\n",
    "# ------------------\n",
    "# Otras\n",
    "from sklearn.preprocessing import StandardScaler\n",
    "from sklearn.feature_selection import SelectKBest\n",
    "from sklearn.metrics import classification_report, confusion_matrix\n",
    "from sklearn.model_selection import train_test_split\n",
    "# ------------------\n",
    "# Pickle\n",
    "import pickle"
   ]
  },
  {
   "cell_type": "code",
   "execution_count": 2,
   "metadata": {},
   "outputs": [],
   "source": [
    "# Cargar datos Train y Test\n",
    "X_train = pd.read_csv('data/X_train.csv',index_col=0)\n",
    "y_train = pd.read_csv('data/y_train.csv',index_col=0)\n",
    "X_test = pd.read_csv('data/X_test.csv',index_col=0)\n",
    "y_test = pd.read_csv('data/y_test.csv',index_col=0)\n",
    "\n",
    "# Cargar Modelo\n",
    "with open('my_model.model', \"rb\") as archivo_entrada:\n",
    "    my_model = pickle.load(archivo_entrada)    \n",
    "print(my_model)"
   ]
  },
  {
   "cell_type": "code",
   "execution_count": 4,
   "metadata": {},
   "outputs": [
    {
     "name": "stdout",
     "output_type": "stream",
     "text": [
      "Accuracy Score 0.9433805162364696 \n",
      " --------------------------------------------------\n",
      "Confusion Matrix \n",
      " [[591  10]\n",
      " [ 58 542]] \n",
      " --------------------------------------------------\n"
     ]
    },
    {
     "data": {
      "image/png": "[encoded data removed]",
      "text/plain": [
       "<Figure size 432x288 with 2 Axes>"
      ]
     },
     "metadata": {
      "needs_background": "light"
     },
     "output_type": "display_data"
    }
   ],
   "source": [
    "# PREDICCIÓN\n",
    "y_pred = my_model.predict(X_test)\n",
    "print('Accuracy Score', accuracy_score(y_test, y_pred), '\\n','-'*50)\n",
    "print('Confusion Matrix \\n', confusion_matrix(y_test,y_pred), '\\n','-'*50)\n",
    "sns.heatmap(confusion_matrix(y_test,y_pred, normalize='true'), annot=True);"
   ]
  }
 ],
 "metadata": {
  "kernelspec": {
   "display_name": "Python 3.7.4 64-bit",
   "language": "python",
   "name": "python3"
  },
  "language_info": {
   "codemirror_mode": {
    "name": "ipython",
    "version": 3
   },
   "file_extension": ".py",
   "mimetype": "text/x-python",
   "name": "python",
   "nbconvert_exporter": "python",
   "pygments_lexer": "ipython3",
   "version": "3.7.4"
  },
  "orig_nbformat": 4,
  "vscode": {
   "interpreter": {
    "hash": "703e8db34bb7cdd00b82a89d91d2e2137d3ce887601c5554b79c7f8766c7193f"
   }
  }
 },
 "nbformat": 4,
 "nbformat_minor": 2
}
